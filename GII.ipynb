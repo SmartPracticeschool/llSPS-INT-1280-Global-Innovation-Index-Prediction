{
 "cells": [
  {
   "cell_type": "markdown",
   "metadata": {},
   "source": [
    "# Importing Libraries"
   ]
  },
  {
   "cell_type": "code",
   "execution_count": 1,
   "metadata": {},
   "outputs": [
    {
     "data": {
      "text/html": [
       "        <script type=\"text/javascript\">\n",
       "        window.PlotlyConfig = {MathJaxConfig: 'local'};\n",
       "        if (window.MathJax) {MathJax.Hub.Config({SVG: {font: \"STIX-Web\"}});}\n",
       "        if (typeof require !== 'undefined') {\n",
       "        require.undef(\"plotly\");\n",
       "        requirejs.config({\n",
       "            paths: {\n",
       "                'plotly': ['https://cdn.plot.ly/plotly-latest.min']\n",
       "            }\n",
       "        });\n",
       "        require(['plotly'], function(Plotly) {\n",
       "            window._Plotly = Plotly;\n",
       "        });\n",
       "        }\n",
       "        </script>\n",
       "        "
      ]
     },
     "metadata": {},
     "output_type": "display_data"
    }
   ],
   "source": [
    "# modules we'll use\n",
    "import pandas as pd #linear algebra\n",
    "import numpy as np\n",
    "\n",
    "# for Box-Cox Transformation\n",
    "from scipy import stats\n",
    "\n",
    "# plotting modules\n",
    "import seaborn as sns\n",
    "import matplotlib.pyplot as plt\n",
    "\n",
    "# set seed for reproducibility\n",
    "np.random.seed(0)\n",
    "\n",
    "from scipy.stats import norm\n",
    "import plotly as py\n",
    "from plotly.offline import init_notebook_mode,iplot\n",
    "init_notebook_mode(connected=True)\n",
    "import plotly.graph_objs as go\n",
    "from plotly.tools import FigureFactory as ff\n",
    "from PIL import Image\n",
    "import warnings\n",
    "warnings.filterwarnings(\"ignore\")\n",
    "import os\n",
    "os.chdir(\"C:/Users/JAHNAVI DEVI/Downloads/hfi_cc_2018\")"
   ]
  },
  {
   "cell_type": "markdown",
   "metadata": {},
   "source": [
    "# Importing dataset"
   ]
  },
  {
   "cell_type": "code",
   "execution_count": 2,
   "metadata": {},
   "outputs": [
    {
     "data": {
      "text/html": [
       "<div>\n",
       "<style scoped>\n",
       "    .dataframe tbody tr th:only-of-type {\n",
       "        vertical-align: middle;\n",
       "    }\n",
       "\n",
       "    .dataframe tbody tr th {\n",
       "        vertical-align: top;\n",
       "    }\n",
       "\n",
       "    .dataframe thead th {\n",
       "        text-align: right;\n",
       "    }\n",
       "</style>\n",
       "<table border=\"1\" class=\"dataframe\">\n",
       "  <thead>\n",
       "    <tr style=\"text-align: right;\">\n",
       "      <th></th>\n",
       "      <th>year</th>\n",
       "      <th>ISO_code</th>\n",
       "      <th>countries</th>\n",
       "      <th>region</th>\n",
       "      <th>pf_rol_procedural</th>\n",
       "      <th>pf_rol_civil</th>\n",
       "      <th>pf_rol_criminal</th>\n",
       "      <th>pf_rol</th>\n",
       "      <th>pf_ss_homicide</th>\n",
       "      <th>pf_ss_disappearances_disap</th>\n",
       "      <th>...</th>\n",
       "      <th>ef_regulation_business_bribes</th>\n",
       "      <th>ef_regulation_business_licensing</th>\n",
       "      <th>ef_regulation_business_compliance</th>\n",
       "      <th>ef_regulation_business</th>\n",
       "      <th>ef_regulation</th>\n",
       "      <th>ef_score</th>\n",
       "      <th>ef_rank</th>\n",
       "      <th>hf_score</th>\n",
       "      <th>hf_rank</th>\n",
       "      <th>hf_quartile</th>\n",
       "    </tr>\n",
       "  </thead>\n",
       "  <tbody>\n",
       "    <tr>\n",
       "      <th>0</th>\n",
       "      <td>2016</td>\n",
       "      <td>ALB</td>\n",
       "      <td>Albania</td>\n",
       "      <td>Eastern Europe</td>\n",
       "      <td>6.661503</td>\n",
       "      <td>4.547244</td>\n",
       "      <td>4.666508</td>\n",
       "      <td>5.291752</td>\n",
       "      <td>8.920429</td>\n",
       "      <td>10.0</td>\n",
       "      <td>...</td>\n",
       "      <td>4.050196</td>\n",
       "      <td>7.324582</td>\n",
       "      <td>7.074366</td>\n",
       "      <td>6.705863</td>\n",
       "      <td>6.906901</td>\n",
       "      <td>7.54</td>\n",
       "      <td>34.0</td>\n",
       "      <td>7.568140</td>\n",
       "      <td>48.0</td>\n",
       "      <td>2.0</td>\n",
       "    </tr>\n",
       "    <tr>\n",
       "      <th>1</th>\n",
       "      <td>2016</td>\n",
       "      <td>DZA</td>\n",
       "      <td>Algeria</td>\n",
       "      <td>Middle East &amp; North Africa</td>\n",
       "      <td>NaN</td>\n",
       "      <td>NaN</td>\n",
       "      <td>NaN</td>\n",
       "      <td>3.819566</td>\n",
       "      <td>9.456254</td>\n",
       "      <td>10.0</td>\n",
       "      <td>...</td>\n",
       "      <td>3.765515</td>\n",
       "      <td>8.523503</td>\n",
       "      <td>7.029528</td>\n",
       "      <td>5.676956</td>\n",
       "      <td>5.268992</td>\n",
       "      <td>4.99</td>\n",
       "      <td>159.0</td>\n",
       "      <td>5.135886</td>\n",
       "      <td>155.0</td>\n",
       "      <td>4.0</td>\n",
       "    </tr>\n",
       "    <tr>\n",
       "      <th>2</th>\n",
       "      <td>2016</td>\n",
       "      <td>AGO</td>\n",
       "      <td>Angola</td>\n",
       "      <td>Sub-Saharan Africa</td>\n",
       "      <td>NaN</td>\n",
       "      <td>NaN</td>\n",
       "      <td>NaN</td>\n",
       "      <td>3.451814</td>\n",
       "      <td>8.060260</td>\n",
       "      <td>5.0</td>\n",
       "      <td>...</td>\n",
       "      <td>1.945540</td>\n",
       "      <td>8.096776</td>\n",
       "      <td>6.782923</td>\n",
       "      <td>4.930271</td>\n",
       "      <td>5.518500</td>\n",
       "      <td>5.17</td>\n",
       "      <td>155.0</td>\n",
       "      <td>5.640662</td>\n",
       "      <td>142.0</td>\n",
       "      <td>4.0</td>\n",
       "    </tr>\n",
       "    <tr>\n",
       "      <th>3</th>\n",
       "      <td>2016</td>\n",
       "      <td>ARG</td>\n",
       "      <td>Argentina</td>\n",
       "      <td>Latin America &amp; the Caribbean</td>\n",
       "      <td>7.098483</td>\n",
       "      <td>5.791960</td>\n",
       "      <td>4.343930</td>\n",
       "      <td>5.744791</td>\n",
       "      <td>7.622974</td>\n",
       "      <td>10.0</td>\n",
       "      <td>...</td>\n",
       "      <td>3.260044</td>\n",
       "      <td>5.253411</td>\n",
       "      <td>6.508295</td>\n",
       "      <td>5.535831</td>\n",
       "      <td>5.369019</td>\n",
       "      <td>4.84</td>\n",
       "      <td>160.0</td>\n",
       "      <td>6.469848</td>\n",
       "      <td>107.0</td>\n",
       "      <td>3.0</td>\n",
       "    </tr>\n",
       "    <tr>\n",
       "      <th>4</th>\n",
       "      <td>2016</td>\n",
       "      <td>ARM</td>\n",
       "      <td>Armenia</td>\n",
       "      <td>Caucasus &amp; Central Asia</td>\n",
       "      <td>NaN</td>\n",
       "      <td>NaN</td>\n",
       "      <td>NaN</td>\n",
       "      <td>5.003205</td>\n",
       "      <td>8.808750</td>\n",
       "      <td>10.0</td>\n",
       "      <td>...</td>\n",
       "      <td>4.575152</td>\n",
       "      <td>9.319612</td>\n",
       "      <td>6.491481</td>\n",
       "      <td>6.797530</td>\n",
       "      <td>7.378069</td>\n",
       "      <td>7.57</td>\n",
       "      <td>29.0</td>\n",
       "      <td>7.241402</td>\n",
       "      <td>57.0</td>\n",
       "      <td>2.0</td>\n",
       "    </tr>\n",
       "    <tr>\n",
       "      <th>...</th>\n",
       "      <td>...</td>\n",
       "      <td>...</td>\n",
       "      <td>...</td>\n",
       "      <td>...</td>\n",
       "      <td>...</td>\n",
       "      <td>...</td>\n",
       "      <td>...</td>\n",
       "      <td>...</td>\n",
       "      <td>...</td>\n",
       "      <td>...</td>\n",
       "      <td>...</td>\n",
       "      <td>...</td>\n",
       "      <td>...</td>\n",
       "      <td>...</td>\n",
       "      <td>...</td>\n",
       "      <td>...</td>\n",
       "      <td>...</td>\n",
       "      <td>...</td>\n",
       "      <td>...</td>\n",
       "      <td>...</td>\n",
       "      <td>...</td>\n",
       "    </tr>\n",
       "    <tr>\n",
       "      <th>1453</th>\n",
       "      <td>2008</td>\n",
       "      <td>VEN</td>\n",
       "      <td>Venezuela</td>\n",
       "      <td>Latin America &amp; the Caribbean</td>\n",
       "      <td>3.000000</td>\n",
       "      <td>3.781688</td>\n",
       "      <td>2.369239</td>\n",
       "      <td>3.100000</td>\n",
       "      <td>0.000000</td>\n",
       "      <td>10.0</td>\n",
       "      <td>...</td>\n",
       "      <td>2.784695</td>\n",
       "      <td>4.578318</td>\n",
       "      <td>0.315142</td>\n",
       "      <td>2.864160</td>\n",
       "      <td>4.666936</td>\n",
       "      <td>4.22</td>\n",
       "      <td>140.0</td>\n",
       "      <td>5.257879</td>\n",
       "      <td>136.0</td>\n",
       "      <td>4.0</td>\n",
       "    </tr>\n",
       "    <tr>\n",
       "      <th>1454</th>\n",
       "      <td>2008</td>\n",
       "      <td>VNM</td>\n",
       "      <td>Vietnam</td>\n",
       "      <td>South Asia</td>\n",
       "      <td>6.666667</td>\n",
       "      <td>4.349101</td>\n",
       "      <td>5.694847</td>\n",
       "      <td>5.600000</td>\n",
       "      <td>9.496239</td>\n",
       "      <td>5.0</td>\n",
       "      <td>...</td>\n",
       "      <td>3.626593</td>\n",
       "      <td>7.306074</td>\n",
       "      <td>0.000000</td>\n",
       "      <td>4.574683</td>\n",
       "      <td>6.307577</td>\n",
       "      <td>6.19</td>\n",
       "      <td>103.0</td>\n",
       "      <td>6.420206</td>\n",
       "      <td>106.0</td>\n",
       "      <td>3.0</td>\n",
       "    </tr>\n",
       "    <tr>\n",
       "      <th>1455</th>\n",
       "      <td>2008</td>\n",
       "      <td>YEM</td>\n",
       "      <td>Yemen, Rep.</td>\n",
       "      <td>Middle East &amp; North Africa</td>\n",
       "      <td>NaN</td>\n",
       "      <td>NaN</td>\n",
       "      <td>NaN</td>\n",
       "      <td>NaN</td>\n",
       "      <td>NaN</td>\n",
       "      <td>NaN</td>\n",
       "      <td>...</td>\n",
       "      <td>NaN</td>\n",
       "      <td>NaN</td>\n",
       "      <td>NaN</td>\n",
       "      <td>NaN</td>\n",
       "      <td>NaN</td>\n",
       "      <td>NaN</td>\n",
       "      <td>NaN</td>\n",
       "      <td>NaN</td>\n",
       "      <td>NaN</td>\n",
       "      <td>NaN</td>\n",
       "    </tr>\n",
       "    <tr>\n",
       "      <th>1456</th>\n",
       "      <td>2008</td>\n",
       "      <td>ZMB</td>\n",
       "      <td>Zambia</td>\n",
       "      <td>Sub-Saharan Africa</td>\n",
       "      <td>4.800000</td>\n",
       "      <td>4.578003</td>\n",
       "      <td>3.688652</td>\n",
       "      <td>4.400000</td>\n",
       "      <td>7.878084</td>\n",
       "      <td>10.0</td>\n",
       "      <td>...</td>\n",
       "      <td>4.585391</td>\n",
       "      <td>5.124436</td>\n",
       "      <td>8.520369</td>\n",
       "      <td>6.681524</td>\n",
       "      <td>6.722175</td>\n",
       "      <td>7.15</td>\n",
       "      <td>57.0</td>\n",
       "      <td>6.647724</td>\n",
       "      <td>95.0</td>\n",
       "      <td>3.0</td>\n",
       "    </tr>\n",
       "    <tr>\n",
       "      <th>1457</th>\n",
       "      <td>2008</td>\n",
       "      <td>ZWE</td>\n",
       "      <td>Zimbabwe</td>\n",
       "      <td>Sub-Saharan Africa</td>\n",
       "      <td>2.700000</td>\n",
       "      <td>3.991582</td>\n",
       "      <td>4.327660</td>\n",
       "      <td>3.700000</td>\n",
       "      <td>7.981019</td>\n",
       "      <td>0.0</td>\n",
       "      <td>...</td>\n",
       "      <td>4.423866</td>\n",
       "      <td>0.000000</td>\n",
       "      <td>6.973482</td>\n",
       "      <td>3.369110</td>\n",
       "      <td>4.488892</td>\n",
       "      <td>4.55</td>\n",
       "      <td>138.0</td>\n",
       "      <td>4.935571</td>\n",
       "      <td>140.0</td>\n",
       "      <td>4.0</td>\n",
       "    </tr>\n",
       "  </tbody>\n",
       "</table>\n",
       "<p>1458 rows × 123 columns</p>\n",
       "</div>"
      ],
      "text/plain": [
       "      year ISO_code    countries                         region  \\\n",
       "0     2016      ALB      Albania                 Eastern Europe   \n",
       "1     2016      DZA      Algeria     Middle East & North Africa   \n",
       "2     2016      AGO       Angola             Sub-Saharan Africa   \n",
       "3     2016      ARG    Argentina  Latin America & the Caribbean   \n",
       "4     2016      ARM      Armenia        Caucasus & Central Asia   \n",
       "...    ...      ...          ...                            ...   \n",
       "1453  2008      VEN    Venezuela  Latin America & the Caribbean   \n",
       "1454  2008      VNM      Vietnam                     South Asia   \n",
       "1455  2008      YEM  Yemen, Rep.     Middle East & North Africa   \n",
       "1456  2008      ZMB       Zambia             Sub-Saharan Africa   \n",
       "1457  2008      ZWE     Zimbabwe             Sub-Saharan Africa   \n",
       "\n",
       "      pf_rol_procedural  pf_rol_civil  pf_rol_criminal    pf_rol  \\\n",
       "0              6.661503      4.547244         4.666508  5.291752   \n",
       "1                   NaN           NaN              NaN  3.819566   \n",
       "2                   NaN           NaN              NaN  3.451814   \n",
       "3              7.098483      5.791960         4.343930  5.744791   \n",
       "4                   NaN           NaN              NaN  5.003205   \n",
       "...                 ...           ...              ...       ...   \n",
       "1453           3.000000      3.781688         2.369239  3.100000   \n",
       "1454           6.666667      4.349101         5.694847  5.600000   \n",
       "1455                NaN           NaN              NaN       NaN   \n",
       "1456           4.800000      4.578003         3.688652  4.400000   \n",
       "1457           2.700000      3.991582         4.327660  3.700000   \n",
       "\n",
       "      pf_ss_homicide  pf_ss_disappearances_disap  ...  \\\n",
       "0           8.920429                        10.0  ...   \n",
       "1           9.456254                        10.0  ...   \n",
       "2           8.060260                         5.0  ...   \n",
       "3           7.622974                        10.0  ...   \n",
       "4           8.808750                        10.0  ...   \n",
       "...              ...                         ...  ...   \n",
       "1453        0.000000                        10.0  ...   \n",
       "1454        9.496239                         5.0  ...   \n",
       "1455             NaN                         NaN  ...   \n",
       "1456        7.878084                        10.0  ...   \n",
       "1457        7.981019                         0.0  ...   \n",
       "\n",
       "      ef_regulation_business_bribes  ef_regulation_business_licensing  \\\n",
       "0                          4.050196                          7.324582   \n",
       "1                          3.765515                          8.523503   \n",
       "2                          1.945540                          8.096776   \n",
       "3                          3.260044                          5.253411   \n",
       "4                          4.575152                          9.319612   \n",
       "...                             ...                               ...   \n",
       "1453                       2.784695                          4.578318   \n",
       "1454                       3.626593                          7.306074   \n",
       "1455                            NaN                               NaN   \n",
       "1456                       4.585391                          5.124436   \n",
       "1457                       4.423866                          0.000000   \n",
       "\n",
       "      ef_regulation_business_compliance  ef_regulation_business  \\\n",
       "0                              7.074366                6.705863   \n",
       "1                              7.029528                5.676956   \n",
       "2                              6.782923                4.930271   \n",
       "3                              6.508295                5.535831   \n",
       "4                              6.491481                6.797530   \n",
       "...                                 ...                     ...   \n",
       "1453                           0.315142                2.864160   \n",
       "1454                           0.000000                4.574683   \n",
       "1455                                NaN                     NaN   \n",
       "1456                           8.520369                6.681524   \n",
       "1457                           6.973482                3.369110   \n",
       "\n",
       "      ef_regulation  ef_score  ef_rank  hf_score  hf_rank  hf_quartile  \n",
       "0          6.906901      7.54     34.0  7.568140     48.0          2.0  \n",
       "1          5.268992      4.99    159.0  5.135886    155.0          4.0  \n",
       "2          5.518500      5.17    155.0  5.640662    142.0          4.0  \n",
       "3          5.369019      4.84    160.0  6.469848    107.0          3.0  \n",
       "4          7.378069      7.57     29.0  7.241402     57.0          2.0  \n",
       "...             ...       ...      ...       ...      ...          ...  \n",
       "1453       4.666936      4.22    140.0  5.257879    136.0          4.0  \n",
       "1454       6.307577      6.19    103.0  6.420206    106.0          3.0  \n",
       "1455            NaN       NaN      NaN       NaN      NaN          NaN  \n",
       "1456       6.722175      7.15     57.0  6.647724     95.0          3.0  \n",
       "1457       4.488892      4.55    138.0  4.935571    140.0          4.0  \n",
       "\n",
       "[1458 rows x 123 columns]"
      ]
     },
     "execution_count": 2,
     "metadata": {},
     "output_type": "execute_result"
    }
   ],
   "source": [
    "data = pd.read_csv(\"hfi_cc_2018.csv\")\n",
    "data"
   ]
  },
  {
   "cell_type": "code",
   "execution_count": 3,
   "metadata": {},
   "outputs": [
    {
     "data": {
      "text/html": [
       "<div>\n",
       "<style scoped>\n",
       "    .dataframe tbody tr th:only-of-type {\n",
       "        vertical-align: middle;\n",
       "    }\n",
       "\n",
       "    .dataframe tbody tr th {\n",
       "        vertical-align: top;\n",
       "    }\n",
       "\n",
       "    .dataframe thead th {\n",
       "        text-align: right;\n",
       "    }\n",
       "</style>\n",
       "<table border=\"1\" class=\"dataframe\">\n",
       "  <thead>\n",
       "    <tr style=\"text-align: right;\">\n",
       "      <th></th>\n",
       "      <th>year</th>\n",
       "      <th>pf_rol_procedural</th>\n",
       "      <th>pf_rol_civil</th>\n",
       "      <th>pf_rol_criminal</th>\n",
       "      <th>pf_rol</th>\n",
       "      <th>pf_ss_homicide</th>\n",
       "      <th>pf_ss_disappearances_disap</th>\n",
       "      <th>pf_ss_disappearances_violent</th>\n",
       "      <th>pf_ss_disappearances_organized</th>\n",
       "      <th>pf_ss_disappearances_fatalities</th>\n",
       "      <th>...</th>\n",
       "      <th>ef_regulation_business_bribes</th>\n",
       "      <th>ef_regulation_business_licensing</th>\n",
       "      <th>ef_regulation_business_compliance</th>\n",
       "      <th>ef_regulation_business</th>\n",
       "      <th>ef_regulation</th>\n",
       "      <th>ef_score</th>\n",
       "      <th>ef_rank</th>\n",
       "      <th>hf_score</th>\n",
       "      <th>hf_rank</th>\n",
       "      <th>hf_quartile</th>\n",
       "    </tr>\n",
       "  </thead>\n",
       "  <tbody>\n",
       "    <tr>\n",
       "      <th>count</th>\n",
       "      <td>1458.000000</td>\n",
       "      <td>880.000000</td>\n",
       "      <td>880.000000</td>\n",
       "      <td>880.000000</td>\n",
       "      <td>1378.000000</td>\n",
       "      <td>1378.000000</td>\n",
       "      <td>1369.000000</td>\n",
       "      <td>1378.000000</td>\n",
       "      <td>1279.000000</td>\n",
       "      <td>1378.000000</td>\n",
       "      <td>...</td>\n",
       "      <td>1283.000000</td>\n",
       "      <td>1357.000000</td>\n",
       "      <td>1368.000000</td>\n",
       "      <td>1374.000000</td>\n",
       "      <td>1378.000000</td>\n",
       "      <td>1378.000000</td>\n",
       "      <td>1378.000000</td>\n",
       "      <td>1378.000000</td>\n",
       "      <td>1378.000000</td>\n",
       "      <td>1378.000000</td>\n",
       "    </tr>\n",
       "    <tr>\n",
       "      <th>mean</th>\n",
       "      <td>2012.000000</td>\n",
       "      <td>5.589355</td>\n",
       "      <td>5.474770</td>\n",
       "      <td>5.044070</td>\n",
       "      <td>5.309641</td>\n",
       "      <td>7.412980</td>\n",
       "      <td>8.341855</td>\n",
       "      <td>9.519458</td>\n",
       "      <td>6.772869</td>\n",
       "      <td>9.584972</td>\n",
       "      <td>...</td>\n",
       "      <td>4.886192</td>\n",
       "      <td>7.698494</td>\n",
       "      <td>6.981858</td>\n",
       "      <td>6.317668</td>\n",
       "      <td>7.019782</td>\n",
       "      <td>6.785610</td>\n",
       "      <td>76.973149</td>\n",
       "      <td>6.993444</td>\n",
       "      <td>77.007983</td>\n",
       "      <td>2.490566</td>\n",
       "    </tr>\n",
       "    <tr>\n",
       "      <th>std</th>\n",
       "      <td>2.582875</td>\n",
       "      <td>2.080957</td>\n",
       "      <td>1.428494</td>\n",
       "      <td>1.724886</td>\n",
       "      <td>1.529310</td>\n",
       "      <td>2.832947</td>\n",
       "      <td>3.225902</td>\n",
       "      <td>1.744673</td>\n",
       "      <td>2.768983</td>\n",
       "      <td>1.559826</td>\n",
       "      <td>...</td>\n",
       "      <td>1.889168</td>\n",
       "      <td>1.728507</td>\n",
       "      <td>1.979200</td>\n",
       "      <td>1.230988</td>\n",
       "      <td>1.027625</td>\n",
       "      <td>0.883601</td>\n",
       "      <td>44.540142</td>\n",
       "      <td>1.025811</td>\n",
       "      <td>44.506549</td>\n",
       "      <td>1.119698</td>\n",
       "    </tr>\n",
       "    <tr>\n",
       "      <th>min</th>\n",
       "      <td>2008.000000</td>\n",
       "      <td>0.000000</td>\n",
       "      <td>0.000000</td>\n",
       "      <td>0.000000</td>\n",
       "      <td>0.000000</td>\n",
       "      <td>0.000000</td>\n",
       "      <td>0.000000</td>\n",
       "      <td>0.000000</td>\n",
       "      <td>0.000000</td>\n",
       "      <td>0.000000</td>\n",
       "      <td>...</td>\n",
       "      <td>0.000000</td>\n",
       "      <td>0.000000</td>\n",
       "      <td>0.000000</td>\n",
       "      <td>2.009841</td>\n",
       "      <td>2.483540</td>\n",
       "      <td>2.880000</td>\n",
       "      <td>1.000000</td>\n",
       "      <td>3.765827</td>\n",
       "      <td>1.000000</td>\n",
       "      <td>1.000000</td>\n",
       "    </tr>\n",
       "    <tr>\n",
       "      <th>25%</th>\n",
       "      <td>2010.000000</td>\n",
       "      <td>4.133333</td>\n",
       "      <td>4.549550</td>\n",
       "      <td>3.789724</td>\n",
       "      <td>4.131746</td>\n",
       "      <td>6.386978</td>\n",
       "      <td>10.000000</td>\n",
       "      <td>10.000000</td>\n",
       "      <td>5.000000</td>\n",
       "      <td>9.942607</td>\n",
       "      <td>...</td>\n",
       "      <td>3.433786</td>\n",
       "      <td>6.874687</td>\n",
       "      <td>6.368178</td>\n",
       "      <td>5.591851</td>\n",
       "      <td>6.429498</td>\n",
       "      <td>6.250000</td>\n",
       "      <td>38.000000</td>\n",
       "      <td>6.336685</td>\n",
       "      <td>39.000000</td>\n",
       "      <td>1.000000</td>\n",
       "    </tr>\n",
       "    <tr>\n",
       "      <th>50%</th>\n",
       "      <td>2012.000000</td>\n",
       "      <td>5.300000</td>\n",
       "      <td>5.300000</td>\n",
       "      <td>4.575189</td>\n",
       "      <td>4.910797</td>\n",
       "      <td>8.638278</td>\n",
       "      <td>10.000000</td>\n",
       "      <td>10.000000</td>\n",
       "      <td>7.500000</td>\n",
       "      <td>10.000000</td>\n",
       "      <td>...</td>\n",
       "      <td>4.418371</td>\n",
       "      <td>8.074161</td>\n",
       "      <td>7.466692</td>\n",
       "      <td>6.265234</td>\n",
       "      <td>7.082075</td>\n",
       "      <td>6.900000</td>\n",
       "      <td>77.000000</td>\n",
       "      <td>6.923840</td>\n",
       "      <td>76.000000</td>\n",
       "      <td>2.000000</td>\n",
       "    </tr>\n",
       "    <tr>\n",
       "      <th>75%</th>\n",
       "      <td>2014.000000</td>\n",
       "      <td>7.389499</td>\n",
       "      <td>6.410975</td>\n",
       "      <td>6.400000</td>\n",
       "      <td>6.513178</td>\n",
       "      <td>9.454402</td>\n",
       "      <td>10.000000</td>\n",
       "      <td>10.000000</td>\n",
       "      <td>10.000000</td>\n",
       "      <td>10.000000</td>\n",
       "      <td>...</td>\n",
       "      <td>6.227978</td>\n",
       "      <td>8.991882</td>\n",
       "      <td>8.209310</td>\n",
       "      <td>7.139718</td>\n",
       "      <td>7.720955</td>\n",
       "      <td>7.410000</td>\n",
       "      <td>115.000000</td>\n",
       "      <td>7.894660</td>\n",
       "      <td>115.000000</td>\n",
       "      <td>3.000000</td>\n",
       "    </tr>\n",
       "    <tr>\n",
       "      <th>max</th>\n",
       "      <td>2016.000000</td>\n",
       "      <td>9.700000</td>\n",
       "      <td>8.773533</td>\n",
       "      <td>8.719848</td>\n",
       "      <td>8.723094</td>\n",
       "      <td>9.926568</td>\n",
       "      <td>10.000000</td>\n",
       "      <td>10.000000</td>\n",
       "      <td>10.000000</td>\n",
       "      <td>10.000000</td>\n",
       "      <td>...</td>\n",
       "      <td>9.623811</td>\n",
       "      <td>9.999638</td>\n",
       "      <td>9.865488</td>\n",
       "      <td>9.272600</td>\n",
       "      <td>9.439828</td>\n",
       "      <td>9.190000</td>\n",
       "      <td>162.000000</td>\n",
       "      <td>9.126313</td>\n",
       "      <td>162.000000</td>\n",
       "      <td>4.000000</td>\n",
       "    </tr>\n",
       "  </tbody>\n",
       "</table>\n",
       "<p>8 rows × 120 columns</p>\n",
       "</div>"
      ],
      "text/plain": [
       "              year  pf_rol_procedural  pf_rol_civil  pf_rol_criminal  \\\n",
       "count  1458.000000         880.000000    880.000000       880.000000   \n",
       "mean   2012.000000           5.589355      5.474770         5.044070   \n",
       "std       2.582875           2.080957      1.428494         1.724886   \n",
       "min    2008.000000           0.000000      0.000000         0.000000   \n",
       "25%    2010.000000           4.133333      4.549550         3.789724   \n",
       "50%    2012.000000           5.300000      5.300000         4.575189   \n",
       "75%    2014.000000           7.389499      6.410975         6.400000   \n",
       "max    2016.000000           9.700000      8.773533         8.719848   \n",
       "\n",
       "            pf_rol  pf_ss_homicide  pf_ss_disappearances_disap  \\\n",
       "count  1378.000000     1378.000000                 1369.000000   \n",
       "mean      5.309641        7.412980                    8.341855   \n",
       "std       1.529310        2.832947                    3.225902   \n",
       "min       0.000000        0.000000                    0.000000   \n",
       "25%       4.131746        6.386978                   10.000000   \n",
       "50%       4.910797        8.638278                   10.000000   \n",
       "75%       6.513178        9.454402                   10.000000   \n",
       "max       8.723094        9.926568                   10.000000   \n",
       "\n",
       "       pf_ss_disappearances_violent  pf_ss_disappearances_organized  \\\n",
       "count                   1378.000000                     1279.000000   \n",
       "mean                       9.519458                        6.772869   \n",
       "std                        1.744673                        2.768983   \n",
       "min                        0.000000                        0.000000   \n",
       "25%                       10.000000                        5.000000   \n",
       "50%                       10.000000                        7.500000   \n",
       "75%                       10.000000                       10.000000   \n",
       "max                       10.000000                       10.000000   \n",
       "\n",
       "       pf_ss_disappearances_fatalities  ...  ef_regulation_business_bribes  \\\n",
       "count                      1378.000000  ...                    1283.000000   \n",
       "mean                          9.584972  ...                       4.886192   \n",
       "std                           1.559826  ...                       1.889168   \n",
       "min                           0.000000  ...                       0.000000   \n",
       "25%                           9.942607  ...                       3.433786   \n",
       "50%                          10.000000  ...                       4.418371   \n",
       "75%                          10.000000  ...                       6.227978   \n",
       "max                          10.000000  ...                       9.623811   \n",
       "\n",
       "       ef_regulation_business_licensing  ef_regulation_business_compliance  \\\n",
       "count                       1357.000000                        1368.000000   \n",
       "mean                           7.698494                           6.981858   \n",
       "std                            1.728507                           1.979200   \n",
       "min                            0.000000                           0.000000   \n",
       "25%                            6.874687                           6.368178   \n",
       "50%                            8.074161                           7.466692   \n",
       "75%                            8.991882                           8.209310   \n",
       "max                            9.999638                           9.865488   \n",
       "\n",
       "       ef_regulation_business  ef_regulation     ef_score      ef_rank  \\\n",
       "count             1374.000000    1378.000000  1378.000000  1378.000000   \n",
       "mean                 6.317668       7.019782     6.785610    76.973149   \n",
       "std                  1.230988       1.027625     0.883601    44.540142   \n",
       "min                  2.009841       2.483540     2.880000     1.000000   \n",
       "25%                  5.591851       6.429498     6.250000    38.000000   \n",
       "50%                  6.265234       7.082075     6.900000    77.000000   \n",
       "75%                  7.139718       7.720955     7.410000   115.000000   \n",
       "max                  9.272600       9.439828     9.190000   162.000000   \n",
       "\n",
       "          hf_score      hf_rank  hf_quartile  \n",
       "count  1378.000000  1378.000000  1378.000000  \n",
       "mean      6.993444    77.007983     2.490566  \n",
       "std       1.025811    44.506549     1.119698  \n",
       "min       3.765827     1.000000     1.000000  \n",
       "25%       6.336685    39.000000     1.000000  \n",
       "50%       6.923840    76.000000     2.000000  \n",
       "75%       7.894660   115.000000     3.000000  \n",
       "max       9.126313   162.000000     4.000000  \n",
       "\n",
       "[8 rows x 120 columns]"
      ]
     },
     "execution_count": 3,
     "metadata": {},
     "output_type": "execute_result"
    }
   ],
   "source": [
    "data.describe()"
   ]
  },
  {
   "cell_type": "code",
   "execution_count": 4,
   "metadata": {},
   "outputs": [
    {
     "data": {
      "text/plain": [
       "Index(['year', 'ISO_code', 'countries', 'region', 'pf_rol_procedural',\n",
       "       'pf_rol_civil', 'pf_rol_criminal', 'pf_rol', 'pf_ss_homicide',\n",
       "       'pf_ss_disappearances_disap',\n",
       "       ...\n",
       "       'ef_regulation_business_bribes', 'ef_regulation_business_licensing',\n",
       "       'ef_regulation_business_compliance', 'ef_regulation_business',\n",
       "       'ef_regulation', 'ef_score', 'ef_rank', 'hf_score', 'hf_rank',\n",
       "       'hf_quartile'],\n",
       "      dtype='object', length=123)"
      ]
     },
     "execution_count": 4,
     "metadata": {},
     "output_type": "execute_result"
    }
   ],
   "source": [
    "data.columns"
   ]
  },
  {
   "cell_type": "code",
   "execution_count": 5,
   "metadata": {},
   "outputs": [
    {
     "data": {
      "text/html": [
       "<div>\n",
       "<style scoped>\n",
       "    .dataframe tbody tr th:only-of-type {\n",
       "        vertical-align: middle;\n",
       "    }\n",
       "\n",
       "    .dataframe tbody tr th {\n",
       "        vertical-align: top;\n",
       "    }\n",
       "\n",
       "    .dataframe thead th {\n",
       "        text-align: right;\n",
       "    }\n",
       "</style>\n",
       "<table border=\"1\" class=\"dataframe\">\n",
       "  <thead>\n",
       "    <tr style=\"text-align: right;\">\n",
       "      <th></th>\n",
       "      <th>year</th>\n",
       "      <th>ISO_code</th>\n",
       "      <th>countries</th>\n",
       "      <th>region</th>\n",
       "      <th>pf_rol_procedural</th>\n",
       "      <th>pf_rol_civil</th>\n",
       "      <th>pf_rol_criminal</th>\n",
       "      <th>pf_rol</th>\n",
       "      <th>pf_ss_homicide</th>\n",
       "      <th>pf_ss_disappearances_disap</th>\n",
       "      <th>...</th>\n",
       "      <th>ef_regulation_business_bribes</th>\n",
       "      <th>ef_regulation_business_licensing</th>\n",
       "      <th>ef_regulation_business_compliance</th>\n",
       "      <th>ef_regulation_business</th>\n",
       "      <th>ef_regulation</th>\n",
       "      <th>ef_score</th>\n",
       "      <th>ef_rank</th>\n",
       "      <th>hf_score</th>\n",
       "      <th>hf_rank</th>\n",
       "      <th>hf_quartile</th>\n",
       "    </tr>\n",
       "  </thead>\n",
       "  <tbody>\n",
       "    <tr>\n",
       "      <th>0</th>\n",
       "      <td>2016</td>\n",
       "      <td>ALB</td>\n",
       "      <td>Albania</td>\n",
       "      <td>Eastern Europe</td>\n",
       "      <td>6.661503</td>\n",
       "      <td>4.547244</td>\n",
       "      <td>4.666508</td>\n",
       "      <td>5.291752</td>\n",
       "      <td>8.920429</td>\n",
       "      <td>10.0</td>\n",
       "      <td>...</td>\n",
       "      <td>4.050196</td>\n",
       "      <td>7.324582</td>\n",
       "      <td>7.074366</td>\n",
       "      <td>6.705863</td>\n",
       "      <td>6.906901</td>\n",
       "      <td>7.54</td>\n",
       "      <td>34.0</td>\n",
       "      <td>7.568140</td>\n",
       "      <td>48.0</td>\n",
       "      <td>2.0</td>\n",
       "    </tr>\n",
       "    <tr>\n",
       "      <th>1</th>\n",
       "      <td>2016</td>\n",
       "      <td>DZA</td>\n",
       "      <td>Algeria</td>\n",
       "      <td>Middle East &amp; North Africa</td>\n",
       "      <td>NaN</td>\n",
       "      <td>NaN</td>\n",
       "      <td>NaN</td>\n",
       "      <td>3.819566</td>\n",
       "      <td>9.456254</td>\n",
       "      <td>10.0</td>\n",
       "      <td>...</td>\n",
       "      <td>3.765515</td>\n",
       "      <td>8.523503</td>\n",
       "      <td>7.029528</td>\n",
       "      <td>5.676956</td>\n",
       "      <td>5.268992</td>\n",
       "      <td>4.99</td>\n",
       "      <td>159.0</td>\n",
       "      <td>5.135886</td>\n",
       "      <td>155.0</td>\n",
       "      <td>4.0</td>\n",
       "    </tr>\n",
       "    <tr>\n",
       "      <th>2</th>\n",
       "      <td>2016</td>\n",
       "      <td>AGO</td>\n",
       "      <td>Angola</td>\n",
       "      <td>Sub-Saharan Africa</td>\n",
       "      <td>NaN</td>\n",
       "      <td>NaN</td>\n",
       "      <td>NaN</td>\n",
       "      <td>3.451814</td>\n",
       "      <td>8.060260</td>\n",
       "      <td>5.0</td>\n",
       "      <td>...</td>\n",
       "      <td>1.945540</td>\n",
       "      <td>8.096776</td>\n",
       "      <td>6.782923</td>\n",
       "      <td>4.930271</td>\n",
       "      <td>5.518500</td>\n",
       "      <td>5.17</td>\n",
       "      <td>155.0</td>\n",
       "      <td>5.640662</td>\n",
       "      <td>142.0</td>\n",
       "      <td>4.0</td>\n",
       "    </tr>\n",
       "    <tr>\n",
       "      <th>3</th>\n",
       "      <td>2016</td>\n",
       "      <td>ARG</td>\n",
       "      <td>Argentina</td>\n",
       "      <td>Latin America &amp; the Caribbean</td>\n",
       "      <td>7.098483</td>\n",
       "      <td>5.791960</td>\n",
       "      <td>4.343930</td>\n",
       "      <td>5.744791</td>\n",
       "      <td>7.622974</td>\n",
       "      <td>10.0</td>\n",
       "      <td>...</td>\n",
       "      <td>3.260044</td>\n",
       "      <td>5.253411</td>\n",
       "      <td>6.508295</td>\n",
       "      <td>5.535831</td>\n",
       "      <td>5.369019</td>\n",
       "      <td>4.84</td>\n",
       "      <td>160.0</td>\n",
       "      <td>6.469848</td>\n",
       "      <td>107.0</td>\n",
       "      <td>3.0</td>\n",
       "    </tr>\n",
       "    <tr>\n",
       "      <th>4</th>\n",
       "      <td>2016</td>\n",
       "      <td>ARM</td>\n",
       "      <td>Armenia</td>\n",
       "      <td>Caucasus &amp; Central Asia</td>\n",
       "      <td>NaN</td>\n",
       "      <td>NaN</td>\n",
       "      <td>NaN</td>\n",
       "      <td>5.003205</td>\n",
       "      <td>8.808750</td>\n",
       "      <td>10.0</td>\n",
       "      <td>...</td>\n",
       "      <td>4.575152</td>\n",
       "      <td>9.319612</td>\n",
       "      <td>6.491481</td>\n",
       "      <td>6.797530</td>\n",
       "      <td>7.378069</td>\n",
       "      <td>7.57</td>\n",
       "      <td>29.0</td>\n",
       "      <td>7.241402</td>\n",
       "      <td>57.0</td>\n",
       "      <td>2.0</td>\n",
       "    </tr>\n",
       "    <tr>\n",
       "      <th>5</th>\n",
       "      <td>2016</td>\n",
       "      <td>AUS</td>\n",
       "      <td>Australia</td>\n",
       "      <td>Oceania</td>\n",
       "      <td>8.439110</td>\n",
       "      <td>7.525648</td>\n",
       "      <td>7.364078</td>\n",
       "      <td>7.776279</td>\n",
       "      <td>9.623538</td>\n",
       "      <td>10.0</td>\n",
       "      <td>...</td>\n",
       "      <td>7.238900</td>\n",
       "      <td>8.944387</td>\n",
       "      <td>8.823021</td>\n",
       "      <td>8.121631</td>\n",
       "      <td>8.465526</td>\n",
       "      <td>7.98</td>\n",
       "      <td>10.0</td>\n",
       "      <td>8.582219</td>\n",
       "      <td>4.0</td>\n",
       "      <td>1.0</td>\n",
       "    </tr>\n",
       "    <tr>\n",
       "      <th>6</th>\n",
       "      <td>2016</td>\n",
       "      <td>AUT</td>\n",
       "      <td>Austria</td>\n",
       "      <td>Western Europe</td>\n",
       "      <td>8.969832</td>\n",
       "      <td>7.872188</td>\n",
       "      <td>7.673227</td>\n",
       "      <td>8.171749</td>\n",
       "      <td>9.737912</td>\n",
       "      <td>10.0</td>\n",
       "      <td>...</td>\n",
       "      <td>6.418890</td>\n",
       "      <td>7.296116</td>\n",
       "      <td>8.531578</td>\n",
       "      <td>7.419870</td>\n",
       "      <td>7.371334</td>\n",
       "      <td>7.58</td>\n",
       "      <td>27.0</td>\n",
       "      <td>8.413474</td>\n",
       "      <td>16.0</td>\n",
       "      <td>1.0</td>\n",
       "    </tr>\n",
       "    <tr>\n",
       "      <th>7</th>\n",
       "      <td>2016</td>\n",
       "      <td>AZE</td>\n",
       "      <td>Azerbaijan</td>\n",
       "      <td>Caucasus &amp; Central Asia</td>\n",
       "      <td>NaN</td>\n",
       "      <td>NaN</td>\n",
       "      <td>NaN</td>\n",
       "      <td>4.270861</td>\n",
       "      <td>9.143499</td>\n",
       "      <td>10.0</td>\n",
       "      <td>...</td>\n",
       "      <td>5.353533</td>\n",
       "      <td>6.959699</td>\n",
       "      <td>7.814181</td>\n",
       "      <td>7.080078</td>\n",
       "      <td>6.874880</td>\n",
       "      <td>6.49</td>\n",
       "      <td>106.0</td>\n",
       "      <td>6.083277</td>\n",
       "      <td>130.0</td>\n",
       "      <td>4.0</td>\n",
       "    </tr>\n",
       "    <tr>\n",
       "      <th>8</th>\n",
       "      <td>2016</td>\n",
       "      <td>BHS</td>\n",
       "      <td>Bahamas</td>\n",
       "      <td>Latin America &amp; the Caribbean</td>\n",
       "      <td>6.930835</td>\n",
       "      <td>6.008696</td>\n",
       "      <td>6.262840</td>\n",
       "      <td>6.400790</td>\n",
       "      <td>0.000000</td>\n",
       "      <td>10.0</td>\n",
       "      <td>...</td>\n",
       "      <td>NaN</td>\n",
       "      <td>7.981672</td>\n",
       "      <td>7.388227</td>\n",
       "      <td>7.523034</td>\n",
       "      <td>8.169125</td>\n",
       "      <td>7.34</td>\n",
       "      <td>49.0</td>\n",
       "      <td>7.397269</td>\n",
       "      <td>50.0</td>\n",
       "      <td>2.0</td>\n",
       "    </tr>\n",
       "    <tr>\n",
       "      <th>9</th>\n",
       "      <td>2016</td>\n",
       "      <td>BHR</td>\n",
       "      <td>Bahrain</td>\n",
       "      <td>Middle East &amp; North Africa</td>\n",
       "      <td>NaN</td>\n",
       "      <td>NaN</td>\n",
       "      <td>NaN</td>\n",
       "      <td>5.900339</td>\n",
       "      <td>9.790481</td>\n",
       "      <td>10.0</td>\n",
       "      <td>...</td>\n",
       "      <td>6.596745</td>\n",
       "      <td>8.074670</td>\n",
       "      <td>9.680534</td>\n",
       "      <td>8.018774</td>\n",
       "      <td>7.415786</td>\n",
       "      <td>7.56</td>\n",
       "      <td>30.0</td>\n",
       "      <td>6.848035</td>\n",
       "      <td>75.0</td>\n",
       "      <td>2.0</td>\n",
       "    </tr>\n",
       "  </tbody>\n",
       "</table>\n",
       "<p>10 rows × 123 columns</p>\n",
       "</div>"
      ],
      "text/plain": [
       "   year ISO_code   countries                         region  \\\n",
       "0  2016      ALB     Albania                 Eastern Europe   \n",
       "1  2016      DZA     Algeria     Middle East & North Africa   \n",
       "2  2016      AGO      Angola             Sub-Saharan Africa   \n",
       "3  2016      ARG   Argentina  Latin America & the Caribbean   \n",
       "4  2016      ARM     Armenia        Caucasus & Central Asia   \n",
       "5  2016      AUS   Australia                        Oceania   \n",
       "6  2016      AUT     Austria                 Western Europe   \n",
       "7  2016      AZE  Azerbaijan        Caucasus & Central Asia   \n",
       "8  2016      BHS     Bahamas  Latin America & the Caribbean   \n",
       "9  2016      BHR     Bahrain     Middle East & North Africa   \n",
       "\n",
       "   pf_rol_procedural  pf_rol_civil  pf_rol_criminal    pf_rol  pf_ss_homicide  \\\n",
       "0           6.661503      4.547244         4.666508  5.291752        8.920429   \n",
       "1                NaN           NaN              NaN  3.819566        9.456254   \n",
       "2                NaN           NaN              NaN  3.451814        8.060260   \n",
       "3           7.098483      5.791960         4.343930  5.744791        7.622974   \n",
       "4                NaN           NaN              NaN  5.003205        8.808750   \n",
       "5           8.439110      7.525648         7.364078  7.776279        9.623538   \n",
       "6           8.969832      7.872188         7.673227  8.171749        9.737912   \n",
       "7                NaN           NaN              NaN  4.270861        9.143499   \n",
       "8           6.930835      6.008696         6.262840  6.400790        0.000000   \n",
       "9                NaN           NaN              NaN  5.900339        9.790481   \n",
       "\n",
       "   pf_ss_disappearances_disap  ...  ef_regulation_business_bribes  \\\n",
       "0                        10.0  ...                       4.050196   \n",
       "1                        10.0  ...                       3.765515   \n",
       "2                         5.0  ...                       1.945540   \n",
       "3                        10.0  ...                       3.260044   \n",
       "4                        10.0  ...                       4.575152   \n",
       "5                        10.0  ...                       7.238900   \n",
       "6                        10.0  ...                       6.418890   \n",
       "7                        10.0  ...                       5.353533   \n",
       "8                        10.0  ...                            NaN   \n",
       "9                        10.0  ...                       6.596745   \n",
       "\n",
       "   ef_regulation_business_licensing  ef_regulation_business_compliance  \\\n",
       "0                          7.324582                           7.074366   \n",
       "1                          8.523503                           7.029528   \n",
       "2                          8.096776                           6.782923   \n",
       "3                          5.253411                           6.508295   \n",
       "4                          9.319612                           6.491481   \n",
       "5                          8.944387                           8.823021   \n",
       "6                          7.296116                           8.531578   \n",
       "7                          6.959699                           7.814181   \n",
       "8                          7.981672                           7.388227   \n",
       "9                          8.074670                           9.680534   \n",
       "\n",
       "   ef_regulation_business  ef_regulation  ef_score  ef_rank  hf_score  \\\n",
       "0                6.705863       6.906901      7.54     34.0  7.568140   \n",
       "1                5.676956       5.268992      4.99    159.0  5.135886   \n",
       "2                4.930271       5.518500      5.17    155.0  5.640662   \n",
       "3                5.535831       5.369019      4.84    160.0  6.469848   \n",
       "4                6.797530       7.378069      7.57     29.0  7.241402   \n",
       "5                8.121631       8.465526      7.98     10.0  8.582219   \n",
       "6                7.419870       7.371334      7.58     27.0  8.413474   \n",
       "7                7.080078       6.874880      6.49    106.0  6.083277   \n",
       "8                7.523034       8.169125      7.34     49.0  7.397269   \n",
       "9                8.018774       7.415786      7.56     30.0  6.848035   \n",
       "\n",
       "   hf_rank  hf_quartile  \n",
       "0     48.0          2.0  \n",
       "1    155.0          4.0  \n",
       "2    142.0          4.0  \n",
       "3    107.0          3.0  \n",
       "4     57.0          2.0  \n",
       "5      4.0          1.0  \n",
       "6     16.0          1.0  \n",
       "7    130.0          4.0  \n",
       "8     50.0          2.0  \n",
       "9     75.0          2.0  \n",
       "\n",
       "[10 rows x 123 columns]"
      ]
     },
     "execution_count": 5,
     "metadata": {},
     "output_type": "execute_result"
    }
   ],
   "source": [
    "data.head(10)"
   ]
  },
  {
   "cell_type": "code",
   "execution_count": 6,
   "metadata": {},
   "outputs": [
    {
     "data": {
      "text/html": [
       "<div>\n",
       "<style scoped>\n",
       "    .dataframe tbody tr th:only-of-type {\n",
       "        vertical-align: middle;\n",
       "    }\n",
       "\n",
       "    .dataframe tbody tr th {\n",
       "        vertical-align: top;\n",
       "    }\n",
       "\n",
       "    .dataframe thead th {\n",
       "        text-align: right;\n",
       "    }\n",
       "</style>\n",
       "<table border=\"1\" class=\"dataframe\">\n",
       "  <thead>\n",
       "    <tr style=\"text-align: right;\">\n",
       "      <th></th>\n",
       "      <th>year</th>\n",
       "      <th>pf_rol_procedural</th>\n",
       "      <th>pf_rol_civil</th>\n",
       "      <th>pf_rol_criminal</th>\n",
       "      <th>pf_rol</th>\n",
       "      <th>pf_ss_homicide</th>\n",
       "      <th>pf_ss_disappearances_disap</th>\n",
       "      <th>pf_ss_disappearances_violent</th>\n",
       "      <th>pf_ss_disappearances_organized</th>\n",
       "      <th>pf_ss_disappearances_fatalities</th>\n",
       "      <th>...</th>\n",
       "      <th>ef_regulation_business_bribes</th>\n",
       "      <th>ef_regulation_business_licensing</th>\n",
       "      <th>ef_regulation_business_compliance</th>\n",
       "      <th>ef_regulation_business</th>\n",
       "      <th>ef_regulation</th>\n",
       "      <th>ef_score</th>\n",
       "      <th>ef_rank</th>\n",
       "      <th>hf_score</th>\n",
       "      <th>hf_rank</th>\n",
       "      <th>hf_quartile</th>\n",
       "    </tr>\n",
       "  </thead>\n",
       "  <tbody>\n",
       "    <tr>\n",
       "      <th>count</th>\n",
       "      <td>162.0</td>\n",
       "      <td>105.000000</td>\n",
       "      <td>105.000000</td>\n",
       "      <td>105.000000</td>\n",
       "      <td>162.000000</td>\n",
       "      <td>162.000000</td>\n",
       "      <td>161.000000</td>\n",
       "      <td>162.000000</td>\n",
       "      <td>151.000000</td>\n",
       "      <td>162.000000</td>\n",
       "      <td>...</td>\n",
       "      <td>152.000000</td>\n",
       "      <td>159.000000</td>\n",
       "      <td>162.000000</td>\n",
       "      <td>162.000000</td>\n",
       "      <td>162.000000</td>\n",
       "      <td>162.000000</td>\n",
       "      <td>162.000000</td>\n",
       "      <td>162.000000</td>\n",
       "      <td>162.000000</td>\n",
       "      <td>162.000000</td>\n",
       "    </tr>\n",
       "    <tr>\n",
       "      <th>mean</th>\n",
       "      <td>2016.0</td>\n",
       "      <td>5.461250</td>\n",
       "      <td>5.556446</td>\n",
       "      <td>4.883393</td>\n",
       "      <td>5.107482</td>\n",
       "      <td>7.551068</td>\n",
       "      <td>8.260870</td>\n",
       "      <td>9.405682</td>\n",
       "      <td>6.622517</td>\n",
       "      <td>9.312913</td>\n",
       "      <td>...</td>\n",
       "      <td>4.441983</td>\n",
       "      <td>8.310518</td>\n",
       "      <td>7.282491</td>\n",
       "      <td>6.453951</td>\n",
       "      <td>7.016361</td>\n",
       "      <td>6.795062</td>\n",
       "      <td>81.271605</td>\n",
       "      <td>6.889871</td>\n",
       "      <td>81.179012</td>\n",
       "      <td>2.487654</td>\n",
       "    </tr>\n",
       "    <tr>\n",
       "      <th>std</th>\n",
       "      <td>0.0</td>\n",
       "      <td>2.015249</td>\n",
       "      <td>1.398662</td>\n",
       "      <td>1.621554</td>\n",
       "      <td>1.631116</td>\n",
       "      <td>2.747540</td>\n",
       "      <td>3.319491</td>\n",
       "      <td>2.006818</td>\n",
       "      <td>2.801765</td>\n",
       "      <td>1.986621</td>\n",
       "      <td>...</td>\n",
       "      <td>1.755325</td>\n",
       "      <td>1.149313</td>\n",
       "      <td>1.743219</td>\n",
       "      <td>1.194332</td>\n",
       "      <td>1.029534</td>\n",
       "      <td>0.886026</td>\n",
       "      <td>46.964242</td>\n",
       "      <td>1.079601</td>\n",
       "      <td>46.941076</td>\n",
       "      <td>1.121432</td>\n",
       "    </tr>\n",
       "    <tr>\n",
       "      <th>min</th>\n",
       "      <td>2016.0</td>\n",
       "      <td>1.479799</td>\n",
       "      <td>1.983626</td>\n",
       "      <td>1.429083</td>\n",
       "      <td>1.980355</td>\n",
       "      <td>0.000000</td>\n",
       "      <td>0.000000</td>\n",
       "      <td>0.000000</td>\n",
       "      <td>0.000000</td>\n",
       "      <td>0.000000</td>\n",
       "      <td>...</td>\n",
       "      <td>1.522774</td>\n",
       "      <td>4.990408</td>\n",
       "      <td>0.000000</td>\n",
       "      <td>2.009841</td>\n",
       "      <td>2.483540</td>\n",
       "      <td>2.880000</td>\n",
       "      <td>1.000000</td>\n",
       "      <td>3.765827</td>\n",
       "      <td>1.000000</td>\n",
       "      <td>1.000000</td>\n",
       "    </tr>\n",
       "    <tr>\n",
       "      <th>25%</th>\n",
       "      <td>2016.0</td>\n",
       "      <td>3.894770</td>\n",
       "      <td>4.596152</td>\n",
       "      <td>3.671315</td>\n",
       "      <td>3.957976</td>\n",
       "      <td>6.517914</td>\n",
       "      <td>10.000000</td>\n",
       "      <td>10.000000</td>\n",
       "      <td>5.000000</td>\n",
       "      <td>9.820640</td>\n",
       "      <td>...</td>\n",
       "      <td>3.094571</td>\n",
       "      <td>7.605817</td>\n",
       "      <td>6.897819</td>\n",
       "      <td>5.798775</td>\n",
       "      <td>6.475321</td>\n",
       "      <td>6.260000</td>\n",
       "      <td>41.250000</td>\n",
       "      <td>6.246463</td>\n",
       "      <td>41.250000</td>\n",
       "      <td>1.250000</td>\n",
       "    </tr>\n",
       "    <tr>\n",
       "      <th>50%</th>\n",
       "      <td>2016.0</td>\n",
       "      <td>5.106082</td>\n",
       "      <td>5.328005</td>\n",
       "      <td>4.505767</td>\n",
       "      <td>4.723606</td>\n",
       "      <td>8.706421</td>\n",
       "      <td>10.000000</td>\n",
       "      <td>10.000000</td>\n",
       "      <td>7.500000</td>\n",
       "      <td>10.000000</td>\n",
       "      <td>...</td>\n",
       "      <td>4.018789</td>\n",
       "      <td>8.523503</td>\n",
       "      <td>7.623623</td>\n",
       "      <td>6.385088</td>\n",
       "      <td>7.059939</td>\n",
       "      <td>6.905000</td>\n",
       "      <td>81.500000</td>\n",
       "      <td>6.823996</td>\n",
       "      <td>81.500000</td>\n",
       "      <td>2.000000</td>\n",
       "    </tr>\n",
       "    <tr>\n",
       "      <th>75%</th>\n",
       "      <td>2016.0</td>\n",
       "      <td>6.930835</td>\n",
       "      <td>6.409359</td>\n",
       "      <td>6.028310</td>\n",
       "      <td>6.378635</td>\n",
       "      <td>9.503604</td>\n",
       "      <td>10.000000</td>\n",
       "      <td>10.000000</td>\n",
       "      <td>10.000000</td>\n",
       "      <td>10.000000</td>\n",
       "      <td>...</td>\n",
       "      <td>5.578148</td>\n",
       "      <td>9.196261</td>\n",
       "      <td>8.307392</td>\n",
       "      <td>7.245935</td>\n",
       "      <td>7.713811</td>\n",
       "      <td>7.467500</td>\n",
       "      <td>121.750000</td>\n",
       "      <td>7.771945</td>\n",
       "      <td>121.250000</td>\n",
       "      <td>3.000000</td>\n",
       "    </tr>\n",
       "    <tr>\n",
       "      <th>max</th>\n",
       "      <td>2016.0</td>\n",
       "      <td>9.517962</td>\n",
       "      <td>8.714600</td>\n",
       "      <td>8.464094</td>\n",
       "      <td>8.687101</td>\n",
       "      <td>9.886591</td>\n",
       "      <td>10.000000</td>\n",
       "      <td>10.000000</td>\n",
       "      <td>10.000000</td>\n",
       "      <td>10.000000</td>\n",
       "      <td>...</td>\n",
       "      <td>8.762031</td>\n",
       "      <td>9.995837</td>\n",
       "      <td>9.865488</td>\n",
       "      <td>9.272600</td>\n",
       "      <td>9.439828</td>\n",
       "      <td>8.970000</td>\n",
       "      <td>162.000000</td>\n",
       "      <td>8.887410</td>\n",
       "      <td>162.000000</td>\n",
       "      <td>4.000000</td>\n",
       "    </tr>\n",
       "  </tbody>\n",
       "</table>\n",
       "<p>8 rows × 120 columns</p>\n",
       "</div>"
      ],
      "text/plain": [
       "         year  pf_rol_procedural  pf_rol_civil  pf_rol_criminal      pf_rol  \\\n",
       "count   162.0         105.000000    105.000000       105.000000  162.000000   \n",
       "mean   2016.0           5.461250      5.556446         4.883393    5.107482   \n",
       "std       0.0           2.015249      1.398662         1.621554    1.631116   \n",
       "min    2016.0           1.479799      1.983626         1.429083    1.980355   \n",
       "25%    2016.0           3.894770      4.596152         3.671315    3.957976   \n",
       "50%    2016.0           5.106082      5.328005         4.505767    4.723606   \n",
       "75%    2016.0           6.930835      6.409359         6.028310    6.378635   \n",
       "max    2016.0           9.517962      8.714600         8.464094    8.687101   \n",
       "\n",
       "       pf_ss_homicide  pf_ss_disappearances_disap  \\\n",
       "count      162.000000                  161.000000   \n",
       "mean         7.551068                    8.260870   \n",
       "std          2.747540                    3.319491   \n",
       "min          0.000000                    0.000000   \n",
       "25%          6.517914                   10.000000   \n",
       "50%          8.706421                   10.000000   \n",
       "75%          9.503604                   10.000000   \n",
       "max          9.886591                   10.000000   \n",
       "\n",
       "       pf_ss_disappearances_violent  pf_ss_disappearances_organized  \\\n",
       "count                    162.000000                      151.000000   \n",
       "mean                       9.405682                        6.622517   \n",
       "std                        2.006818                        2.801765   \n",
       "min                        0.000000                        0.000000   \n",
       "25%                       10.000000                        5.000000   \n",
       "50%                       10.000000                        7.500000   \n",
       "75%                       10.000000                       10.000000   \n",
       "max                       10.000000                       10.000000   \n",
       "\n",
       "       pf_ss_disappearances_fatalities  ...  ef_regulation_business_bribes  \\\n",
       "count                       162.000000  ...                     152.000000   \n",
       "mean                          9.312913  ...                       4.441983   \n",
       "std                           1.986621  ...                       1.755325   \n",
       "min                           0.000000  ...                       1.522774   \n",
       "25%                           9.820640  ...                       3.094571   \n",
       "50%                          10.000000  ...                       4.018789   \n",
       "75%                          10.000000  ...                       5.578148   \n",
       "max                          10.000000  ...                       8.762031   \n",
       "\n",
       "       ef_regulation_business_licensing  ef_regulation_business_compliance  \\\n",
       "count                        159.000000                         162.000000   \n",
       "mean                           8.310518                           7.282491   \n",
       "std                            1.149313                           1.743219   \n",
       "min                            4.990408                           0.000000   \n",
       "25%                            7.605817                           6.897819   \n",
       "50%                            8.523503                           7.623623   \n",
       "75%                            9.196261                           8.307392   \n",
       "max                            9.995837                           9.865488   \n",
       "\n",
       "       ef_regulation_business  ef_regulation    ef_score     ef_rank  \\\n",
       "count              162.000000     162.000000  162.000000  162.000000   \n",
       "mean                 6.453951       7.016361    6.795062   81.271605   \n",
       "std                  1.194332       1.029534    0.886026   46.964242   \n",
       "min                  2.009841       2.483540    2.880000    1.000000   \n",
       "25%                  5.798775       6.475321    6.260000   41.250000   \n",
       "50%                  6.385088       7.059939    6.905000   81.500000   \n",
       "75%                  7.245935       7.713811    7.467500  121.750000   \n",
       "max                  9.272600       9.439828    8.970000  162.000000   \n",
       "\n",
       "         hf_score     hf_rank  hf_quartile  \n",
       "count  162.000000  162.000000   162.000000  \n",
       "mean     6.889871   81.179012     2.487654  \n",
       "std      1.079601   46.941076     1.121432  \n",
       "min      3.765827    1.000000     1.000000  \n",
       "25%      6.246463   41.250000     1.250000  \n",
       "50%      6.823996   81.500000     2.000000  \n",
       "75%      7.771945  121.250000     3.000000  \n",
       "max      8.887410  162.000000     4.000000  \n",
       "\n",
       "[8 rows x 120 columns]"
      ]
     },
     "execution_count": 6,
     "metadata": {},
     "output_type": "execute_result"
    }
   ],
   "source": [
    "data_2016 = data.loc[data['year'] == 2016]\n",
    "data_2016.describe()"
   ]
  },
  {
   "cell_type": "code",
   "execution_count": 7,
   "metadata": {},
   "outputs": [
    {
     "data": {
      "text/plain": [
       "count    1378.000000\n",
       "mean        7.201278\n",
       "std         1.374947\n",
       "min         2.166555\n",
       "25%         6.197388\n",
       "50%         7.189009\n",
       "75%         8.449475\n",
       "max         9.568154\n",
       "Name: pf_score, dtype: float64"
      ]
     },
     "execution_count": 7,
     "metadata": {},
     "output_type": "execute_result"
    }
   ],
   "source": [
    "data1 = data['pf_score']\n",
    "data1.describe()"
   ]
  },
  {
   "cell_type": "markdown",
   "metadata": {},
   "source": [
    "Cleaning Null Data and Making columns more recognizable"
   ]
  },
  {
   "cell_type": "code",
   "execution_count": 8,
   "metadata": {},
   "outputs": [
    {
     "data": {
      "text/html": [
       "<div>\n",
       "<style scoped>\n",
       "    .dataframe tbody tr th:only-of-type {\n",
       "        vertical-align: middle;\n",
       "    }\n",
       "\n",
       "    .dataframe tbody tr th {\n",
       "        vertical-align: top;\n",
       "    }\n",
       "\n",
       "    .dataframe thead th {\n",
       "        text-align: right;\n",
       "    }\n",
       "</style>\n",
       "<table border=\"1\" class=\"dataframe\">\n",
       "  <thead>\n",
       "    <tr style=\"text-align: right;\">\n",
       "      <th></th>\n",
       "      <th>year</th>\n",
       "      <th>ISO_code</th>\n",
       "      <th>countries</th>\n",
       "      <th>region</th>\n",
       "      <th>pf_rol_procedural</th>\n",
       "      <th>Civil Justice</th>\n",
       "      <th>pf_rol_criminal</th>\n",
       "      <th>pf_rol</th>\n",
       "      <th>pf_ss_homicide</th>\n",
       "      <th>pf_ss_disappearances_disap</th>\n",
       "      <th>...</th>\n",
       "      <th>ef_regulation_business_bribes</th>\n",
       "      <th>ef_regulation_business_licensing</th>\n",
       "      <th>ef_regulation_business_compliance</th>\n",
       "      <th>ef_regulation_business</th>\n",
       "      <th>ef_regulation</th>\n",
       "      <th>ef_score</th>\n",
       "      <th>ef_rank</th>\n",
       "      <th>hf_score</th>\n",
       "      <th>hf_rank</th>\n",
       "      <th>hf_quartile</th>\n",
       "    </tr>\n",
       "  </thead>\n",
       "  <tbody>\n",
       "    <tr>\n",
       "      <th>0</th>\n",
       "      <td>2016</td>\n",
       "      <td>ALB</td>\n",
       "      <td>Albania</td>\n",
       "      <td>Eastern Europe</td>\n",
       "      <td>6.661503</td>\n",
       "      <td>4.547244</td>\n",
       "      <td>4.666508</td>\n",
       "      <td>5.291752</td>\n",
       "      <td>8.920429</td>\n",
       "      <td>10.0</td>\n",
       "      <td>...</td>\n",
       "      <td>4.050196</td>\n",
       "      <td>7.324582</td>\n",
       "      <td>7.074366</td>\n",
       "      <td>6.705863</td>\n",
       "      <td>6.906901</td>\n",
       "      <td>7.54</td>\n",
       "      <td>34.0</td>\n",
       "      <td>7.568140</td>\n",
       "      <td>48.0</td>\n",
       "      <td>2.0</td>\n",
       "    </tr>\n",
       "    <tr>\n",
       "      <th>1</th>\n",
       "      <td>2016</td>\n",
       "      <td>DZA</td>\n",
       "      <td>Algeria</td>\n",
       "      <td>Middle East &amp; North Africa</td>\n",
       "      <td>NaN</td>\n",
       "      <td>NaN</td>\n",
       "      <td>NaN</td>\n",
       "      <td>3.819566</td>\n",
       "      <td>9.456254</td>\n",
       "      <td>10.0</td>\n",
       "      <td>...</td>\n",
       "      <td>3.765515</td>\n",
       "      <td>8.523503</td>\n",
       "      <td>7.029528</td>\n",
       "      <td>5.676956</td>\n",
       "      <td>5.268992</td>\n",
       "      <td>4.99</td>\n",
       "      <td>159.0</td>\n",
       "      <td>5.135886</td>\n",
       "      <td>155.0</td>\n",
       "      <td>4.0</td>\n",
       "    </tr>\n",
       "    <tr>\n",
       "      <th>2</th>\n",
       "      <td>2016</td>\n",
       "      <td>AGO</td>\n",
       "      <td>Angola</td>\n",
       "      <td>Sub-Saharan Africa</td>\n",
       "      <td>NaN</td>\n",
       "      <td>NaN</td>\n",
       "      <td>NaN</td>\n",
       "      <td>3.451814</td>\n",
       "      <td>8.060260</td>\n",
       "      <td>5.0</td>\n",
       "      <td>...</td>\n",
       "      <td>1.945540</td>\n",
       "      <td>8.096776</td>\n",
       "      <td>6.782923</td>\n",
       "      <td>4.930271</td>\n",
       "      <td>5.518500</td>\n",
       "      <td>5.17</td>\n",
       "      <td>155.0</td>\n",
       "      <td>5.640662</td>\n",
       "      <td>142.0</td>\n",
       "      <td>4.0</td>\n",
       "    </tr>\n",
       "    <tr>\n",
       "      <th>3</th>\n",
       "      <td>2016</td>\n",
       "      <td>ARG</td>\n",
       "      <td>Argentina</td>\n",
       "      <td>Latin America &amp; the Caribbean</td>\n",
       "      <td>7.098483</td>\n",
       "      <td>5.791960</td>\n",
       "      <td>4.343930</td>\n",
       "      <td>5.744791</td>\n",
       "      <td>7.622974</td>\n",
       "      <td>10.0</td>\n",
       "      <td>...</td>\n",
       "      <td>3.260044</td>\n",
       "      <td>5.253411</td>\n",
       "      <td>6.508295</td>\n",
       "      <td>5.535831</td>\n",
       "      <td>5.369019</td>\n",
       "      <td>4.84</td>\n",
       "      <td>160.0</td>\n",
       "      <td>6.469848</td>\n",
       "      <td>107.0</td>\n",
       "      <td>3.0</td>\n",
       "    </tr>\n",
       "    <tr>\n",
       "      <th>4</th>\n",
       "      <td>2016</td>\n",
       "      <td>ARM</td>\n",
       "      <td>Armenia</td>\n",
       "      <td>Caucasus &amp; Central Asia</td>\n",
       "      <td>NaN</td>\n",
       "      <td>NaN</td>\n",
       "      <td>NaN</td>\n",
       "      <td>5.003205</td>\n",
       "      <td>8.808750</td>\n",
       "      <td>10.0</td>\n",
       "      <td>...</td>\n",
       "      <td>4.575152</td>\n",
       "      <td>9.319612</td>\n",
       "      <td>6.491481</td>\n",
       "      <td>6.797530</td>\n",
       "      <td>7.378069</td>\n",
       "      <td>7.57</td>\n",
       "      <td>29.0</td>\n",
       "      <td>7.241402</td>\n",
       "      <td>57.0</td>\n",
       "      <td>2.0</td>\n",
       "    </tr>\n",
       "  </tbody>\n",
       "</table>\n",
       "<p>5 rows × 123 columns</p>\n",
       "</div>"
      ],
      "text/plain": [
       "   year ISO_code  countries                         region  pf_rol_procedural  \\\n",
       "0  2016      ALB    Albania                 Eastern Europe           6.661503   \n",
       "1  2016      DZA    Algeria     Middle East & North Africa                NaN   \n",
       "2  2016      AGO     Angola             Sub-Saharan Africa                NaN   \n",
       "3  2016      ARG  Argentina  Latin America & the Caribbean           7.098483   \n",
       "4  2016      ARM    Armenia        Caucasus & Central Asia                NaN   \n",
       "\n",
       "   Civil Justice  pf_rol_criminal    pf_rol  pf_ss_homicide  \\\n",
       "0       4.547244         4.666508  5.291752        8.920429   \n",
       "1            NaN              NaN  3.819566        9.456254   \n",
       "2            NaN              NaN  3.451814        8.060260   \n",
       "3       5.791960         4.343930  5.744791        7.622974   \n",
       "4            NaN              NaN  5.003205        8.808750   \n",
       "\n",
       "   pf_ss_disappearances_disap  ...  ef_regulation_business_bribes  \\\n",
       "0                        10.0  ...                       4.050196   \n",
       "1                        10.0  ...                       3.765515   \n",
       "2                         5.0  ...                       1.945540   \n",
       "3                        10.0  ...                       3.260044   \n",
       "4                        10.0  ...                       4.575152   \n",
       "\n",
       "   ef_regulation_business_licensing  ef_regulation_business_compliance  \\\n",
       "0                          7.324582                           7.074366   \n",
       "1                          8.523503                           7.029528   \n",
       "2                          8.096776                           6.782923   \n",
       "3                          5.253411                           6.508295   \n",
       "4                          9.319612                           6.491481   \n",
       "\n",
       "   ef_regulation_business  ef_regulation  ef_score  ef_rank  hf_score  \\\n",
       "0                6.705863       6.906901      7.54     34.0  7.568140   \n",
       "1                5.676956       5.268992      4.99    159.0  5.135886   \n",
       "2                4.930271       5.518500      5.17    155.0  5.640662   \n",
       "3                5.535831       5.369019      4.84    160.0  6.469848   \n",
       "4                6.797530       7.378069      7.57     29.0  7.241402   \n",
       "\n",
       "   hf_rank  hf_quartile  \n",
       "0     48.0          2.0  \n",
       "1    155.0          4.0  \n",
       "2    142.0          4.0  \n",
       "3    107.0          3.0  \n",
       "4     57.0          2.0  \n",
       "\n",
       "[5 rows x 123 columns]"
      ]
     },
     "execution_count": 8,
     "metadata": {},
     "output_type": "execute_result"
    }
   ],
   "source": [
    "data_2016 = data_2016.loc[:, (data_2016.isnull().sum(axis=0) <= 1242)]\n",
    "\n",
    "# Rename the columns for a better undestanding\n",
    "data_2016.rename(columns={\"pf_score\": \"Personal Freedom Score\",\n",
    "                     \"pf_ss\": \"Security\",\n",
    "                     \"pf_expression\": \"Freedom_of_Expression\",\n",
    "                     \"pf_religion\": \"Freedom of Religion\",\n",
    "                     \"pf_rol_civil\": \"Civil Justice\",\n",
    "                     \"ef_government\": \"Size of Government\", \n",
    "                     \"ef_legal\": \"Legal System and Property Rights\",\n",
    "                     \"ef_money\": \"Sound Money\",\n",
    "                     \"ef_trade\": \"Freedom to Trade Internationally\"}, inplace=True)\n",
    "data_2016.head()"
   ]
  },
  {
   "cell_type": "markdown",
   "metadata": {},
   "source": [
    "# Histograms displaying the distribution of personal, human, and economic freedom scores"
   ]
  },
  {
   "cell_type": "code",
   "execution_count": 9,
   "metadata": {},
   "outputs": [
    {
     "data": {
      "image/png": "[encoded data removed]",
      "text/plain": [
       "<Figure size 432x288 with 1 Axes>"
      ]
     },
     "metadata": {
      "needs_background": "light"
     },
     "output_type": "display_data"
    }
   ],
   "source": [
    "sns.distplot(data_2016['Personal Freedom Score'], fit = norm, color = 'blue');"
   ]
  },
  {
   "cell_type": "markdown",
   "metadata": {},
   "source": [
    "Personal Freedom data appears bimodel and slightly skewed to the left."
   ]
  },
  {
   "cell_type": "code",
   "execution_count": 10,
   "metadata": {},
   "outputs": [
    {
     "data": {
      "image/png": "[encoded data removed]",
      "text/plain": [
       "<Figure size 432x288 with 1 Axes>"
      ]
     },
     "metadata": {
      "needs_background": "light"
     },
     "output_type": "display_data"
    }
   ],
   "source": [
    "sns.distplot(data_2016['hf_score'], fit = norm, color = '#2980b9');"
   ]
  },
  {
   "cell_type": "markdown",
   "metadata": {},
   "source": [
    "Human Freedom data appears unimodel and skewed to the left."
   ]
  },
  {
   "cell_type": "code",
   "execution_count": 11,
   "metadata": {},
   "outputs": [
    {
     "data": {
      "image/png": "[encoded data removed]",
      "text/plain": [
       "<Figure size 432x288 with 1 Axes>"
      ]
     },
     "metadata": {
      "needs_background": "light"
     },
     "output_type": "display_data"
    }
   ],
   "source": [
    "sns.distplot(data_2016['ef_score'], fit = norm, color = '#3498db');"
   ]
  },
  {
   "cell_type": "markdown",
   "metadata": {},
   "source": [
    "Economic Freedom appears unimodel and skewed to the left"
   ]
  },
  {
   "cell_type": "markdown",
   "metadata": {},
   "source": [
    "# Correlation chart between multiple sections of personal and economic freedom"
   ]
  },
  {
   "cell_type": "code",
   "execution_count": 12,
   "metadata": {},
   "outputs": [
    {
     "data": {
      "image/png": "[encoded data removed]",
      "text/plain": [
       "<Figure size 432x288 with 2 Axes>"
      ]
     },
     "metadata": {
      "needs_background": "light"
     },
     "output_type": "display_data"
    },
    {
     "data": {
      "image/png": "[encoded data removed]",
      "text/plain": [
       "<Figure size 432x288 with 2 Axes>"
      ]
     },
     "metadata": {
      "needs_background": "light"
     },
     "output_type": "display_data"
    }
   ],
   "source": [
    "data2016_corr = data_2016[[\"Personal Freedom Score\", \"Civil Justice\", \"Security\", \"Freedom_of_Expression\", \"Freedom of Religion\"]]\n",
    "sns.heatmap(data2016_corr.corr(), square=True, cmap='Blues')\n",
    "plt.show()\n",
    "data2016_corr = data_2016[[\"ef_score\", \"Size of Government\", \"Legal System and Property Rights\", \"Sound Money\", \"Freedom to Trade Internationally\"]]\n",
    "sns.heatmap(data2016_corr.corr(), square=True, cmap='Blues')\n",
    "plt.show()"
   ]
  },
  {
   "cell_type": "markdown",
   "metadata": {},
   "source": [
    "Based on our correlation chart, freedom of expression appears to be the best indicator of personal freedom, \n",
    "while freedom to trade internationally appears to be the best indicator of Economic Freedom."
   ]
  },
  {
   "cell_type": "markdown",
   "metadata": {},
   "source": [
    "Lets create a correlation matrix to see the relationship between Freedom of Expression and Freedom to trade internationally"
   ]
  },
  {
   "cell_type": "code",
   "execution_count": 13,
   "metadata": {},
   "outputs": [
    {
     "data": {
      "application/vnd.plotly.v1+json": {
       "config": {
        "linkText": "Export to plot.ly",
        "plotlyServerURL": "https://plot.ly",
        "showLink": false
       },
       "data": [
        {
         "marker": {
          "color": "rgb(12, 51, 131)"
         },
         "showlegend": false,
         "type": "box",
         "xaxis": "x",
         "y": [
          8.21489951,
          4.127024823999999,
          5.264754044,
          3.982546906,
          8.143241004,
          7.526720987999999,
          8.106732583,
          7.216524627999999,
          6.685901668,
          7.403403472000001,
          6.039372579,
          7.089900747000001,
          7.175739042000001,
          8.201221562,
          7.050434548999999,
          6.02654585,
          6.332537979,
          6.987042221,
          7.784776849,
          7.679525354,
          7.00029082,
          7.05484304,
          8.122354972,
          6.604145213,
          6.1107701489999995,
          7.324052439,
          5.054770561000001,
          7.929248443,
          7.200721724,
          4.653956787,
          5.1212555669999995,
          8.268563035,
          6.708857694,
          6.810785115,
          5.509702341000001,
          4.883224787,
          8.003561873999999,
          5.480188627,
          8.188139185,
          8.283055903,
          8.234566268,
          8.461507677,
          7.945371294,
          6.499619559,
          5.617447238,
          7.678362506,
          8.434307747,
          5.056479414,
          6.595365957,
          8.232926712000001,
          8.178051059,
          5.6919348770000004,
          7.477258227999999,
          8.563136369,
          8.048442496,
          6.49437524,
          7.678958625,
          8.19393792,
          5.07677247,
          5.735058298999999,
          6.412824587999999,
          7.504084903,
          7.217558726,
          9.32396899,
          7.953706122000001,
          7.161710811,
          5.572692843,
          6.997110677,
          4.5921437119999995,
          5.239557906,
          8.599206441,
          8.211971513,
          8.250625682,
          6.859851664,
          7.495838941000001,
          7.579245331,
          6.522959426,
          6.685544813,
          7.5694569110000005,
          6.8404102689999995,
          7.318966216000001,
          6.830397458999999,
          8.350138737,
          6.815739369,
          6.335844473,
          6.188037156,
          4.76377485,
          8.191708434,
          8.309030967,
          7.956208009,
          6.704622081,
          6.076899619,
          7.537110669,
          6.874991085,
          8.421271575,
          5.939447829,
          8.425298409,
          7.259592913,
          7.458865245,
          6.780282764,
          8.161279127,
          6.931294938,
          6.392158042999999,
          4.967560927,
          6.355514642999999,
          6.635041574,
          8.657087014,
          8.635970883999999,
          7.81743925,
          5.485204757000001,
          5.90423347,
          7.587806425,
          7.707575433,
          5.8268427979999995,
          8.696830031000001,
          7.1956710820000005,
          7.28151234,
          8.226085566,
          7.1272707010000005,
          7.913406255,
          8.376487219,
          7.648646029,
          8.441503074,
          6.838571472000001,
          7.015027267000001,
          5.900602321,
          6.665037837000001,
          7.601756185,
          7.759700046,
          6.0572694060000005,
          9.291176661,
          8.282030666,
          7.8840301760000004,
          6.777461422999999,
          8.050140687999999,
          5.891036906,
          2.877140582,
          7.204704436,
          7.015511083,
          8.198228523,
          7.636967263,
          4.912573675,
          7.729709837000001,
          6.362292909,
          6.206308900000001,
          7.108491872999999,
          7.041435692,
          5.419145767000001,
          7.8411153339999995,
          6.911721762000001,
          7.217832757,
          7.453716468,
          6.5583009389999996,
          8.231247009,
          8.439080331,
          7.653328354,
          7.7931981839999995,
          3.281311445,
          6.27620744,
          6.683847134,
          6.97224652,
          5.56135516
         ],
         "yaxis": "y"
        },
        {
         "marker": {
          "color": [
           1,
           2,
           3,
           4,
           5,
           6,
           7,
           8,
           9,
           10,
           11,
           12,
           13,
           14,
           15,
           16,
           17,
           18,
           19,
           20,
           21,
           22,
           23,
           24,
           25,
           26,
           27,
           28,
           29,
           30,
           31,
           32,
           33,
           34,
           35,
           36,
           37,
           38,
           39,
           40,
           41,
           42,
           43,
           44,
           45,
           46,
           47,
           48,
           49,
           50,
           51,
           52,
           53,
           54,
           55,
           56,
           57,
           58,
           59,
           60,
           61,
           62,
           63,
           64,
           65,
           66,
           67,
           68,
           69,
           70,
           71,
           72,
           73,
           74,
           75,
           76,
           77,
           78,
           79,
           80,
           81,
           82,
           83,
           84,
           85,
           86,
           87,
           88,
           89,
           90,
           91,
           92,
           93,
           94,
           95,
           96,
           97,
           98,
           99,
           100,
           101,
           102,
           103,
           104,
           105,
           106,
           107,
           108,
           109,
           110,
           111,
           112,
           113,
           114,
           115,
           116,
           117,
           118,
           119,
           120,
           121,
           122,
           123,
           124,
           125,
           126,
           127,
           128,
           129,
           130,
           131,
           132,
           133,
           134,
           135,
           136,
           137,
           138,
           139,
           140,
           141,
           142,
           143,
           144,
           145,
           146,
           147,
           148,
           149,
           150,
           151,
           152,
           153,
           154,
           155,
           156,
           157,
           158,
           159,
           160,
           161,
           162
          ],
          "colorscale": [
           [
            0,
            "rgb(12, 51, 131)"
           ],
           [
            1,
            "rgb(217, 30, 30)"
           ]
          ],
          "showscale": true,
          "size": 6
         },
         "mode": "markers",
         "showlegend": false,
         "type": "scatter",
         "x": [
          8.607142857000001,
          7.380952381,
          6.452380952,
          8.738095238,
          7.154761905,
          9.392857142999999,
          9.333333332999999,
          4.70846197,
          8.895833332999999,
          4.130952381,
          7.041990115,
          9.125,
          5.80952381,
          9.75,
          8.520833332999999,
          8.988095238,
          7.25,
          8.416666667000001,
          8.654761905,
          7.8125,
          8.341230646,
          4.55952381,
          8.821428571,
          7.738095238,
          3.202380952,
          7.892857143,
          6.998575821,
          9.511904762,
          8.9375,
          8,
          7.523809524,
          9.154761905,
          5.174910149,
          8.452380952,
          6.703317185,
          6.952380952,
          9.595238095,
          8.654761905,
          8.607142857000001,
          9.452380952,
          9.523809523999999,
          9.69047619,
          8.869047619,
          7.94047619,
          6.46009916,
          7.452380952,
          9.619047619,
          5.252983157,
          7.666666667,
          9.666666667000001,
          9.25,
          6.178571429,
          2.895833333,
          8.630952381,
          9.357142857000001,
          8.75,
          8.738095238,
          7.459933562000001,
          5.788023635,
          7.083333333,
          8.083333332999999,
          8.226190476000001,
          7.964285714,
          8.666666667000001,
          8.821428571,
          9.630952381,
          7.921169544,
          7.523809524,
          5.357636552,
          5.2619047619999995,
          9.5,
          7.948909542999999,
          9.071428571,
          9.535714286000001,
          9.19047619,
          6.595238095,
          6.140106103,
          8.333333332999999,
          8.976190476000001,
          7.464285714,
          6.234615306,
          5.761904762,
          9.380952381,
          8.297619048,
          7.541666667,
          7.208333333,
          4.845238095,
          9.5,
          9.678571429,
          7.845238095,
          8.273809523999999,
          7.8125,
          6.797619048,
          7.869047619,
          9.44047619,
          6.001186054,
          9.357142857000001,
          6.980011482999999,
          7.369047619,
          8.238095238,
          5.229166667,
          7.297619048,
          7.607142857,
          7.544895499,
          8.25,
          6.702380952,
          9.726190476000001,
          9.523809523999999,
          7.047619048,
          5.345238095,
          8.175114352000001,
          9.797619048,
          5.345238095,
          7.087699939,
          8.300639622,
          8.604166667000001,
          8.380952381,
          8.205155728,
          8.204248444,
          8.619047619,
          9.55952381,
          6.964285714,
          9,
          6.146872462,
          6.261904762,
          5.782049842,
          8.25,
          8.535714286000001,
          7.666666667,
          7.25,
          6.133315737999999,
          9.297619048,
          9.428571429,
          8.904761905,
          9.214285713999999,
          7.226190476,
          5.69047619,
          8.520833332999999,
          5.958333333,
          9.726190476000001,
          9.666666667000001,
          1.758817876,
          9.285714286000001,
          4.273809524,
          7.5,
          7.15782646,
          8.395833332999999,
          8.464285713999999,
          8.729166667000001,
          8.017579553,
          3.962095697,
          7.892857143,
          7.099239115,
          6.30952381,
          9.25,
          9.241503522,
          9.357142857000001,
          5.109508378,
          5.843436781,
          3.083333333,
          6.7659861029999995,
          6.65
         ],
         "xaxis": "x2",
         "y": [
          8.21489951,
          4.127024823999999,
          5.264754044,
          3.982546906,
          8.143241004,
          7.526720987999999,
          8.106732583,
          7.216524627999999,
          6.685901668,
          7.403403472000001,
          6.039372579,
          7.089900747000001,
          7.175739042000001,
          8.201221562,
          7.050434548999999,
          6.02654585,
          6.332537979,
          6.987042221,
          7.784776849,
          7.679525354,
          7.00029082,
          7.05484304,
          8.122354972,
          6.604145213,
          6.1107701489999995,
          7.324052439,
          5.054770561000001,
          7.929248443,
          7.200721724,
          4.653956787,
          5.1212555669999995,
          8.268563035,
          6.708857694,
          6.810785115,
          5.509702341000001,
          4.883224787,
          8.003561873999999,
          5.480188627,
          8.188139185,
          8.283055903,
          8.234566268,
          8.461507677,
          7.945371294,
          6.499619559,
          5.617447238,
          7.678362506,
          8.434307747,
          5.056479414,
          6.595365957,
          8.232926712000001,
          8.178051059,
          5.6919348770000004,
          7.477258227999999,
          8.563136369,
          8.048442496,
          6.49437524,
          7.678958625,
          8.19393792,
          5.07677247,
          5.735058298999999,
          6.412824587999999,
          7.504084903,
          7.217558726,
          9.32396899,
          7.953706122000001,
          7.161710811,
          5.572692843,
          6.997110677,
          4.5921437119999995,
          5.239557906,
          8.599206441,
          8.211971513,
          8.250625682,
          6.859851664,
          7.495838941000001,
          7.579245331,
          6.522959426,
          6.685544813,
          7.5694569110000005,
          6.8404102689999995,
          7.318966216000001,
          6.830397458999999,
          8.350138737,
          6.815739369,
          6.335844473,
          6.188037156,
          4.76377485,
          8.191708434,
          8.309030967,
          7.956208009,
          6.704622081,
          6.076899619,
          7.537110669,
          6.874991085,
          8.421271575,
          5.939447829,
          8.425298409,
          7.259592913,
          7.458865245,
          6.780282764,
          8.161279127,
          6.931294938,
          6.392158042999999,
          4.967560927,
          6.355514642999999,
          6.635041574,
          8.657087014,
          8.635970883999999,
          7.81743925,
          5.485204757000001,
          5.90423347,
          7.587806425,
          7.707575433,
          5.8268427979999995,
          8.696830031000001,
          7.1956710820000005,
          7.28151234,
          8.226085566,
          7.1272707010000005,
          7.913406255,
          8.376487219,
          7.648646029,
          8.441503074,
          6.838571472000001,
          7.015027267000001,
          5.900602321,
          6.665037837000001,
          7.601756185,
          7.759700046,
          6.0572694060000005,
          9.291176661,
          8.282030666,
          7.8840301760000004,
          6.777461422999999,
          8.050140687999999,
          5.891036906,
          2.877140582,
          7.204704436,
          7.015511083,
          8.198228523,
          7.636967263,
          4.912573675,
          7.729709837000001,
          6.362292909,
          6.206308900000001,
          7.108491872999999,
          7.041435692,
          5.419145767000001,
          7.8411153339999995,
          6.911721762000001,
          7.217832757,
          7.453716468,
          6.5583009389999996,
          8.231247009,
          8.439080331,
          7.653328354,
          7.7931981839999995,
          3.281311445,
          6.27620744,
          6.683847134,
          6.97224652,
          5.56135516
         ],
         "yaxis": "y2"
        },
        {
         "marker": {
          "color": [
           1,
           2,
           3,
           4,
           5,
           6,
           7,
           8,
           9,
           10,
           11,
           12,
           13,
           14,
           15,
           16,
           17,
           18,
           19,
           20,
           21,
           22,
           23,
           24,
           25,
           26,
           27,
           28,
           29,
           30,
           31,
           32,
           33,
           34,
           35,
           36,
           37,
           38,
           39,
           40,
           41,
           42,
           43,
           44,
           45,
           46,
           47,
           48,
           49,
           50,
           51,
           52,
           53,
           54,
           55,
           56,
           57,
           58,
           59,
           60,
           61,
           62,
           63,
           64,
           65,
           66,
           67,
           68,
           69,
           70,
           71,
           72,
           73,
           74,
           75,
           76,
           77,
           78,
           79,
           80,
           81,
           82,
           83,
           84,
           85,
           86,
           87,
           88,
           89,
           90,
           91,
           92,
           93,
           94,
           95,
           96,
           97,
           98,
           99,
           100,
           101,
           102,
           103,
           104,
           105,
           106,
           107,
           108,
           109,
           110,
           111,
           112,
           113,
           114,
           115,
           116,
           117,
           118,
           119,
           120,
           121,
           122,
           123,
           124,
           125,
           126,
           127,
           128,
           129,
           130,
           131,
           132,
           133,
           134,
           135,
           136,
           137,
           138,
           139,
           140,
           141,
           142,
           143,
           144,
           145,
           146,
           147,
           148,
           149,
           150,
           151,
           152,
           153,
           154,
           155,
           156,
           157,
           158,
           159,
           160,
           161,
           162
          ],
          "colorscale": [
           [
            0,
            "rgb(12, 51, 131)"
           ],
           [
            1,
            "rgb(217, 30, 30)"
           ]
          ],
          "showscale": false,
          "size": 6
         },
         "mode": "markers",
         "showlegend": false,
         "type": "scatter",
         "x": [
          8.21489951,
          4.127024823999999,
          5.264754044,
          3.982546906,
          8.143241004,
          7.526720987999999,
          8.106732583,
          7.216524627999999,
          6.685901668,
          7.403403472000001,
          6.039372579,
          7.089900747000001,
          7.175739042000001,
          8.201221562,
          7.050434548999999,
          6.02654585,
          6.332537979,
          6.987042221,
          7.784776849,
          7.679525354,
          7.00029082,
          7.05484304,
          8.122354972,
          6.604145213,
          6.1107701489999995,
          7.324052439,
          5.054770561000001,
          7.929248443,
          7.200721724,
          4.653956787,
          5.1212555669999995,
          8.268563035,
          6.708857694,
          6.810785115,
          5.509702341000001,
          4.883224787,
          8.003561873999999,
          5.480188627,
          8.188139185,
          8.283055903,
          8.234566268,
          8.461507677,
          7.945371294,
          6.499619559,
          5.617447238,
          7.678362506,
          8.434307747,
          5.056479414,
          6.595365957,
          8.232926712000001,
          8.178051059,
          5.6919348770000004,
          7.477258227999999,
          8.563136369,
          8.048442496,
          6.49437524,
          7.678958625,
          8.19393792,
          5.07677247,
          5.735058298999999,
          6.412824587999999,
          7.504084903,
          7.217558726,
          9.32396899,
          7.953706122000001,
          7.161710811,
          5.572692843,
          6.997110677,
          4.5921437119999995,
          5.239557906,
          8.599206441,
          8.211971513,
          8.250625682,
          6.859851664,
          7.495838941000001,
          7.579245331,
          6.522959426,
          6.685544813,
          7.5694569110000005,
          6.8404102689999995,
          7.318966216000001,
          6.830397458999999,
          8.350138737,
          6.815739369,
          6.335844473,
          6.188037156,
          4.76377485,
          8.191708434,
          8.309030967,
          7.956208009,
          6.704622081,
          6.076899619,
          7.537110669,
          6.874991085,
          8.421271575,
          5.939447829,
          8.425298409,
          7.259592913,
          7.458865245,
          6.780282764,
          8.161279127,
          6.931294938,
          6.392158042999999,
          4.967560927,
          6.355514642999999,
          6.635041574,
          8.657087014,
          8.635970883999999,
          7.81743925,
          5.485204757000001,
          5.90423347,
          7.587806425,
          7.707575433,
          5.8268427979999995,
          8.696830031000001,
          7.1956710820000005,
          7.28151234,
          8.226085566,
          7.1272707010000005,
          7.913406255,
          8.376487219,
          7.648646029,
          8.441503074,
          6.838571472000001,
          7.015027267000001,
          5.900602321,
          6.665037837000001,
          7.601756185,
          7.759700046,
          6.0572694060000005,
          9.291176661,
          8.282030666,
          7.8840301760000004,
          6.777461422999999,
          8.050140687999999,
          5.891036906,
          2.877140582,
          7.204704436,
          7.015511083,
          8.198228523,
          7.636967263,
          4.912573675,
          7.729709837000001,
          6.362292909,
          6.206308900000001,
          7.108491872999999,
          7.041435692,
          5.419145767000001,
          7.8411153339999995,
          6.911721762000001,
          7.217832757,
          7.453716468,
          6.5583009389999996,
          8.231247009,
          8.439080331,
          7.653328354,
          7.7931981839999995,
          3.281311445,
          6.27620744,
          6.683847134,
          6.97224652,
          5.56135516
         ],
         "xaxis": "x3",
         "y": [
          8.607142857000001,
          7.380952381,
          6.452380952,
          8.738095238,
          7.154761905,
          9.392857142999999,
          9.333333332999999,
          4.70846197,
          8.895833332999999,
          4.130952381,
          7.041990115,
          9.125,
          5.80952381,
          9.75,
          8.520833332999999,
          8.988095238,
          7.25,
          8.416666667000001,
          8.654761905,
          7.8125,
          8.341230646,
          4.55952381,
          8.821428571,
          7.738095238,
          3.202380952,
          7.892857143,
          6.998575821,
          9.511904762,
          8.9375,
          8,
          7.523809524,
          9.154761905,
          5.174910149,
          8.452380952,
          6.703317185,
          6.952380952,
          9.595238095,
          8.654761905,
          8.607142857000001,
          9.452380952,
          9.523809523999999,
          9.69047619,
          8.869047619,
          7.94047619,
          6.46009916,
          7.452380952,
          9.619047619,
          5.252983157,
          7.666666667,
          9.666666667000001,
          9.25,
          6.178571429,
          2.895833333,
          8.630952381,
          9.357142857000001,
          8.75,
          8.738095238,
          7.459933562000001,
          5.788023635,
          7.083333333,
          8.083333332999999,
          8.226190476000001,
          7.964285714,
          8.666666667000001,
          8.821428571,
          9.630952381,
          7.921169544,
          7.523809524,
          5.357636552,
          5.2619047619999995,
          9.5,
          7.948909542999999,
          9.071428571,
          9.535714286000001,
          9.19047619,
          6.595238095,
          6.140106103,
          8.333333332999999,
          8.976190476000001,
          7.464285714,
          6.234615306,
          5.761904762,
          9.380952381,
          8.297619048,
          7.541666667,
          7.208333333,
          4.845238095,
          9.5,
          9.678571429,
          7.845238095,
          8.273809523999999,
          7.8125,
          6.797619048,
          7.869047619,
          9.44047619,
          6.001186054,
          9.357142857000001,
          6.980011482999999,
          7.369047619,
          8.238095238,
          5.229166667,
          7.297619048,
          7.607142857,
          7.544895499,
          8.25,
          6.702380952,
          9.726190476000001,
          9.523809523999999,
          7.047619048,
          5.345238095,
          8.175114352000001,
          9.797619048,
          5.345238095,
          7.087699939,
          8.300639622,
          8.604166667000001,
          8.380952381,
          8.205155728,
          8.204248444,
          8.619047619,
          9.55952381,
          6.964285714,
          9,
          6.146872462,
          6.261904762,
          5.782049842,
          8.25,
          8.535714286000001,
          7.666666667,
          7.25,
          6.133315737999999,
          9.297619048,
          9.428571429,
          8.904761905,
          9.214285713999999,
          7.226190476,
          5.69047619,
          8.520833332999999,
          5.958333333,
          9.726190476000001,
          9.666666667000001,
          1.758817876,
          9.285714286000001,
          4.273809524,
          7.5,
          7.15782646,
          8.395833332999999,
          8.464285713999999,
          8.729166667000001,
          8.017579553,
          3.962095697,
          7.892857143,
          7.099239115,
          6.30952381,
          9.25,
          9.241503522,
          9.357142857000001,
          5.109508378,
          5.843436781,
          3.083333333,
          6.7659861029999995,
          6.65
         ],
         "yaxis": "y3"
        },
        {
         "marker": {
          "color": "rgb(12, 51, 131)"
         },
         "showlegend": false,
         "type": "box",
         "xaxis": "x4",
         "y": [
          8.607142857000001,
          7.380952381,
          6.452380952,
          8.738095238,
          7.154761905,
          9.392857142999999,
          9.333333332999999,
          4.70846197,
          8.895833332999999,
          4.130952381,
          7.041990115,
          9.125,
          5.80952381,
          9.75,
          8.520833332999999,
          8.988095238,
          7.25,
          8.416666667000001,
          8.654761905,
          7.8125,
          8.341230646,
          4.55952381,
          8.821428571,
          7.738095238,
          3.202380952,
          7.892857143,
          6.998575821,
          9.511904762,
          8.9375,
          8,
          7.523809524,
          9.154761905,
          5.174910149,
          8.452380952,
          6.703317185,
          6.952380952,
          9.595238095,
          8.654761905,
          8.607142857000001,
          9.452380952,
          9.523809523999999,
          9.69047619,
          8.869047619,
          7.94047619,
          6.46009916,
          7.452380952,
          9.619047619,
          5.252983157,
          7.666666667,
          9.666666667000001,
          9.25,
          6.178571429,
          2.895833333,
          8.630952381,
          9.357142857000001,
          8.75,
          8.738095238,
          7.459933562000001,
          5.788023635,
          7.083333333,
          8.083333332999999,
          8.226190476000001,
          7.964285714,
          8.666666667000001,
          8.821428571,
          9.630952381,
          7.921169544,
          7.523809524,
          5.357636552,
          5.2619047619999995,
          9.5,
          7.948909542999999,
          9.071428571,
          9.535714286000001,
          9.19047619,
          6.595238095,
          6.140106103,
          8.333333332999999,
          8.976190476000001,
          7.464285714,
          6.234615306,
          5.761904762,
          9.380952381,
          8.297619048,
          7.541666667,
          7.208333333,
          4.845238095,
          9.5,
          9.678571429,
          7.845238095,
          8.273809523999999,
          7.8125,
          6.797619048,
          7.869047619,
          9.44047619,
          6.001186054,
          9.357142857000001,
          6.980011482999999,
          7.369047619,
          8.238095238,
          5.229166667,
          7.297619048,
          7.607142857,
          7.544895499,
          8.25,
          6.702380952,
          9.726190476000001,
          9.523809523999999,
          7.047619048,
          5.345238095,
          8.175114352000001,
          9.797619048,
          5.345238095,
          7.087699939,
          8.300639622,
          8.604166667000001,
          8.380952381,
          8.205155728,
          8.204248444,
          8.619047619,
          9.55952381,
          6.964285714,
          9,
          6.146872462,
          6.261904762,
          5.782049842,
          8.25,
          8.535714286000001,
          7.666666667,
          7.25,
          6.133315737999999,
          9.297619048,
          9.428571429,
          8.904761905,
          9.214285713999999,
          7.226190476,
          5.69047619,
          8.520833332999999,
          5.958333333,
          9.726190476000001,
          9.666666667000001,
          1.758817876,
          9.285714286000001,
          4.273809524,
          7.5,
          7.15782646,
          8.395833332999999,
          8.464285713999999,
          8.729166667000001,
          8.017579553,
          3.962095697,
          7.892857143,
          7.099239115,
          6.30952381,
          9.25,
          9.241503522,
          9.357142857000001,
          5.109508378,
          5.843436781,
          3.083333333,
          6.7659861029999995,
          6.65
         ],
         "yaxis": "y4"
        }
       ],
       "layout": {
        "height": 900,
        "showlegend": true,
        "template": {
         "data": {
          "bar": [
           {
            "error_x": {
             "color": "#2a3f5f"
            },
            "error_y": {
             "color": "#2a3f5f"
            },
            "marker": {
             "line": {
              "color": "#E5ECF6",
              "width": 0.5
             }
            },
            "type": "bar"
           }
          ],
          "barpolar": [
           {
            "marker": {
             "line": {
              "color": "#E5ECF6",
              "width": 0.5
             }
            },
            "type": "barpolar"
           }
          ],
          "carpet": [
           {
            "aaxis": {
             "endlinecolor": "#2a3f5f",
             "gridcolor": "white",
             "linecolor": "white",
             "minorgridcolor": "white",
             "startlinecolor": "#2a3f5f"
            },
            "baxis": {
             "endlinecolor": "#2a3f5f",
             "gridcolor": "white",
             "linecolor": "white",
             "minorgridcolor": "white",
             "startlinecolor": "#2a3f5f"
            },
            "type": "carpet"
           }
          ],
          "choropleth": [
           {
            "colorbar": {
             "outlinewidth": 0,
             "ticks": ""
            },
            "type": "choropleth"
           }
          ],
          "contour": [
           {
            "colorbar": {
             "outlinewidth": 0,
             "ticks": ""
            },
            "colorscale": [
             [
              0,
              "#0d0887"
             ],
             [
              0.1111111111111111,
              "#46039f"
             ],
             [
              0.2222222222222222,
              "#7201a8"
             ],
             [
              0.3333333333333333,
              "#9c179e"
             ],
             [
              0.4444444444444444,
              "#bd3786"
             ],
             [
              0.5555555555555556,
              "#d8576b"
             ],
             [
              0.6666666666666666,
              "#ed7953"
             ],
             [
              0.7777777777777778,
              "#fb9f3a"
             ],
             [
              0.8888888888888888,
              "#fdca26"
             ],
             [
              1,
              "#f0f921"
             ]
            ],
            "type": "contour"
           }
          ],
          "contourcarpet": [
           {
            "colorbar": {
             "outlinewidth": 0,
             "ticks": ""
            },
            "type": "contourcarpet"
           }
          ],
          "heatmap": [
           {
            "colorbar": {
             "outlinewidth": 0,
             "ticks": ""
            },
            "colorscale": [
             [
              0,
              "#0d0887"
             ],
             [
              0.1111111111111111,
              "#46039f"
             ],
             [
              0.2222222222222222,
              "#7201a8"
             ],
             [
              0.3333333333333333,
              "#9c179e"
             ],
             [
              0.4444444444444444,
              "#bd3786"
             ],
             [
              0.5555555555555556,
              "#d8576b"
             ],
             [
              0.6666666666666666,
              "#ed7953"
             ],
             [
              0.7777777777777778,
              "#fb9f3a"
             ],
             [
              0.8888888888888888,
              "#fdca26"
             ],
             [
              1,
              "#f0f921"
             ]
            ],
            "type": "heatmap"
           }
          ],
          "heatmapgl": [
           {
            "colorbar": {
             "outlinewidth": 0,
             "ticks": ""
            },
            "colorscale": [
             [
              0,
              "#0d0887"
             ],
             [
              0.1111111111111111,
              "#46039f"
             ],
             [
              0.2222222222222222,
              "#7201a8"
             ],
             [
              0.3333333333333333,
              "#9c179e"
             ],
             [
              0.4444444444444444,
              "#bd3786"
             ],
             [
              0.5555555555555556,
              "#d8576b"
             ],
             [
              0.6666666666666666,
              "#ed7953"
             ],
             [
              0.7777777777777778,
              "#fb9f3a"
             ],
             [
              0.8888888888888888,
              "#fdca26"
             ],
             [
              1,
              "#f0f921"
             ]
            ],
            "type": "heatmapgl"
           }
          ],
          "histogram": [
           {
            "marker": {
             "colorbar": {
              "outlinewidth": 0,
              "ticks": ""
             }
            },
            "type": "histogram"
           }
          ],
          "histogram2d": [
           {
            "colorbar": {
             "outlinewidth": 0,
             "ticks": ""
            },
            "colorscale": [
             [
              0,
              "#0d0887"
             ],
             [
              0.1111111111111111,
              "#46039f"
             ],
             [
              0.2222222222222222,
              "#7201a8"
             ],
             [
              0.3333333333333333,
              "#9c179e"
             ],
             [
              0.4444444444444444,
              "#bd3786"
             ],
             [
              0.5555555555555556,
              "#d8576b"
             ],
             [
              0.6666666666666666,
              "#ed7953"
             ],
             [
              0.7777777777777778,
              "#fb9f3a"
             ],
             [
              0.8888888888888888,
              "#fdca26"
             ],
             [
              1,
              "#f0f921"
             ]
            ],
            "type": "histogram2d"
           }
          ],
          "histogram2dcontour": [
           {
            "colorbar": {
             "outlinewidth": 0,
             "ticks": ""
            },
            "colorscale": [
             [
              0,
              "#0d0887"
             ],
             [
              0.1111111111111111,
              "#46039f"
             ],
             [
              0.2222222222222222,
              "#7201a8"
             ],
             [
              0.3333333333333333,
              "#9c179e"
             ],
             [
              0.4444444444444444,
              "#bd3786"
             ],
             [
              0.5555555555555556,
              "#d8576b"
             ],
             [
              0.6666666666666666,
              "#ed7953"
             ],
             [
              0.7777777777777778,
              "#fb9f3a"
             ],
             [
              0.8888888888888888,
              "#fdca26"
             ],
             [
              1,
              "#f0f921"
             ]
            ],
            "type": "histogram2dcontour"
           }
          ],
          "mesh3d": [
           {
            "colorbar": {
             "outlinewidth": 0,
             "ticks": ""
            },
            "type": "mesh3d"
           }
          ],
          "parcoords": [
           {
            "line": {
             "colorbar": {
              "outlinewidth": 0,
              "ticks": ""
             }
            },
            "type": "parcoords"
           }
          ],
          "pie": [
           {
            "automargin": true,
            "type": "pie"
           }
          ],
          "scatter": [
           {
            "marker": {
             "colorbar": {
              "outlinewidth": 0,
              "ticks": ""
             }
            },
            "type": "scatter"
           }
          ],
          "scatter3d": [
           {
            "line": {
             "colorbar": {
              "outlinewidth": 0,
              "ticks": ""
             }
            },
            "marker": {
             "colorbar": {
              "outlinewidth": 0,
              "ticks": ""
             }
            },
            "type": "scatter3d"
           }
          ],
          "scattercarpet": [
           {
            "marker": {
             "colorbar": {
              "outlinewidth": 0,
              "ticks": ""
             }
            },
            "type": "scattercarpet"
           }
          ],
          "scattergeo": [
           {
            "marker": {
             "colorbar": {
              "outlinewidth": 0,
              "ticks": ""
             }
            },
            "type": "scattergeo"
           }
          ],
          "scattergl": [
           {
            "marker": {
             "colorbar": {
              "outlinewidth": 0,
              "ticks": ""
             }
            },
            "type": "scattergl"
           }
          ],
          "scattermapbox": [
           {
            "marker": {
             "colorbar": {
              "outlinewidth": 0,
              "ticks": ""
             }
            },
            "type": "scattermapbox"
           }
          ],
          "scatterpolar": [
           {
            "marker": {
             "colorbar": {
              "outlinewidth": 0,
              "ticks": ""
             }
            },
            "type": "scatterpolar"
           }
          ],
          "scatterpolargl": [
           {
            "marker": {
             "colorbar": {
              "outlinewidth": 0,
              "ticks": ""
             }
            },
            "type": "scatterpolargl"
           }
          ],
          "scatterternary": [
           {
            "marker": {
             "colorbar": {
              "outlinewidth": 0,
              "ticks": ""
             }
            },
            "type": "scatterternary"
           }
          ],
          "surface": [
           {
            "colorbar": {
             "outlinewidth": 0,
             "ticks": ""
            },
            "colorscale": [
             [
              0,
              "#0d0887"
             ],
             [
              0.1111111111111111,
              "#46039f"
             ],
             [
              0.2222222222222222,
              "#7201a8"
             ],
             [
              0.3333333333333333,
              "#9c179e"
             ],
             [
              0.4444444444444444,
              "#bd3786"
             ],
             [
              0.5555555555555556,
              "#d8576b"
             ],
             [
              0.6666666666666666,
              "#ed7953"
             ],
             [
              0.7777777777777778,
              "#fb9f3a"
             ],
             [
              0.8888888888888888,
              "#fdca26"
             ],
             [
              1,
              "#f0f921"
             ]
            ],
            "type": "surface"
           }
          ],
          "table": [
           {
            "cells": {
             "fill": {
              "color": "#EBF0F8"
             },
             "line": {
              "color": "white"
             }
            },
            "header": {
             "fill": {
              "color": "#C8D4E3"
             },
             "line": {
              "color": "white"
             }
            },
            "type": "table"
           }
          ]
         },
         "layout": {
          "annotationdefaults": {
           "arrowcolor": "#2a3f5f",
           "arrowhead": 0,
           "arrowwidth": 1
          },
          "coloraxis": {
           "colorbar": {
            "outlinewidth": 0,
            "ticks": ""
           }
          },
          "colorscale": {
           "diverging": [
            [
             0,
             "#8e0152"
            ],
            [
             0.1,
             "#c51b7d"
            ],
            [
             0.2,
             "#de77ae"
            ],
            [
             0.3,
             "#f1b6da"
            ],
            [
             0.4,
             "#fde0ef"
            ],
            [
             0.5,
             "#f7f7f7"
            ],
            [
             0.6,
             "#e6f5d0"
            ],
            [
             0.7,
             "#b8e186"
            ],
            [
             0.8,
             "#7fbc41"
            ],
            [
             0.9,
             "#4d9221"
            ],
            [
             1,
             "#276419"
            ]
           ],
           "sequential": [
            [
             0,
             "#0d0887"
            ],
            [
             0.1111111111111111,
             "#46039f"
            ],
            [
             0.2222222222222222,
             "#7201a8"
            ],
            [
             0.3333333333333333,
             "#9c179e"
            ],
            [
             0.4444444444444444,
             "#bd3786"
            ],
            [
             0.5555555555555556,
             "#d8576b"
            ],
            [
             0.6666666666666666,
             "#ed7953"
            ],
            [
             0.7777777777777778,
             "#fb9f3a"
            ],
            [
             0.8888888888888888,
             "#fdca26"
            ],
            [
             1,
             "#f0f921"
            ]
           ],
           "sequentialminus": [
            [
             0,
             "#0d0887"
            ],
            [
             0.1111111111111111,
             "#46039f"
            ],
            [
             0.2222222222222222,
             "#7201a8"
            ],
            [
             0.3333333333333333,
             "#9c179e"
            ],
            [
             0.4444444444444444,
             "#bd3786"
            ],
            [
             0.5555555555555556,
             "#d8576b"
            ],
            [
             0.6666666666666666,
             "#ed7953"
            ],
            [
             0.7777777777777778,
             "#fb9f3a"
            ],
            [
             0.8888888888888888,
             "#fdca26"
            ],
            [
             1,
             "#f0f921"
            ]
           ]
          },
          "colorway": [
           "#636efa",
           "#EF553B",
           "#00cc96",
           "#ab63fa",
           "#FFA15A",
           "#19d3f3",
           "#FF6692",
           "#B6E880",
           "#FF97FF",
           "#FECB52"
          ],
          "font": {
           "color": "#2a3f5f"
          },
          "geo": {
           "bgcolor": "white",
           "lakecolor": "white",
           "landcolor": "#E5ECF6",
           "showlakes": true,
           "showland": true,
           "subunitcolor": "white"
          },
          "hoverlabel": {
           "align": "left"
          },
          "hovermode": "closest",
          "mapbox": {
           "style": "light"
          },
          "paper_bgcolor": "white",
          "plot_bgcolor": "#E5ECF6",
          "polar": {
           "angularaxis": {
            "gridcolor": "white",
            "linecolor": "white",
            "ticks": ""
           },
           "bgcolor": "#E5ECF6",
           "radialaxis": {
            "gridcolor": "white",
            "linecolor": "white",
            "ticks": ""
           }
          },
          "scene": {
           "xaxis": {
            "backgroundcolor": "#E5ECF6",
            "gridcolor": "white",
            "gridwidth": 2,
            "linecolor": "white",
            "showbackground": true,
            "ticks": "",
            "zerolinecolor": "white"
           },
           "yaxis": {
            "backgroundcolor": "#E5ECF6",
            "gridcolor": "white",
            "gridwidth": 2,
            "linecolor": "white",
            "showbackground": true,
            "ticks": "",
            "zerolinecolor": "white"
           },
           "zaxis": {
            "backgroundcolor": "#E5ECF6",
            "gridcolor": "white",
            "gridwidth": 2,
            "linecolor": "white",
            "showbackground": true,
            "ticks": "",
            "zerolinecolor": "white"
           }
          },
          "shapedefaults": {
           "line": {
            "color": "#2a3f5f"
           }
          },
          "ternary": {
           "aaxis": {
            "gridcolor": "white",
            "linecolor": "white",
            "ticks": ""
           },
           "baxis": {
            "gridcolor": "white",
            "linecolor": "white",
            "ticks": ""
           },
           "bgcolor": "#E5ECF6",
           "caxis": {
            "gridcolor": "white",
            "linecolor": "white",
            "ticks": ""
           }
          },
          "title": {
           "x": 0.05
          },
          "xaxis": {
           "automargin": true,
           "gridcolor": "white",
           "linecolor": "white",
           "ticks": "",
           "title": {
            "standoff": 15
           },
           "zerolinecolor": "white",
           "zerolinewidth": 2
          },
          "yaxis": {
           "automargin": true,
           "gridcolor": "white",
           "linecolor": "white",
           "ticks": "",
           "title": {
            "standoff": 15
           },
           "zerolinecolor": "white",
           "zerolinewidth": 2
          }
         }
        },
        "title": {
         "text": "Scatterplot Matrix"
        },
        "width": 900,
        "xaxis": {
         "anchor": "y",
         "domain": [
          0,
          0.45
         ],
         "showticklabels": false
        },
        "xaxis2": {
         "anchor": "y2",
         "domain": [
          0.55,
          1
         ]
        },
        "xaxis3": {
         "anchor": "y3",
         "domain": [
          0,
          0.45
         ],
         "title": {
          "text": "ef_trade"
         }
        },
        "xaxis4": {
         "anchor": "y4",
         "domain": [
          0.55,
          1
         ],
         "showticklabels": false,
         "title": {
          "text": "pf_expression"
         }
        },
        "yaxis": {
         "anchor": "x",
         "domain": [
          0.575,
          1
         ],
         "title": {
          "text": "ef_trade"
         }
        },
        "yaxis2": {
         "anchor": "x2",
         "domain": [
          0.575,
          1
         ]
        },
        "yaxis3": {
         "anchor": "x3",
         "domain": [
          0,
          0.425
         ],
         "title": {
          "text": "pf_expression"
         }
        },
        "yaxis4": {
         "anchor": "x4",
         "domain": [
          0,
          0.425
         ]
        }
       }
      },
      "text/html": [
       "<div>\n",
       "        \n",
       "        \n",
       "            <div id=\"0524d511-d474-4c52-bdd8-632ec2faf423\" class=\"plotly-graph-div\" style=\"height:900px; width:900px;\"></div>\n",
       "            <script type=\"text/javascript\">\n",
       "                require([\"plotly\"], function(Plotly) {\n",
       "                    window.PLOTLYENV=window.PLOTLYENV || {};\n",
       "                    \n",
       "                if (document.getElementById(\"0524d511-d474-4c52-bdd8-632ec2faf423\")) {\n",
       "                    Plotly.newPlot(\n",
       "                        '0524d511-d474-4c52-bdd8-632ec2faf423',\n",
       "                        [{\"marker\": {\"color\": \"rgb(12, 51, 131)\"}, \"showlegend\": false, \"type\": \"box\", \"xaxis\": \"x\", \"y\": [8.21489951, 4.127024823999999, 5.264754044, 3.982546906, 8.143241004, 7.526720987999999, 8.106732583, 7.216524627999999, 6.685901668, 7.403403472000001, 6.039372579, 7.089900747000001, 7.175739042000001, 8.201221562, 7.050434548999999, 6.02654585, 6.332537979, 6.987042221, 7.784776849, 7.679525354, 7.00029082, 7.05484304, 8.122354972, 6.604145213, 6.1107701489999995, 7.324052439, 5.054770561000001, 7.929248443, 7.200721724, 4.653956787, 5.1212555669999995, 8.268563035, 6.708857694, 6.810785115, 5.509702341000001, 4.883224787, 8.003561873999999, 5.480188627, 8.188139185, 8.283055903, 8.234566268, 8.461507677, 7.945371294, 6.499619559, 5.617447238, 7.678362506, 8.434307747, 5.056479414, 6.595365957, 8.232926712000001, 8.178051059, 5.6919348770000004, 7.477258227999999, 8.563136369, 8.048442496, 6.49437524, 7.678958625, 8.19393792, 5.07677247, 5.735058298999999, 6.412824587999999, 7.504084903, 7.217558726, 9.32396899, 7.953706122000001, 7.161710811, 5.572692843, 6.997110677, 4.5921437119999995, 5.239557906, 8.599206441, 8.211971513, 8.250625682, 6.859851664, 7.495838941000001, 7.579245331, 6.522959426, 6.685544813, 7.5694569110000005, 6.8404102689999995, 7.318966216000001, 6.830397458999999, 8.350138737, 6.815739369, 6.335844473, 6.188037156, 4.76377485, 8.191708434, 8.309030967, 7.956208009, 6.704622081, 6.076899619, 7.537110669, 6.874991085, 8.421271575, 5.939447829, 8.425298409, 7.259592913, 7.458865245, 6.780282764, 8.161279127, 6.931294938, 6.392158042999999, 4.967560927, 6.355514642999999, 6.635041574, 8.657087014, 8.635970883999999, 7.81743925, 5.485204757000001, 5.90423347, 7.587806425, 7.707575433, 5.8268427979999995, 8.696830031000001, 7.1956710820000005, 7.28151234, 8.226085566, 7.1272707010000005, 7.913406255, 8.376487219, 7.648646029, 8.441503074, 6.838571472000001, 7.015027267000001, 5.900602321, 6.665037837000001, 7.601756185, 7.759700046, 6.0572694060000005, 9.291176661, 8.282030666, 7.8840301760000004, 6.777461422999999, 8.050140687999999, 5.891036906, 2.877140582, 7.204704436, 7.015511083, 8.198228523, 7.636967263, 4.912573675, 7.729709837000001, 6.362292909, 6.206308900000001, 7.108491872999999, 7.041435692, 5.419145767000001, 7.8411153339999995, 6.911721762000001, 7.217832757, 7.453716468, 6.5583009389999996, 8.231247009, 8.439080331, 7.653328354, 7.7931981839999995, 3.281311445, 6.27620744, 6.683847134, 6.97224652, 5.56135516], \"yaxis\": \"y\"}, {\"marker\": {\"color\": [1, 2, 3, 4, 5, 6, 7, 8, 9, 10, 11, 12, 13, 14, 15, 16, 17, 18, 19, 20, 21, 22, 23, 24, 25, 26, 27, 28, 29, 30, 31, 32, 33, 34, 35, 36, 37, 38, 39, 40, 41, 42, 43, 44, 45, 46, 47, 48, 49, 50, 51, 52, 53, 54, 55, 56, 57, 58, 59, 60, 61, 62, 63, 64, 65, 66, 67, 68, 69, 70, 71, 72, 73, 74, 75, 76, 77, 78, 79, 80, 81, 82, 83, 84, 85, 86, 87, 88, 89, 90, 91, 92, 93, 94, 95, 96, 97, 98, 99, 100, 101, 102, 103, 104, 105, 106, 107, 108, 109, 110, 111, 112, 113, 114, 115, 116, 117, 118, 119, 120, 121, 122, 123, 124, 125, 126, 127, 128, 129, 130, 131, 132, 133, 134, 135, 136, 137, 138, 139, 140, 141, 142, 143, 144, 145, 146, 147, 148, 149, 150, 151, 152, 153, 154, 155, 156, 157, 158, 159, 160, 161, 162], \"colorscale\": [[0.0, \"rgb(12, 51, 131)\"], [1.0, \"rgb(217, 30, 30)\"]], \"showscale\": true, \"size\": 6}, \"mode\": \"markers\", \"showlegend\": false, \"type\": \"scatter\", \"x\": [8.607142857000001, 7.380952381, 6.452380952, 8.738095238, 7.154761905, 9.392857142999999, 9.333333332999999, 4.70846197, 8.895833332999999, 4.130952381, 7.041990115, 9.125, 5.80952381, 9.75, 8.520833332999999, 8.988095238, 7.25, 8.416666667000001, 8.654761905, 7.8125, 8.341230646, 4.55952381, 8.821428571, 7.738095238, 3.202380952, 7.892857143, 6.998575821, 9.511904762, 8.9375, 8.0, 7.523809524, 9.154761905, 5.174910149, 8.452380952, 6.703317185, 6.952380952, 9.595238095, 8.654761905, 8.607142857000001, 9.452380952, 9.523809523999999, 9.69047619, 8.869047619, 7.94047619, 6.46009916, 7.452380952, 9.619047619, 5.252983157, 7.666666667, 9.666666667000001, 9.25, 6.178571429, 2.895833333, 8.630952381, 9.357142857000001, 8.75, 8.738095238, 7.459933562000001, 5.788023635, 7.083333333, 8.083333332999999, 8.226190476000001, 7.964285714, 8.666666667000001, 8.821428571, 9.630952381, 7.921169544, 7.523809524, 5.357636552, 5.2619047619999995, 9.5, 7.948909542999999, 9.071428571, 9.535714286000001, 9.19047619, 6.595238095, 6.140106103, 8.333333332999999, 8.976190476000001, 7.464285714, 6.234615306, 5.761904762, 9.380952381, 8.297619048, 7.541666667, 7.208333333, 4.845238095, 9.5, 9.678571429, 7.845238095, 8.273809523999999, 7.8125, 6.797619048, 7.869047619, 9.44047619, 6.001186054, 9.357142857000001, 6.980011482999999, 7.369047619, 8.238095238, 5.229166667, 7.297619048, 7.607142857, 7.544895499, 8.25, 6.702380952, 9.726190476000001, 9.523809523999999, 7.047619048, 5.345238095, 8.175114352000001, 9.797619048, 5.345238095, 7.087699939, 8.300639622, 8.604166667000001, 8.380952381, 8.205155728, 8.204248444, 8.619047619, 9.55952381, 6.964285714, 9.0, 6.146872462, 6.261904762, 5.782049842, 8.25, 8.535714286000001, 7.666666667, 7.25, 6.133315737999999, 9.297619048, 9.428571429, 8.904761905, 9.214285713999999, 7.226190476, 5.69047619, 8.520833332999999, 5.958333333, 9.726190476000001, 9.666666667000001, 1.758817876, 9.285714286000001, 4.273809524, 7.5, 7.15782646, 8.395833332999999, 8.464285713999999, 8.729166667000001, 8.017579553, 3.962095697, 7.892857143, 7.099239115, 6.30952381, 9.25, 9.241503522, 9.357142857000001, 5.109508378, 5.843436781, 3.083333333, 6.7659861029999995, 6.65], \"xaxis\": \"x2\", \"y\": [8.21489951, 4.127024823999999, 5.264754044, 3.982546906, 8.143241004, 7.526720987999999, 8.106732583, 7.216524627999999, 6.685901668, 7.403403472000001, 6.039372579, 7.089900747000001, 7.175739042000001, 8.201221562, 7.050434548999999, 6.02654585, 6.332537979, 6.987042221, 7.784776849, 7.679525354, 7.00029082, 7.05484304, 8.122354972, 6.604145213, 6.1107701489999995, 7.324052439, 5.054770561000001, 7.929248443, 7.200721724, 4.653956787, 5.1212555669999995, 8.268563035, 6.708857694, 6.810785115, 5.509702341000001, 4.883224787, 8.003561873999999, 5.480188627, 8.188139185, 8.283055903, 8.234566268, 8.461507677, 7.945371294, 6.499619559, 5.617447238, 7.678362506, 8.434307747, 5.056479414, 6.595365957, 8.232926712000001, 8.178051059, 5.6919348770000004, 7.477258227999999, 8.563136369, 8.048442496, 6.49437524, 7.678958625, 8.19393792, 5.07677247, 5.735058298999999, 6.412824587999999, 7.504084903, 7.217558726, 9.32396899, 7.953706122000001, 7.161710811, 5.572692843, 6.997110677, 4.5921437119999995, 5.239557906, 8.599206441, 8.211971513, 8.250625682, 6.859851664, 7.495838941000001, 7.579245331, 6.522959426, 6.685544813, 7.5694569110000005, 6.8404102689999995, 7.318966216000001, 6.830397458999999, 8.350138737, 6.815739369, 6.335844473, 6.188037156, 4.76377485, 8.191708434, 8.309030967, 7.956208009, 6.704622081, 6.076899619, 7.537110669, 6.874991085, 8.421271575, 5.939447829, 8.425298409, 7.259592913, 7.458865245, 6.780282764, 8.161279127, 6.931294938, 6.392158042999999, 4.967560927, 6.355514642999999, 6.635041574, 8.657087014, 8.635970883999999, 7.81743925, 5.485204757000001, 5.90423347, 7.587806425, 7.707575433, 5.8268427979999995, 8.696830031000001, 7.1956710820000005, 7.28151234, 8.226085566, 7.1272707010000005, 7.913406255, 8.376487219, 7.648646029, 8.441503074, 6.838571472000001, 7.015027267000001, 5.900602321, 6.665037837000001, 7.601756185, 7.759700046, 6.0572694060000005, 9.291176661, 8.282030666, 7.8840301760000004, 6.777461422999999, 8.050140687999999, 5.891036906, 2.877140582, 7.204704436, 7.015511083, 8.198228523, 7.636967263, 4.912573675, 7.729709837000001, 6.362292909, 6.206308900000001, 7.108491872999999, 7.041435692, 5.419145767000001, 7.8411153339999995, 6.911721762000001, 7.217832757, 7.453716468, 6.5583009389999996, 8.231247009, 8.439080331, 7.653328354, 7.7931981839999995, 3.281311445, 6.27620744, 6.683847134, 6.97224652, 5.56135516], \"yaxis\": \"y2\"}, {\"marker\": {\"color\": [1, 2, 3, 4, 5, 6, 7, 8, 9, 10, 11, 12, 13, 14, 15, 16, 17, 18, 19, 20, 21, 22, 23, 24, 25, 26, 27, 28, 29, 30, 31, 32, 33, 34, 35, 36, 37, 38, 39, 40, 41, 42, 43, 44, 45, 46, 47, 48, 49, 50, 51, 52, 53, 54, 55, 56, 57, 58, 59, 60, 61, 62, 63, 64, 65, 66, 67, 68, 69, 70, 71, 72, 73, 74, 75, 76, 77, 78, 79, 80, 81, 82, 83, 84, 85, 86, 87, 88, 89, 90, 91, 92, 93, 94, 95, 96, 97, 98, 99, 100, 101, 102, 103, 104, 105, 106, 107, 108, 109, 110, 111, 112, 113, 114, 115, 116, 117, 118, 119, 120, 121, 122, 123, 124, 125, 126, 127, 128, 129, 130, 131, 132, 133, 134, 135, 136, 137, 138, 139, 140, 141, 142, 143, 144, 145, 146, 147, 148, 149, 150, 151, 152, 153, 154, 155, 156, 157, 158, 159, 160, 161, 162], \"colorscale\": [[0.0, \"rgb(12, 51, 131)\"], [1.0, \"rgb(217, 30, 30)\"]], \"showscale\": false, \"size\": 6}, \"mode\": \"markers\", \"showlegend\": false, \"type\": \"scatter\", \"x\": [8.21489951, 4.127024823999999, 5.264754044, 3.982546906, 8.143241004, 7.526720987999999, 8.106732583, 7.216524627999999, 6.685901668, 7.403403472000001, 6.039372579, 7.089900747000001, 7.175739042000001, 8.201221562, 7.050434548999999, 6.02654585, 6.332537979, 6.987042221, 7.784776849, 7.679525354, 7.00029082, 7.05484304, 8.122354972, 6.604145213, 6.1107701489999995, 7.324052439, 5.054770561000001, 7.929248443, 7.200721724, 4.653956787, 5.1212555669999995, 8.268563035, 6.708857694, 6.810785115, 5.509702341000001, 4.883224787, 8.003561873999999, 5.480188627, 8.188139185, 8.283055903, 8.234566268, 8.461507677, 7.945371294, 6.499619559, 5.617447238, 7.678362506, 8.434307747, 5.056479414, 6.595365957, 8.232926712000001, 8.178051059, 5.6919348770000004, 7.477258227999999, 8.563136369, 8.048442496, 6.49437524, 7.678958625, 8.19393792, 5.07677247, 5.735058298999999, 6.412824587999999, 7.504084903, 7.217558726, 9.32396899, 7.953706122000001, 7.161710811, 5.572692843, 6.997110677, 4.5921437119999995, 5.239557906, 8.599206441, 8.211971513, 8.250625682, 6.859851664, 7.495838941000001, 7.579245331, 6.522959426, 6.685544813, 7.5694569110000005, 6.8404102689999995, 7.318966216000001, 6.830397458999999, 8.350138737, 6.815739369, 6.335844473, 6.188037156, 4.76377485, 8.191708434, 8.309030967, 7.956208009, 6.704622081, 6.076899619, 7.537110669, 6.874991085, 8.421271575, 5.939447829, 8.425298409, 7.259592913, 7.458865245, 6.780282764, 8.161279127, 6.931294938, 6.392158042999999, 4.967560927, 6.355514642999999, 6.635041574, 8.657087014, 8.635970883999999, 7.81743925, 5.485204757000001, 5.90423347, 7.587806425, 7.707575433, 5.8268427979999995, 8.696830031000001, 7.1956710820000005, 7.28151234, 8.226085566, 7.1272707010000005, 7.913406255, 8.376487219, 7.648646029, 8.441503074, 6.838571472000001, 7.015027267000001, 5.900602321, 6.665037837000001, 7.601756185, 7.759700046, 6.0572694060000005, 9.291176661, 8.282030666, 7.8840301760000004, 6.777461422999999, 8.050140687999999, 5.891036906, 2.877140582, 7.204704436, 7.015511083, 8.198228523, 7.636967263, 4.912573675, 7.729709837000001, 6.362292909, 6.206308900000001, 7.108491872999999, 7.041435692, 5.419145767000001, 7.8411153339999995, 6.911721762000001, 7.217832757, 7.453716468, 6.5583009389999996, 8.231247009, 8.439080331, 7.653328354, 7.7931981839999995, 3.281311445, 6.27620744, 6.683847134, 6.97224652, 5.56135516], \"xaxis\": \"x3\", \"y\": [8.607142857000001, 7.380952381, 6.452380952, 8.738095238, 7.154761905, 9.392857142999999, 9.333333332999999, 4.70846197, 8.895833332999999, 4.130952381, 7.041990115, 9.125, 5.80952381, 9.75, 8.520833332999999, 8.988095238, 7.25, 8.416666667000001, 8.654761905, 7.8125, 8.341230646, 4.55952381, 8.821428571, 7.738095238, 3.202380952, 7.892857143, 6.998575821, 9.511904762, 8.9375, 8.0, 7.523809524, 9.154761905, 5.174910149, 8.452380952, 6.703317185, 6.952380952, 9.595238095, 8.654761905, 8.607142857000001, 9.452380952, 9.523809523999999, 9.69047619, 8.869047619, 7.94047619, 6.46009916, 7.452380952, 9.619047619, 5.252983157, 7.666666667, 9.666666667000001, 9.25, 6.178571429, 2.895833333, 8.630952381, 9.357142857000001, 8.75, 8.738095238, 7.459933562000001, 5.788023635, 7.083333333, 8.083333332999999, 8.226190476000001, 7.964285714, 8.666666667000001, 8.821428571, 9.630952381, 7.921169544, 7.523809524, 5.357636552, 5.2619047619999995, 9.5, 7.948909542999999, 9.071428571, 9.535714286000001, 9.19047619, 6.595238095, 6.140106103, 8.333333332999999, 8.976190476000001, 7.464285714, 6.234615306, 5.761904762, 9.380952381, 8.297619048, 7.541666667, 7.208333333, 4.845238095, 9.5, 9.678571429, 7.845238095, 8.273809523999999, 7.8125, 6.797619048, 7.869047619, 9.44047619, 6.001186054, 9.357142857000001, 6.980011482999999, 7.369047619, 8.238095238, 5.229166667, 7.297619048, 7.607142857, 7.544895499, 8.25, 6.702380952, 9.726190476000001, 9.523809523999999, 7.047619048, 5.345238095, 8.175114352000001, 9.797619048, 5.345238095, 7.087699939, 8.300639622, 8.604166667000001, 8.380952381, 8.205155728, 8.204248444, 8.619047619, 9.55952381, 6.964285714, 9.0, 6.146872462, 6.261904762, 5.782049842, 8.25, 8.535714286000001, 7.666666667, 7.25, 6.133315737999999, 9.297619048, 9.428571429, 8.904761905, 9.214285713999999, 7.226190476, 5.69047619, 8.520833332999999, 5.958333333, 9.726190476000001, 9.666666667000001, 1.758817876, 9.285714286000001, 4.273809524, 7.5, 7.15782646, 8.395833332999999, 8.464285713999999, 8.729166667000001, 8.017579553, 3.962095697, 7.892857143, 7.099239115, 6.30952381, 9.25, 9.241503522, 9.357142857000001, 5.109508378, 5.843436781, 3.083333333, 6.7659861029999995, 6.65], \"yaxis\": \"y3\"}, {\"marker\": {\"color\": \"rgb(12, 51, 131)\"}, \"showlegend\": false, \"type\": \"box\", \"xaxis\": \"x4\", \"y\": [8.607142857000001, 7.380952381, 6.452380952, 8.738095238, 7.154761905, 9.392857142999999, 9.333333332999999, 4.70846197, 8.895833332999999, 4.130952381, 7.041990115, 9.125, 5.80952381, 9.75, 8.520833332999999, 8.988095238, 7.25, 8.416666667000001, 8.654761905, 7.8125, 8.341230646, 4.55952381, 8.821428571, 7.738095238, 3.202380952, 7.892857143, 6.998575821, 9.511904762, 8.9375, 8.0, 7.523809524, 9.154761905, 5.174910149, 8.452380952, 6.703317185, 6.952380952, 9.595238095, 8.654761905, 8.607142857000001, 9.452380952, 9.523809523999999, 9.69047619, 8.869047619, 7.94047619, 6.46009916, 7.452380952, 9.619047619, 5.252983157, 7.666666667, 9.666666667000001, 9.25, 6.178571429, 2.895833333, 8.630952381, 9.357142857000001, 8.75, 8.738095238, 7.459933562000001, 5.788023635, 7.083333333, 8.083333332999999, 8.226190476000001, 7.964285714, 8.666666667000001, 8.821428571, 9.630952381, 7.921169544, 7.523809524, 5.357636552, 5.2619047619999995, 9.5, 7.948909542999999, 9.071428571, 9.535714286000001, 9.19047619, 6.595238095, 6.140106103, 8.333333332999999, 8.976190476000001, 7.464285714, 6.234615306, 5.761904762, 9.380952381, 8.297619048, 7.541666667, 7.208333333, 4.845238095, 9.5, 9.678571429, 7.845238095, 8.273809523999999, 7.8125, 6.797619048, 7.869047619, 9.44047619, 6.001186054, 9.357142857000001, 6.980011482999999, 7.369047619, 8.238095238, 5.229166667, 7.297619048, 7.607142857, 7.544895499, 8.25, 6.702380952, 9.726190476000001, 9.523809523999999, 7.047619048, 5.345238095, 8.175114352000001, 9.797619048, 5.345238095, 7.087699939, 8.300639622, 8.604166667000001, 8.380952381, 8.205155728, 8.204248444, 8.619047619, 9.55952381, 6.964285714, 9.0, 6.146872462, 6.261904762, 5.782049842, 8.25, 8.535714286000001, 7.666666667, 7.25, 6.133315737999999, 9.297619048, 9.428571429, 8.904761905, 9.214285713999999, 7.226190476, 5.69047619, 8.520833332999999, 5.958333333, 9.726190476000001, 9.666666667000001, 1.758817876, 9.285714286000001, 4.273809524, 7.5, 7.15782646, 8.395833332999999, 8.464285713999999, 8.729166667000001, 8.017579553, 3.962095697, 7.892857143, 7.099239115, 6.30952381, 9.25, 9.241503522, 9.357142857000001, 5.109508378, 5.843436781, 3.083333333, 6.7659861029999995, 6.65], \"yaxis\": \"y4\"}],\n",
       "                        {\"height\": 900, \"showlegend\": true, \"template\": {\"data\": {\"bar\": [{\"error_x\": {\"color\": \"#2a3f5f\"}, \"error_y\": {\"color\": \"#2a3f5f\"}, \"marker\": {\"line\": {\"color\": \"#E5ECF6\", \"width\": 0.5}}, \"type\": \"bar\"}], \"barpolar\": [{\"marker\": {\"line\": {\"color\": \"#E5ECF6\", \"width\": 0.5}}, \"type\": \"barpolar\"}], \"carpet\": [{\"aaxis\": {\"endlinecolor\": \"#2a3f5f\", \"gridcolor\": \"white\", \"linecolor\": \"white\", \"minorgridcolor\": \"white\", \"startlinecolor\": \"#2a3f5f\"}, \"baxis\": {\"endlinecolor\": \"#2a3f5f\", \"gridcolor\": \"white\", \"linecolor\": \"white\", \"minorgridcolor\": \"white\", \"startlinecolor\": \"#2a3f5f\"}, \"type\": \"carpet\"}], \"choropleth\": [{\"colorbar\": {\"outlinewidth\": 0, \"ticks\": \"\"}, \"type\": \"choropleth\"}], \"contour\": [{\"colorbar\": {\"outlinewidth\": 0, \"ticks\": \"\"}, \"colorscale\": [[0.0, \"#0d0887\"], [0.1111111111111111, \"#46039f\"], [0.2222222222222222, \"#7201a8\"], [0.3333333333333333, \"#9c179e\"], [0.4444444444444444, \"#bd3786\"], [0.5555555555555556, \"#d8576b\"], [0.6666666666666666, \"#ed7953\"], [0.7777777777777778, \"#fb9f3a\"], [0.8888888888888888, \"#fdca26\"], [1.0, \"#f0f921\"]], \"type\": \"contour\"}], \"contourcarpet\": [{\"colorbar\": {\"outlinewidth\": 0, \"ticks\": \"\"}, \"type\": \"contourcarpet\"}], \"heatmap\": [{\"colorbar\": {\"outlinewidth\": 0, \"ticks\": \"\"}, \"colorscale\": [[0.0, \"#0d0887\"], [0.1111111111111111, \"#46039f\"], [0.2222222222222222, \"#7201a8\"], [0.3333333333333333, \"#9c179e\"], [0.4444444444444444, \"#bd3786\"], [0.5555555555555556, \"#d8576b\"], [0.6666666666666666, \"#ed7953\"], [0.7777777777777778, \"#fb9f3a\"], [0.8888888888888888, \"#fdca26\"], [1.0, \"#f0f921\"]], \"type\": \"heatmap\"}], \"heatmapgl\": [{\"colorbar\": {\"outlinewidth\": 0, \"ticks\": \"\"}, \"colorscale\": [[0.0, \"#0d0887\"], [0.1111111111111111, \"#46039f\"], [0.2222222222222222, \"#7201a8\"], [0.3333333333333333, \"#9c179e\"], [0.4444444444444444, \"#bd3786\"], [0.5555555555555556, \"#d8576b\"], [0.6666666666666666, \"#ed7953\"], [0.7777777777777778, \"#fb9f3a\"], [0.8888888888888888, \"#fdca26\"], [1.0, \"#f0f921\"]], \"type\": \"heatmapgl\"}], \"histogram\": [{\"marker\": {\"colorbar\": {\"outlinewidth\": 0, \"ticks\": \"\"}}, \"type\": \"histogram\"}], \"histogram2d\": [{\"colorbar\": {\"outlinewidth\": 0, \"ticks\": \"\"}, \"colorscale\": [[0.0, \"#0d0887\"], [0.1111111111111111, \"#46039f\"], [0.2222222222222222, \"#7201a8\"], [0.3333333333333333, \"#9c179e\"], [0.4444444444444444, \"#bd3786\"], [0.5555555555555556, \"#d8576b\"], [0.6666666666666666, \"#ed7953\"], [0.7777777777777778, \"#fb9f3a\"], [0.8888888888888888, \"#fdca26\"], [1.0, \"#f0f921\"]], \"type\": \"histogram2d\"}], \"histogram2dcontour\": [{\"colorbar\": {\"outlinewidth\": 0, \"ticks\": \"\"}, \"colorscale\": [[0.0, \"#0d0887\"], [0.1111111111111111, \"#46039f\"], [0.2222222222222222, \"#7201a8\"], [0.3333333333333333, \"#9c179e\"], [0.4444444444444444, \"#bd3786\"], [0.5555555555555556, \"#d8576b\"], [0.6666666666666666, \"#ed7953\"], [0.7777777777777778, \"#fb9f3a\"], [0.8888888888888888, \"#fdca26\"], [1.0, \"#f0f921\"]], \"type\": \"histogram2dcontour\"}], \"mesh3d\": [{\"colorbar\": {\"outlinewidth\": 0, \"ticks\": \"\"}, \"type\": \"mesh3d\"}], \"parcoords\": [{\"line\": {\"colorbar\": {\"outlinewidth\": 0, \"ticks\": \"\"}}, \"type\": \"parcoords\"}], \"pie\": [{\"automargin\": true, \"type\": \"pie\"}], \"scatter\": [{\"marker\": {\"colorbar\": {\"outlinewidth\": 0, \"ticks\": \"\"}}, \"type\": \"scatter\"}], \"scatter3d\": [{\"line\": {\"colorbar\": {\"outlinewidth\": 0, \"ticks\": \"\"}}, \"marker\": {\"colorbar\": {\"outlinewidth\": 0, \"ticks\": \"\"}}, \"type\": \"scatter3d\"}], \"scattercarpet\": [{\"marker\": {\"colorbar\": {\"outlinewidth\": 0, \"ticks\": \"\"}}, \"type\": \"scattercarpet\"}], \"scattergeo\": [{\"marker\": {\"colorbar\": {\"outlinewidth\": 0, \"ticks\": \"\"}}, \"type\": \"scattergeo\"}], \"scattergl\": [{\"marker\": {\"colorbar\": {\"outlinewidth\": 0, \"ticks\": \"\"}}, \"type\": \"scattergl\"}], \"scattermapbox\": [{\"marker\": {\"colorbar\": {\"outlinewidth\": 0, \"ticks\": \"\"}}, \"type\": \"scattermapbox\"}], \"scatterpolar\": [{\"marker\": {\"colorbar\": {\"outlinewidth\": 0, \"ticks\": \"\"}}, \"type\": \"scatterpolar\"}], \"scatterpolargl\": [{\"marker\": {\"colorbar\": {\"outlinewidth\": 0, \"ticks\": \"\"}}, \"type\": \"scatterpolargl\"}], \"scatterternary\": [{\"marker\": {\"colorbar\": {\"outlinewidth\": 0, \"ticks\": \"\"}}, \"type\": \"scatterternary\"}], \"surface\": [{\"colorbar\": {\"outlinewidth\": 0, \"ticks\": \"\"}, \"colorscale\": [[0.0, \"#0d0887\"], [0.1111111111111111, \"#46039f\"], [0.2222222222222222, \"#7201a8\"], [0.3333333333333333, \"#9c179e\"], [0.4444444444444444, \"#bd3786\"], [0.5555555555555556, \"#d8576b\"], [0.6666666666666666, \"#ed7953\"], [0.7777777777777778, \"#fb9f3a\"], [0.8888888888888888, \"#fdca26\"], [1.0, \"#f0f921\"]], \"type\": \"surface\"}], \"table\": [{\"cells\": {\"fill\": {\"color\": \"#EBF0F8\"}, \"line\": {\"color\": \"white\"}}, \"header\": {\"fill\": {\"color\": \"#C8D4E3\"}, \"line\": {\"color\": \"white\"}}, \"type\": \"table\"}]}, \"layout\": {\"annotationdefaults\": {\"arrowcolor\": \"#2a3f5f\", \"arrowhead\": 0, \"arrowwidth\": 1}, \"coloraxis\": {\"colorbar\": {\"outlinewidth\": 0, \"ticks\": \"\"}}, \"colorscale\": {\"diverging\": [[0, \"#8e0152\"], [0.1, \"#c51b7d\"], [0.2, \"#de77ae\"], [0.3, \"#f1b6da\"], [0.4, \"#fde0ef\"], [0.5, \"#f7f7f7\"], [0.6, \"#e6f5d0\"], [0.7, \"#b8e186\"], [0.8, \"#7fbc41\"], [0.9, \"#4d9221\"], [1, \"#276419\"]], \"sequential\": [[0.0, \"#0d0887\"], [0.1111111111111111, \"#46039f\"], [0.2222222222222222, \"#7201a8\"], [0.3333333333333333, \"#9c179e\"], [0.4444444444444444, \"#bd3786\"], [0.5555555555555556, \"#d8576b\"], [0.6666666666666666, \"#ed7953\"], [0.7777777777777778, \"#fb9f3a\"], [0.8888888888888888, \"#fdca26\"], [1.0, \"#f0f921\"]], \"sequentialminus\": [[0.0, \"#0d0887\"], [0.1111111111111111, \"#46039f\"], [0.2222222222222222, \"#7201a8\"], [0.3333333333333333, \"#9c179e\"], [0.4444444444444444, \"#bd3786\"], [0.5555555555555556, \"#d8576b\"], [0.6666666666666666, \"#ed7953\"], [0.7777777777777778, \"#fb9f3a\"], [0.8888888888888888, \"#fdca26\"], [1.0, \"#f0f921\"]]}, \"colorway\": [\"#636efa\", \"#EF553B\", \"#00cc96\", \"#ab63fa\", \"#FFA15A\", \"#19d3f3\", \"#FF6692\", \"#B6E880\", \"#FF97FF\", \"#FECB52\"], \"font\": {\"color\": \"#2a3f5f\"}, \"geo\": {\"bgcolor\": \"white\", \"lakecolor\": \"white\", \"landcolor\": \"#E5ECF6\", \"showlakes\": true, \"showland\": true, \"subunitcolor\": \"white\"}, \"hoverlabel\": {\"align\": \"left\"}, \"hovermode\": \"closest\", \"mapbox\": {\"style\": \"light\"}, \"paper_bgcolor\": \"white\", \"plot_bgcolor\": \"#E5ECF6\", \"polar\": {\"angularaxis\": {\"gridcolor\": \"white\", \"linecolor\": \"white\", \"ticks\": \"\"}, \"bgcolor\": \"#E5ECF6\", \"radialaxis\": {\"gridcolor\": \"white\", \"linecolor\": \"white\", \"ticks\": \"\"}}, \"scene\": {\"xaxis\": {\"backgroundcolor\": \"#E5ECF6\", \"gridcolor\": \"white\", \"gridwidth\": 2, \"linecolor\": \"white\", \"showbackground\": true, \"ticks\": \"\", \"zerolinecolor\": \"white\"}, \"yaxis\": {\"backgroundcolor\": \"#E5ECF6\", \"gridcolor\": \"white\", \"gridwidth\": 2, \"linecolor\": \"white\", \"showbackground\": true, \"ticks\": \"\", \"zerolinecolor\": \"white\"}, \"zaxis\": {\"backgroundcolor\": \"#E5ECF6\", \"gridcolor\": \"white\", \"gridwidth\": 2, \"linecolor\": \"white\", \"showbackground\": true, \"ticks\": \"\", \"zerolinecolor\": \"white\"}}, \"shapedefaults\": {\"line\": {\"color\": \"#2a3f5f\"}}, \"ternary\": {\"aaxis\": {\"gridcolor\": \"white\", \"linecolor\": \"white\", \"ticks\": \"\"}, \"baxis\": {\"gridcolor\": \"white\", \"linecolor\": \"white\", \"ticks\": \"\"}, \"bgcolor\": \"#E5ECF6\", \"caxis\": {\"gridcolor\": \"white\", \"linecolor\": \"white\", \"ticks\": \"\"}}, \"title\": {\"x\": 0.05}, \"xaxis\": {\"automargin\": true, \"gridcolor\": \"white\", \"linecolor\": \"white\", \"ticks\": \"\", \"title\": {\"standoff\": 15}, \"zerolinecolor\": \"white\", \"zerolinewidth\": 2}, \"yaxis\": {\"automargin\": true, \"gridcolor\": \"white\", \"linecolor\": \"white\", \"ticks\": \"\", \"title\": {\"standoff\": 15}, \"zerolinecolor\": \"white\", \"zerolinewidth\": 2}}}, \"title\": {\"text\": \"Scatterplot Matrix\"}, \"width\": 900, \"xaxis\": {\"anchor\": \"y\", \"domain\": [0.0, 0.45], \"showticklabels\": false}, \"xaxis2\": {\"anchor\": \"y2\", \"domain\": [0.55, 1.0]}, \"xaxis3\": {\"anchor\": \"y3\", \"domain\": [0.0, 0.45], \"title\": {\"text\": \"ef_trade\"}}, \"xaxis4\": {\"anchor\": \"y4\", \"domain\": [0.55, 1.0], \"showticklabels\": false, \"title\": {\"text\": \"pf_expression\"}}, \"yaxis\": {\"anchor\": \"x\", \"domain\": [0.575, 1.0], \"title\": {\"text\": \"ef_trade\"}}, \"yaxis2\": {\"anchor\": \"x2\", \"domain\": [0.575, 1.0]}, \"yaxis3\": {\"anchor\": \"x3\", \"domain\": [0.0, 0.425], \"title\": {\"text\": \"pf_expression\"}}, \"yaxis4\": {\"anchor\": \"x4\", \"domain\": [0.0, 0.425]}},\n",
       "                        {\"responsive\": true}\n",
       "                    ).then(function(){\n",
       "                            \n",
       "var gd = document.getElementById('0524d511-d474-4c52-bdd8-632ec2faf423');\n",
       "var x = new MutationObserver(function (mutations, observer) {{\n",
       "        var display = window.getComputedStyle(gd).display;\n",
       "        if (!display || display === 'none') {{\n",
       "            console.log([gd, 'removed!']);\n",
       "            Plotly.purge(gd);\n",
       "            observer.disconnect();\n",
       "        }}\n",
       "}});\n",
       "\n",
       "// Listen for the removal of the full notebook cells\n",
       "var notebookContainer = gd.closest('#notebook-container');\n",
       "if (notebookContainer) {{\n",
       "    x.observe(notebookContainer, {childList: true});\n",
       "}}\n",
       "\n",
       "// Listen for the clearing of the current output cell\n",
       "var outputEl = gd.closest('.output');\n",
       "if (outputEl) {{\n",
       "    x.observe(outputEl, {childList: true});\n",
       "}}\n",
       "\n",
       "                        })\n",
       "                };\n",
       "                });\n",
       "            </script>\n",
       "        </div>"
      ]
     },
     "metadata": {},
     "output_type": "display_data"
    }
   ],
   "source": [
    "import plotly.figure_factory as ff\n",
    "#prepare data\n",
    "dataframe = data[data.year == 2016]\n",
    "dataVar = dataframe.loc[:,[\"ef_trade\", \"pf_expression\"]]\n",
    "dataVar[\"index\"] = np.arange(1,len(dataVar)+1)\n",
    "#scatter matrix\n",
    "fig = ff.create_scatterplotmatrix(dataVar, diag='box', index ='index', colormap = 'Portland', \n",
    "                                    colormap_type='cat',\n",
    "                                   height = 900, width =900)\n",
    "iplot(fig)"
   ]
  },
  {
   "cell_type": "markdown",
   "metadata": {},
   "source": [
    "# Personal Freedom vs. Human Freedom vs. Economic Freedom"
   ]
  },
  {
   "cell_type": "code",
   "execution_count": 14,
   "metadata": {},
   "outputs": [
    {
     "data": {
      "application/vnd.plotly.v1+json": {
       "config": {
        "linkText": "Export to plot.ly",
        "plotlyServerURL": "https://plot.ly",
        "showLink": false
       },
       "data": [
        {
         "marker": {
          "color": "blue",
          "colorscale": [
           [
            0,
            "rgb(0,0,131)"
           ],
           [
            0.2,
            "rgb(0,60,170)"
           ],
           [
            0.4,
            "rgb(5,255,255)"
           ],
           [
            0.6,
            "rgb(255,255,0)"
           ],
           [
            0.8,
            "rgb(250,0,0)"
           ],
           [
            1,
            "rgb(128,0,0)"
           ]
          ],
          "opacity": 0.5,
          "size": 12
         },
         "mode": "markers",
         "type": "scatter3d",
         "x": [
          7.596280576,
          5.281772108999999,
          6.111324364,
          8.099695682,
          6.912803602,
          9.184438453,
          9.246948401000001,
          5.676553478,
          7.454537846,
          6.136069994,
          5.302600358,
          7.706894465,
          6.059028163,
          8.987178587,
          7.430863836,
          7.496976295,
          6.600972815,
          7.206770015,
          7.861447145,
          6.876334452999999,
          6.6659774060000005,
          4.663699718,
          8.155539077,
          7.45533967,
          4.414134427,
          7.238448286000001,
          5.330774311,
          9.151726642,
          7.986583066000001,
          5.465632394,
          5.50954107,
          8.216035341,
          5.350820339,
          7.021513272999999,
          4.9472567860000005,
          6.777867693999999,
          8.165428969,
          7.062542047999999,
          8.456175752,
          8.514393916,
          9.029761414,
          9.325639969,
          6.942574962,
          7.550555359,
          3.894553773,
          6.917901981,
          9.013701218,
          5.064089941000001,
          7.792204395,
          9.294367917,
          8.766802927,
          5.315575222,
          5.302684702,
          7.576535507000001,
          9.235191378,
          7.872177815,
          7.94676815,
          6.548245982,
          5.371201607000001,
          6.859721724,
          7.041795873,
          7.184442588,
          6.3864825970000005,
          8.583679591000001,
          8.258945772999999,
          9.083506216,
          6.195871335,
          6.38131246,
          4.532449245,
          3.11602762,
          8.939129404,
          7.544916142000001,
          8.690446317000001,
          7.268416093,
          8.73377055,
          6.238666517,
          6.375675545,
          6.44553669,
          8.766349858,
          5.630574473999999,
          6.247012954,
          5.863586171000001,
          8.851068084,
          6.4299941789999995,
          6.68844396,
          6.403401744,
          3.8805656230000003,
          8.821338926000001,
          9.257401822,
          7.413658024,
          6.835123509,
          7.445213609,
          5.902979954,
          6.060929471000001,
          8.977997462000001,
          4.987749776,
          7.717465632000001,
          6.796020397,
          7.059029525,
          7.998312553,
          7.630104133,
          5.986756512,
          6.659206645,
          5.463360869,
          7.394915502000001,
          6.91161139,
          9.39884236,
          9.284819157000001,
          6.432494726,
          5.714520097,
          5.823617206000001,
          9.342481133,
          5.509055213,
          5.324592448,
          7.715240074,
          7.254948816000001,
          6.974598187000001,
          7.720786695,
          6.497526693999999,
          8.353120455,
          9.043712243,
          5.525552977,
          8.653232499,
          5.714381665,
          6.467739051000001,
          4.438732068999999,
          6.774187769,
          7.847943252,
          7.372524335,
          7.044659152,
          7.479423635,
          8.536499891,
          8.822791467,
          7.695143614,
          8.758213764,
          6.040721832999999,
          4.246047171,
          7.788563046,
          6.020328657,
          9.334750298,
          9.185518099,
          2.511653754,
          9.041394037,
          5.652324579,
          6.126418693,
          6.399562601,
          6.186449627000001,
          6.72993801,
          6.920446387999999,
          6.577472244,
          6.092465309,
          6.128889094,
          6.586270408,
          5.073350176,
          8.995835872,
          8.747310216,
          8.296141806,
          5.5214489129999995,
          5.968007599999999,
          2.16655534,
          6.007698856,
          5.170725575
         ],
         "y": [
          7.5681402879999995,
          5.135886055,
          5.640662182000001,
          6.469847841,
          7.241401801,
          8.582219227000001,
          8.4134742,
          6.0832767389999995,
          7.3972689229999995,
          6.848034997,
          5.801300179,
          7.0684472320000005,
          6.144514082000001,
          8.153589293,
          7.145431918,
          6.738488147000001,
          6.810486407000001,
          6.718385007,
          7.2307235720000005,
          7.153167226,
          6.207988703,
          5.796849859,
          7.782769537999999,
          6.752669835,
          5.167067213,
          7.204224142999999,
          5.575387155,
          8.565863321,
          7.333291533,
          5.287816197,
          5.474770535,
          8.00801767,
          5.905410169,
          6.760756637,
          5.308628393,
          5.898933847,
          7.857714484,
          6.531271024,
          7.7080878760000004,
          8.112196958,
          8.294880707,
          8.547819985,
          7.061287481,
          6.80527768,
          4.807276886,
          7.033950991,
          8.436850609,
          5.397044971000001,
          7.291102197000001,
          8.472183957999999,
          8.008401464,
          5.577787611000001,
          6.321342351,
          7.798267752999999,
          8.462595689,
          7.236088907999999,
          7.203384075,
          7.094122991,
          5.650600803,
          6.054860862000001,
          6.675897936,
          6.847221294,
          6.723241298,
          8.776839796,
          7.739472887000001,
          8.151753108,
          6.412935667999999,
          6.77065623,
          5.281224623,
          4.25801381,
          8.504564702,
          7.517458071,
          7.9802231589999995,
          7.224208046,
          8.101885275,
          6.849333258,
          6.742837772000001,
          6.822768345,
          8.148174929,
          6.190287237000001,
          6.588506477,
          6.386793085,
          8.245534042000001,
          6.70999709,
          6.53422198,
          6.481700872,
          4.310282812,
          8.340669463,
          8.428700911,
          7.271829012,
          6.512561755,
          6.652606805,
          6.4114899770000005,
          5.930464736,
          8.353998731,
          5.473874887999999,
          7.863732816000001,
          6.848010198,
          6.849514762,
          7.699156277,
          7.335052066,
          6.178378256,
          6.0796033220000005,
          5.441680433999999,
          6.897457751,
          6.720805695,
          8.55442118,
          8.887409579,
          6.851247363,
          5.862260048,
          6.071808602999999,
          8.471240566,
          6.134527607000001,
          5.662296223999999,
          7.647620037,
          6.752474407999999,
          6.962299094,
          7.575393347,
          6.9187633470000005,
          7.811560227,
          8.276856122,
          6.507776487999999,
          8.171616249,
          6.272190833,
          6.9738695260000005,
          5.479366035,
          6.497093885,
          7.348971626,
          7.301262167999999,
          6.397329576000001,
          8.159711817,
          7.918249946,
          7.9363957329999995,
          7.172571807000001,
          8.159106882,
          6.265360917000001,
          4.803023585,
          7.074281523,
          6.240164329,
          8.387375149,
          8.78775905,
          3.765826877,
          8.465697018,
          6.18616229,
          6.523209346,
          6.6247813010000005,
          6.368224812999999,
          6.274969005,
          6.825223193999999,
          6.433736122000001,
          6.466232654,
          6.769444547000001,
          6.283135204,
          6.286675088,
          8.497917936,
          8.388655108,
          7.728070903,
          4.2007244560000006,
          6.1940038,
          4.25327767,
          6.308849427999999,
          5.6153627870000005
         ],
         "z": [
          7.54,
          4.99,
          5.17,
          4.84,
          7.57,
          7.98,
          7.58,
          6.49,
          7.34,
          7.56,
          6.3,
          6.43,
          6.23,
          7.32,
          6.86,
          5.98,
          7.02,
          6.23,
          6.6,
          7.43,
          5.75,
          6.93,
          7.41,
          6.05,
          5.92,
          7.17,
          5.82,
          7.98,
          6.68,
          5.11,
          5.44,
          7.8,
          6.46,
          6.5,
          5.67,
          5.02,
          7.55,
          6,
          6.96,
          7.71,
          7.56,
          7.77,
          7.18,
          6.06,
          5.72,
          7.15,
          7.86,
          5.73,
          6.79,
          7.65,
          7.25,
          5.84,
          7.34,
          8.02,
          7.69,
          6.6,
          6.46,
          7.64,
          5.93,
          5.25,
          6.31,
          6.51,
          7.06,
          8.97,
          7.22,
          7.22,
          6.63,
          7.16,
          6.03,
          5.4,
          8.07,
          7.49,
          7.27,
          7.18,
          7.47,
          7.46,
          7.11,
          7.2,
          7.53,
          6.75,
          6.93,
          6.91,
          7.64,
          6.99,
          6.38,
          6.56,
          4.74,
          7.86,
          7.6,
          7.13,
          6.19,
          5.86,
          6.92,
          5.8,
          7.73,
          5.96,
          8.01,
          6.9,
          6.64,
          7.4,
          7.04,
          6.37,
          5.5,
          5.42,
          6.4,
          6.53,
          7.71,
          8.49,
          7.27,
          6.01,
          6.32,
          7.6,
          6.76,
          6,
          7.58,
          6.25,
          6.95,
          7.43,
          7.34,
          7.27,
          7.51,
          7.49,
          7.69,
          6.83,
          7.48,
          6.52,
          6.22,
          6.85,
          7.23,
          5.75,
          8.84,
          7.3,
          7.05,
          6.65,
          7.56,
          6.49,
          5.36,
          6.36,
          6.46,
          7.44,
          8.39,
          5.02,
          7.89,
          6.72,
          6.92,
          6.85,
          6.55,
          5.82,
          6.73,
          6.29,
          6.84,
          7.41,
          5.98,
          7.5,
          8,
          8.03,
          7.16,
          2.88,
          6.42,
          6.34,
          6.61,
          6.06
         ]
        }
       ],
       "layout": {
        "margin": {
         "b": 0,
         "l": 0,
         "r": 0,
         "t": 0
        },
        "showlegend": true,
        "template": {
         "data": {
          "bar": [
           {
            "error_x": {
             "color": "#2a3f5f"
            },
            "error_y": {
             "color": "#2a3f5f"
            },
            "marker": {
             "line": {
              "color": "#E5ECF6",
              "width": 0.5
             }
            },
            "type": "bar"
           }
          ],
          "barpolar": [
           {
            "marker": {
             "line": {
              "color": "#E5ECF6",
              "width": 0.5
             }
            },
            "type": "barpolar"
           }
          ],
          "carpet": [
           {
            "aaxis": {
             "endlinecolor": "#2a3f5f",
             "gridcolor": "white",
             "linecolor": "white",
             "minorgridcolor": "white",
             "startlinecolor": "#2a3f5f"
            },
            "baxis": {
             "endlinecolor": "#2a3f5f",
             "gridcolor": "white",
             "linecolor": "white",
             "minorgridcolor": "white",
             "startlinecolor": "#2a3f5f"
            },
            "type": "carpet"
           }
          ],
          "choropleth": [
           {
            "colorbar": {
             "outlinewidth": 0,
             "ticks": ""
            },
            "type": "choropleth"
           }
          ],
          "contour": [
           {
            "colorbar": {
             "outlinewidth": 0,
             "ticks": ""
            },
            "colorscale": [
             [
              0,
              "#0d0887"
             ],
             [
              0.1111111111111111,
              "#46039f"
             ],
             [
              0.2222222222222222,
              "#7201a8"
             ],
             [
              0.3333333333333333,
              "#9c179e"
             ],
             [
              0.4444444444444444,
              "#bd3786"
             ],
             [
              0.5555555555555556,
              "#d8576b"
             ],
             [
              0.6666666666666666,
              "#ed7953"
             ],
             [
              0.7777777777777778,
              "#fb9f3a"
             ],
             [
              0.8888888888888888,
              "#fdca26"
             ],
             [
              1,
              "#f0f921"
             ]
            ],
            "type": "contour"
           }
          ],
          "contourcarpet": [
           {
            "colorbar": {
             "outlinewidth": 0,
             "ticks": ""
            },
            "type": "contourcarpet"
           }
          ],
          "heatmap": [
           {
            "colorbar": {
             "outlinewidth": 0,
             "ticks": ""
            },
            "colorscale": [
             [
              0,
              "#0d0887"
             ],
             [
              0.1111111111111111,
              "#46039f"
             ],
             [
              0.2222222222222222,
              "#7201a8"
             ],
             [
              0.3333333333333333,
              "#9c179e"
             ],
             [
              0.4444444444444444,
              "#bd3786"
             ],
             [
              0.5555555555555556,
              "#d8576b"
             ],
             [
              0.6666666666666666,
              "#ed7953"
             ],
             [
              0.7777777777777778,
              "#fb9f3a"
             ],
             [
              0.8888888888888888,
              "#fdca26"
             ],
             [
              1,
              "#f0f921"
             ]
            ],
            "type": "heatmap"
           }
          ],
          "heatmapgl": [
           {
            "colorbar": {
             "outlinewidth": 0,
             "ticks": ""
            },
            "colorscale": [
             [
              0,
              "#0d0887"
             ],
             [
              0.1111111111111111,
              "#46039f"
             ],
             [
              0.2222222222222222,
              "#7201a8"
             ],
             [
              0.3333333333333333,
              "#9c179e"
             ],
             [
              0.4444444444444444,
              "#bd3786"
             ],
             [
              0.5555555555555556,
              "#d8576b"
             ],
             [
              0.6666666666666666,
              "#ed7953"
             ],
             [
              0.7777777777777778,
              "#fb9f3a"
             ],
             [
              0.8888888888888888,
              "#fdca26"
             ],
             [
              1,
              "#f0f921"
             ]
            ],
            "type": "heatmapgl"
           }
          ],
          "histogram": [
           {
            "marker": {
             "colorbar": {
              "outlinewidth": 0,
              "ticks": ""
             }
            },
            "type": "histogram"
           }
          ],
          "histogram2d": [
           {
            "colorbar": {
             "outlinewidth": 0,
             "ticks": ""
            },
            "colorscale": [
             [
              0,
              "#0d0887"
             ],
             [
              0.1111111111111111,
              "#46039f"
             ],
             [
              0.2222222222222222,
              "#7201a8"
             ],
             [
              0.3333333333333333,
              "#9c179e"
             ],
             [
              0.4444444444444444,
              "#bd3786"
             ],
             [
              0.5555555555555556,
              "#d8576b"
             ],
             [
              0.6666666666666666,
              "#ed7953"
             ],
             [
              0.7777777777777778,
              "#fb9f3a"
             ],
             [
              0.8888888888888888,
              "#fdca26"
             ],
             [
              1,
              "#f0f921"
             ]
            ],
            "type": "histogram2d"
           }
          ],
          "histogram2dcontour": [
           {
            "colorbar": {
             "outlinewidth": 0,
             "ticks": ""
            },
            "colorscale": [
             [
              0,
              "#0d0887"
             ],
             [
              0.1111111111111111,
              "#46039f"
             ],
             [
              0.2222222222222222,
              "#7201a8"
             ],
             [
              0.3333333333333333,
              "#9c179e"
             ],
             [
              0.4444444444444444,
              "#bd3786"
             ],
             [
              0.5555555555555556,
              "#d8576b"
             ],
             [
              0.6666666666666666,
              "#ed7953"
             ],
             [
              0.7777777777777778,
              "#fb9f3a"
             ],
             [
              0.8888888888888888,
              "#fdca26"
             ],
             [
              1,
              "#f0f921"
             ]
            ],
            "type": "histogram2dcontour"
           }
          ],
          "mesh3d": [
           {
            "colorbar": {
             "outlinewidth": 0,
             "ticks": ""
            },
            "type": "mesh3d"
           }
          ],
          "parcoords": [
           {
            "line": {
             "colorbar": {
              "outlinewidth": 0,
              "ticks": ""
             }
            },
            "type": "parcoords"
           }
          ],
          "pie": [
           {
            "automargin": true,
            "type": "pie"
           }
          ],
          "scatter": [
           {
            "marker": {
             "colorbar": {
              "outlinewidth": 0,
              "ticks": ""
             }
            },
            "type": "scatter"
           }
          ],
          "scatter3d": [
           {
            "line": {
             "colorbar": {
              "outlinewidth": 0,
              "ticks": ""
             }
            },
            "marker": {
             "colorbar": {
              "outlinewidth": 0,
              "ticks": ""
             }
            },
            "type": "scatter3d"
           }
          ],
          "scattercarpet": [
           {
            "marker": {
             "colorbar": {
              "outlinewidth": 0,
              "ticks": ""
             }
            },
            "type": "scattercarpet"
           }
          ],
          "scattergeo": [
           {
            "marker": {
             "colorbar": {
              "outlinewidth": 0,
              "ticks": ""
             }
            },
            "type": "scattergeo"
           }
          ],
          "scattergl": [
           {
            "marker": {
             "colorbar": {
              "outlinewidth": 0,
              "ticks": ""
             }
            },
            "type": "scattergl"
           }
          ],
          "scattermapbox": [
           {
            "marker": {
             "colorbar": {
              "outlinewidth": 0,
              "ticks": ""
             }
            },
            "type": "scattermapbox"
           }
          ],
          "scatterpolar": [
           {
            "marker": {
             "colorbar": {
              "outlinewidth": 0,
              "ticks": ""
             }
            },
            "type": "scatterpolar"
           }
          ],
          "scatterpolargl": [
           {
            "marker": {
             "colorbar": {
              "outlinewidth": 0,
              "ticks": ""
             }
            },
            "type": "scatterpolargl"
           }
          ],
          "scatterternary": [
           {
            "marker": {
             "colorbar": {
              "outlinewidth": 0,
              "ticks": ""
             }
            },
            "type": "scatterternary"
           }
          ],
          "surface": [
           {
            "colorbar": {
             "outlinewidth": 0,
             "ticks": ""
            },
            "colorscale": [
             [
              0,
              "#0d0887"
             ],
             [
              0.1111111111111111,
              "#46039f"
             ],
             [
              0.2222222222222222,
              "#7201a8"
             ],
             [
              0.3333333333333333,
              "#9c179e"
             ],
             [
              0.4444444444444444,
              "#bd3786"
             ],
             [
              0.5555555555555556,
              "#d8576b"
             ],
             [
              0.6666666666666666,
              "#ed7953"
             ],
             [
              0.7777777777777778,
              "#fb9f3a"
             ],
             [
              0.8888888888888888,
              "#fdca26"
             ],
             [
              1,
              "#f0f921"
             ]
            ],
            "type": "surface"
           }
          ],
          "table": [
           {
            "cells": {
             "fill": {
              "color": "#EBF0F8"
             },
             "line": {
              "color": "white"
             }
            },
            "header": {
             "fill": {
              "color": "#C8D4E3"
             },
             "line": {
              "color": "white"
             }
            },
            "type": "table"
           }
          ]
         },
         "layout": {
          "annotationdefaults": {
           "arrowcolor": "#2a3f5f",
           "arrowhead": 0,
           "arrowwidth": 1
          },
          "coloraxis": {
           "colorbar": {
            "outlinewidth": 0,
            "ticks": ""
           }
          },
          "colorscale": {
           "diverging": [
            [
             0,
             "#8e0152"
            ],
            [
             0.1,
             "#c51b7d"
            ],
            [
             0.2,
             "#de77ae"
            ],
            [
             0.3,
             "#f1b6da"
            ],
            [
             0.4,
             "#fde0ef"
            ],
            [
             0.5,
             "#f7f7f7"
            ],
            [
             0.6,
             "#e6f5d0"
            ],
            [
             0.7,
             "#b8e186"
            ],
            [
             0.8,
             "#7fbc41"
            ],
            [
             0.9,
             "#4d9221"
            ],
            [
             1,
             "#276419"
            ]
           ],
           "sequential": [
            [
             0,
             "#0d0887"
            ],
            [
             0.1111111111111111,
             "#46039f"
            ],
            [
             0.2222222222222222,
             "#7201a8"
            ],
            [
             0.3333333333333333,
             "#9c179e"
            ],
            [
             0.4444444444444444,
             "#bd3786"
            ],
            [
             0.5555555555555556,
             "#d8576b"
            ],
            [
             0.6666666666666666,
             "#ed7953"
            ],
            [
             0.7777777777777778,
             "#fb9f3a"
            ],
            [
             0.8888888888888888,
             "#fdca26"
            ],
            [
             1,
             "#f0f921"
            ]
           ],
           "sequentialminus": [
            [
             0,
             "#0d0887"
            ],
            [
             0.1111111111111111,
             "#46039f"
            ],
            [
             0.2222222222222222,
             "#7201a8"
            ],
            [
             0.3333333333333333,
             "#9c179e"
            ],
            [
             0.4444444444444444,
             "#bd3786"
            ],
            [
             0.5555555555555556,
             "#d8576b"
            ],
            [
             0.6666666666666666,
             "#ed7953"
            ],
            [
             0.7777777777777778,
             "#fb9f3a"
            ],
            [
             0.8888888888888888,
             "#fdca26"
            ],
            [
             1,
             "#f0f921"
            ]
           ]
          },
          "colorway": [
           "#636efa",
           "#EF553B",
           "#00cc96",
           "#ab63fa",
           "#FFA15A",
           "#19d3f3",
           "#FF6692",
           "#B6E880",
           "#FF97FF",
           "#FECB52"
          ],
          "font": {
           "color": "#2a3f5f"
          },
          "geo": {
           "bgcolor": "white",
           "lakecolor": "white",
           "landcolor": "#E5ECF6",
           "showlakes": true,
           "showland": true,
           "subunitcolor": "white"
          },
          "hoverlabel": {
           "align": "left"
          },
          "hovermode": "closest",
          "mapbox": {
           "style": "light"
          },
          "paper_bgcolor": "white",
          "plot_bgcolor": "#E5ECF6",
          "polar": {
           "angularaxis": {
            "gridcolor": "white",
            "linecolor": "white",
            "ticks": ""
           },
           "bgcolor": "#E5ECF6",
           "radialaxis": {
            "gridcolor": "white",
            "linecolor": "white",
            "ticks": ""
           }
          },
          "scene": {
           "xaxis": {
            "backgroundcolor": "#E5ECF6",
            "gridcolor": "white",
            "gridwidth": 2,
            "linecolor": "white",
            "showbackground": true,
            "ticks": "",
            "zerolinecolor": "white"
           },
           "yaxis": {
            "backgroundcolor": "#E5ECF6",
            "gridcolor": "white",
            "gridwidth": 2,
            "linecolor": "white",
            "showbackground": true,
            "ticks": "",
            "zerolinecolor": "white"
           },
           "zaxis": {
            "backgroundcolor": "#E5ECF6",
            "gridcolor": "white",
            "gridwidth": 2,
            "linecolor": "white",
            "showbackground": true,
            "ticks": "",
            "zerolinecolor": "white"
           }
          },
          "shapedefaults": {
           "line": {
            "color": "#2a3f5f"
           }
          },
          "ternary": {
           "aaxis": {
            "gridcolor": "white",
            "linecolor": "white",
            "ticks": ""
           },
           "baxis": {
            "gridcolor": "white",
            "linecolor": "white",
            "ticks": ""
           },
           "bgcolor": "#E5ECF6",
           "caxis": {
            "gridcolor": "white",
            "linecolor": "white",
            "ticks": ""
           }
          },
          "title": {
           "x": 0.05
          },
          "xaxis": {
           "automargin": true,
           "gridcolor": "white",
           "linecolor": "white",
           "ticks": "",
           "title": {
            "standoff": 15
           },
           "zerolinecolor": "white",
           "zerolinewidth": 2
          },
          "yaxis": {
           "automargin": true,
           "gridcolor": "white",
           "linecolor": "white",
           "ticks": "",
           "title": {
            "standoff": 15
           },
           "zerolinecolor": "white",
           "zerolinewidth": 2
          }
         }
        }
       }
      },
      "text/html": [
       "<div>\n",
       "        \n",
       "        \n",
       "            <div id=\"7e3daf11-c7ee-41ac-9c79-63632484b016\" class=\"plotly-graph-div\" style=\"height:525px; width:100%;\"></div>\n",
       "            <script type=\"text/javascript\">\n",
       "                require([\"plotly\"], function(Plotly) {\n",
       "                    window.PLOTLYENV=window.PLOTLYENV || {};\n",
       "                    \n",
       "                if (document.getElementById(\"7e3daf11-c7ee-41ac-9c79-63632484b016\")) {\n",
       "                    Plotly.newPlot(\n",
       "                        '7e3daf11-c7ee-41ac-9c79-63632484b016',\n",
       "                        [{\"marker\": {\"color\": \"blue\", \"colorscale\": [[0.0, \"rgb(0,0,131)\"], [0.2, \"rgb(0,60,170)\"], [0.4, \"rgb(5,255,255)\"], [0.6, \"rgb(255,255,0)\"], [0.8, \"rgb(250,0,0)\"], [1.0, \"rgb(128,0,0)\"]], \"opacity\": 0.5, \"size\": 12}, \"mode\": \"markers\", \"type\": \"scatter3d\", \"x\": [7.596280576, 5.281772108999999, 6.111324364, 8.099695682, 6.912803602, 9.184438453, 9.246948401000001, 5.676553478, 7.454537846, 6.136069994, 5.302600358, 7.706894465, 6.059028163, 8.987178587, 7.430863836, 7.496976295, 6.600972815, 7.206770015, 7.861447145, 6.876334452999999, 6.6659774060000005, 4.663699718, 8.155539077, 7.45533967, 4.414134427, 7.238448286000001, 5.330774311, 9.151726642, 7.986583066000001, 5.465632394, 5.50954107, 8.216035341, 5.350820339, 7.021513272999999, 4.9472567860000005, 6.777867693999999, 8.165428969, 7.062542047999999, 8.456175752, 8.514393916, 9.029761414, 9.325639969, 6.942574962, 7.550555359, 3.894553773, 6.917901981, 9.013701218, 5.064089941000001, 7.792204395, 9.294367917, 8.766802927, 5.315575222, 5.302684702, 7.576535507000001, 9.235191378, 7.872177815, 7.94676815, 6.548245982, 5.371201607000001, 6.859721724, 7.041795873, 7.184442588, 6.3864825970000005, 8.583679591000001, 8.258945772999999, 9.083506216, 6.195871335, 6.38131246, 4.532449245, 3.11602762, 8.939129404, 7.544916142000001, 8.690446317000001, 7.268416093, 8.73377055, 6.238666517, 6.375675545, 6.44553669, 8.766349858, 5.630574473999999, 6.247012954, 5.863586171000001, 8.851068084, 6.4299941789999995, 6.68844396, 6.403401744, 3.8805656230000003, 8.821338926000001, 9.257401822, 7.413658024, 6.835123509, 7.445213609, 5.902979954, 6.060929471000001, 8.977997462000001, 4.987749776, 7.717465632000001, 6.796020397, 7.059029525, 7.998312553, 7.630104133, 5.986756512, 6.659206645, 5.463360869, 7.394915502000001, 6.91161139, 9.39884236, 9.284819157000001, 6.432494726, 5.714520097, 5.823617206000001, 9.342481133, 5.509055213, 5.324592448, 7.715240074, 7.254948816000001, 6.974598187000001, 7.720786695, 6.497526693999999, 8.353120455, 9.043712243, 5.525552977, 8.653232499, 5.714381665, 6.467739051000001, 4.438732068999999, 6.774187769, 7.847943252, 7.372524335, 7.044659152, 7.479423635, 8.536499891, 8.822791467, 7.695143614, 8.758213764, 6.040721832999999, 4.246047171, 7.788563046, 6.020328657, 9.334750298, 9.185518099, 2.511653754, 9.041394037, 5.652324579, 6.126418693, 6.399562601, 6.186449627000001, 6.72993801, 6.920446387999999, 6.577472244, 6.092465309, 6.128889094, 6.586270408, 5.073350176, 8.995835872, 8.747310216, 8.296141806, 5.5214489129999995, 5.968007599999999, 2.16655534, 6.007698856, 5.170725575], \"y\": [7.5681402879999995, 5.135886055, 5.640662182000001, 6.469847841, 7.241401801, 8.582219227000001, 8.4134742, 6.0832767389999995, 7.3972689229999995, 6.848034997, 5.801300179, 7.0684472320000005, 6.144514082000001, 8.153589293, 7.145431918, 6.738488147000001, 6.810486407000001, 6.718385007, 7.2307235720000005, 7.153167226, 6.207988703, 5.796849859, 7.782769537999999, 6.752669835, 5.167067213, 7.204224142999999, 5.575387155, 8.565863321, 7.333291533, 5.287816197, 5.474770535, 8.00801767, 5.905410169, 6.760756637, 5.308628393, 5.898933847, 7.857714484, 6.531271024, 7.7080878760000004, 8.112196958, 8.294880707, 8.547819985, 7.061287481, 6.80527768, 4.807276886, 7.033950991, 8.436850609, 5.397044971000001, 7.291102197000001, 8.472183957999999, 8.008401464, 5.577787611000001, 6.321342351, 7.798267752999999, 8.462595689, 7.236088907999999, 7.203384075, 7.094122991, 5.650600803, 6.054860862000001, 6.675897936, 6.847221294, 6.723241298, 8.776839796, 7.739472887000001, 8.151753108, 6.412935667999999, 6.77065623, 5.281224623, 4.25801381, 8.504564702, 7.517458071, 7.9802231589999995, 7.224208046, 8.101885275, 6.849333258, 6.742837772000001, 6.822768345, 8.148174929, 6.190287237000001, 6.588506477, 6.386793085, 8.245534042000001, 6.70999709, 6.53422198, 6.481700872, 4.310282812, 8.340669463, 8.428700911, 7.271829012, 6.512561755, 6.652606805, 6.4114899770000005, 5.930464736, 8.353998731, 5.473874887999999, 7.863732816000001, 6.848010198, 6.849514762, 7.699156277, 7.335052066, 6.178378256, 6.0796033220000005, 5.441680433999999, 6.897457751, 6.720805695, 8.55442118, 8.887409579, 6.851247363, 5.862260048, 6.071808602999999, 8.471240566, 6.134527607000001, 5.662296223999999, 7.647620037, 6.752474407999999, 6.962299094, 7.575393347, 6.9187633470000005, 7.811560227, 8.276856122, 6.507776487999999, 8.171616249, 6.272190833, 6.9738695260000005, 5.479366035, 6.497093885, 7.348971626, 7.301262167999999, 6.397329576000001, 8.159711817, 7.918249946, 7.9363957329999995, 7.172571807000001, 8.159106882, 6.265360917000001, 4.803023585, 7.074281523, 6.240164329, 8.387375149, 8.78775905, 3.765826877, 8.465697018, 6.18616229, 6.523209346, 6.6247813010000005, 6.368224812999999, 6.274969005, 6.825223193999999, 6.433736122000001, 6.466232654, 6.769444547000001, 6.283135204, 6.286675088, 8.497917936, 8.388655108, 7.728070903, 4.2007244560000006, 6.1940038, 4.25327767, 6.308849427999999, 5.6153627870000005], \"z\": [7.54, 4.99, 5.17, 4.84, 7.57, 7.98, 7.58, 6.49, 7.34, 7.56, 6.3, 6.43, 6.23, 7.32, 6.86, 5.98, 7.02, 6.23, 6.6, 7.43, 5.75, 6.93, 7.41, 6.05, 5.92, 7.17, 5.82, 7.98, 6.68, 5.11, 5.44, 7.8, 6.46, 6.5, 5.67, 5.02, 7.55, 6.0, 6.96, 7.71, 7.56, 7.77, 7.18, 6.06, 5.72, 7.15, 7.86, 5.73, 6.79, 7.65, 7.25, 5.84, 7.34, 8.02, 7.69, 6.6, 6.46, 7.64, 5.93, 5.25, 6.31, 6.51, 7.06, 8.97, 7.22, 7.22, 6.63, 7.16, 6.03, 5.4, 8.07, 7.49, 7.27, 7.18, 7.47, 7.46, 7.11, 7.2, 7.53, 6.75, 6.93, 6.91, 7.64, 6.99, 6.38, 6.56, 4.74, 7.86, 7.6, 7.13, 6.19, 5.86, 6.92, 5.8, 7.73, 5.96, 8.01, 6.9, 6.64, 7.4, 7.04, 6.37, 5.5, 5.42, 6.4, 6.53, 7.71, 8.49, 7.27, 6.01, 6.32, 7.6, 6.76, 6.0, 7.58, 6.25, 6.95, 7.43, 7.34, 7.27, 7.51, 7.49, 7.69, 6.83, 7.48, 6.52, 6.22, 6.85, 7.23, 5.75, 8.84, 7.3, 7.05, 6.65, 7.56, 6.49, 5.36, 6.36, 6.46, 7.44, 8.39, 5.02, 7.89, 6.72, 6.92, 6.85, 6.55, 5.82, 6.73, 6.29, 6.84, 7.41, 5.98, 7.5, 8.0, 8.03, 7.16, 2.88, 6.42, 6.34, 6.61, 6.06]}],\n",
       "                        {\"margin\": {\"b\": 0, \"l\": 0, \"r\": 0, \"t\": 0}, \"showlegend\": true, \"template\": {\"data\": {\"bar\": [{\"error_x\": {\"color\": \"#2a3f5f\"}, \"error_y\": {\"color\": \"#2a3f5f\"}, \"marker\": {\"line\": {\"color\": \"#E5ECF6\", \"width\": 0.5}}, \"type\": \"bar\"}], \"barpolar\": [{\"marker\": {\"line\": {\"color\": \"#E5ECF6\", \"width\": 0.5}}, \"type\": \"barpolar\"}], \"carpet\": [{\"aaxis\": {\"endlinecolor\": \"#2a3f5f\", \"gridcolor\": \"white\", \"linecolor\": \"white\", \"minorgridcolor\": \"white\", \"startlinecolor\": \"#2a3f5f\"}, \"baxis\": {\"endlinecolor\": \"#2a3f5f\", \"gridcolor\": \"white\", \"linecolor\": \"white\", \"minorgridcolor\": \"white\", \"startlinecolor\": \"#2a3f5f\"}, \"type\": \"carpet\"}], \"choropleth\": [{\"colorbar\": {\"outlinewidth\": 0, \"ticks\": \"\"}, \"type\": \"choropleth\"}], \"contour\": [{\"colorbar\": {\"outlinewidth\": 0, \"ticks\": \"\"}, \"colorscale\": [[0.0, \"#0d0887\"], [0.1111111111111111, \"#46039f\"], [0.2222222222222222, \"#7201a8\"], [0.3333333333333333, \"#9c179e\"], [0.4444444444444444, \"#bd3786\"], [0.5555555555555556, \"#d8576b\"], [0.6666666666666666, \"#ed7953\"], [0.7777777777777778, \"#fb9f3a\"], [0.8888888888888888, \"#fdca26\"], [1.0, \"#f0f921\"]], \"type\": \"contour\"}], \"contourcarpet\": [{\"colorbar\": {\"outlinewidth\": 0, \"ticks\": \"\"}, \"type\": \"contourcarpet\"}], \"heatmap\": [{\"colorbar\": {\"outlinewidth\": 0, \"ticks\": \"\"}, \"colorscale\": [[0.0, \"#0d0887\"], [0.1111111111111111, \"#46039f\"], [0.2222222222222222, \"#7201a8\"], [0.3333333333333333, \"#9c179e\"], [0.4444444444444444, \"#bd3786\"], [0.5555555555555556, \"#d8576b\"], [0.6666666666666666, \"#ed7953\"], [0.7777777777777778, \"#fb9f3a\"], [0.8888888888888888, \"#fdca26\"], [1.0, \"#f0f921\"]], \"type\": \"heatmap\"}], \"heatmapgl\": [{\"colorbar\": {\"outlinewidth\": 0, \"ticks\": \"\"}, \"colorscale\": [[0.0, \"#0d0887\"], [0.1111111111111111, \"#46039f\"], [0.2222222222222222, \"#7201a8\"], [0.3333333333333333, \"#9c179e\"], [0.4444444444444444, \"#bd3786\"], [0.5555555555555556, \"#d8576b\"], [0.6666666666666666, \"#ed7953\"], [0.7777777777777778, \"#fb9f3a\"], [0.8888888888888888, \"#fdca26\"], [1.0, \"#f0f921\"]], \"type\": \"heatmapgl\"}], \"histogram\": [{\"marker\": {\"colorbar\": {\"outlinewidth\": 0, \"ticks\": \"\"}}, \"type\": \"histogram\"}], \"histogram2d\": [{\"colorbar\": {\"outlinewidth\": 0, \"ticks\": \"\"}, \"colorscale\": [[0.0, \"#0d0887\"], [0.1111111111111111, \"#46039f\"], [0.2222222222222222, \"#7201a8\"], [0.3333333333333333, \"#9c179e\"], [0.4444444444444444, \"#bd3786\"], [0.5555555555555556, \"#d8576b\"], [0.6666666666666666, \"#ed7953\"], [0.7777777777777778, \"#fb9f3a\"], [0.8888888888888888, \"#fdca26\"], [1.0, \"#f0f921\"]], \"type\": \"histogram2d\"}], \"histogram2dcontour\": [{\"colorbar\": {\"outlinewidth\": 0, \"ticks\": \"\"}, \"colorscale\": [[0.0, \"#0d0887\"], [0.1111111111111111, \"#46039f\"], [0.2222222222222222, \"#7201a8\"], [0.3333333333333333, \"#9c179e\"], [0.4444444444444444, \"#bd3786\"], [0.5555555555555556, \"#d8576b\"], [0.6666666666666666, \"#ed7953\"], [0.7777777777777778, \"#fb9f3a\"], [0.8888888888888888, \"#fdca26\"], [1.0, \"#f0f921\"]], \"type\": \"histogram2dcontour\"}], \"mesh3d\": [{\"colorbar\": {\"outlinewidth\": 0, \"ticks\": \"\"}, \"type\": \"mesh3d\"}], \"parcoords\": [{\"line\": {\"colorbar\": {\"outlinewidth\": 0, \"ticks\": \"\"}}, \"type\": \"parcoords\"}], \"pie\": [{\"automargin\": true, \"type\": \"pie\"}], \"scatter\": [{\"marker\": {\"colorbar\": {\"outlinewidth\": 0, \"ticks\": \"\"}}, \"type\": \"scatter\"}], \"scatter3d\": [{\"line\": {\"colorbar\": {\"outlinewidth\": 0, \"ticks\": \"\"}}, \"marker\": {\"colorbar\": {\"outlinewidth\": 0, \"ticks\": \"\"}}, \"type\": \"scatter3d\"}], \"scattercarpet\": [{\"marker\": {\"colorbar\": {\"outlinewidth\": 0, \"ticks\": \"\"}}, \"type\": \"scattercarpet\"}], \"scattergeo\": [{\"marker\": {\"colorbar\": {\"outlinewidth\": 0, \"ticks\": \"\"}}, \"type\": \"scattergeo\"}], \"scattergl\": [{\"marker\": {\"colorbar\": {\"outlinewidth\": 0, \"ticks\": \"\"}}, \"type\": \"scattergl\"}], \"scattermapbox\": [{\"marker\": {\"colorbar\": {\"outlinewidth\": 0, \"ticks\": \"\"}}, \"type\": \"scattermapbox\"}], \"scatterpolar\": [{\"marker\": {\"colorbar\": {\"outlinewidth\": 0, \"ticks\": \"\"}}, \"type\": \"scatterpolar\"}], \"scatterpolargl\": [{\"marker\": {\"colorbar\": {\"outlinewidth\": 0, \"ticks\": \"\"}}, \"type\": \"scatterpolargl\"}], \"scatterternary\": [{\"marker\": {\"colorbar\": {\"outlinewidth\": 0, \"ticks\": \"\"}}, \"type\": \"scatterternary\"}], \"surface\": [{\"colorbar\": {\"outlinewidth\": 0, \"ticks\": \"\"}, \"colorscale\": [[0.0, \"#0d0887\"], [0.1111111111111111, \"#46039f\"], [0.2222222222222222, \"#7201a8\"], [0.3333333333333333, \"#9c179e\"], [0.4444444444444444, \"#bd3786\"], [0.5555555555555556, \"#d8576b\"], [0.6666666666666666, \"#ed7953\"], [0.7777777777777778, \"#fb9f3a\"], [0.8888888888888888, \"#fdca26\"], [1.0, \"#f0f921\"]], \"type\": \"surface\"}], \"table\": [{\"cells\": {\"fill\": {\"color\": \"#EBF0F8\"}, \"line\": {\"color\": \"white\"}}, \"header\": {\"fill\": {\"color\": \"#C8D4E3\"}, \"line\": {\"color\": \"white\"}}, \"type\": \"table\"}]}, \"layout\": {\"annotationdefaults\": {\"arrowcolor\": \"#2a3f5f\", \"arrowhead\": 0, \"arrowwidth\": 1}, \"coloraxis\": {\"colorbar\": {\"outlinewidth\": 0, \"ticks\": \"\"}}, \"colorscale\": {\"diverging\": [[0, \"#8e0152\"], [0.1, \"#c51b7d\"], [0.2, \"#de77ae\"], [0.3, \"#f1b6da\"], [0.4, \"#fde0ef\"], [0.5, \"#f7f7f7\"], [0.6, \"#e6f5d0\"], [0.7, \"#b8e186\"], [0.8, \"#7fbc41\"], [0.9, \"#4d9221\"], [1, \"#276419\"]], \"sequential\": [[0.0, \"#0d0887\"], [0.1111111111111111, \"#46039f\"], [0.2222222222222222, \"#7201a8\"], [0.3333333333333333, \"#9c179e\"], [0.4444444444444444, \"#bd3786\"], [0.5555555555555556, \"#d8576b\"], [0.6666666666666666, \"#ed7953\"], [0.7777777777777778, \"#fb9f3a\"], [0.8888888888888888, \"#fdca26\"], [1.0, \"#f0f921\"]], \"sequentialminus\": [[0.0, \"#0d0887\"], [0.1111111111111111, \"#46039f\"], [0.2222222222222222, \"#7201a8\"], [0.3333333333333333, \"#9c179e\"], [0.4444444444444444, \"#bd3786\"], [0.5555555555555556, \"#d8576b\"], [0.6666666666666666, \"#ed7953\"], [0.7777777777777778, \"#fb9f3a\"], [0.8888888888888888, \"#fdca26\"], [1.0, \"#f0f921\"]]}, \"colorway\": [\"#636efa\", \"#EF553B\", \"#00cc96\", \"#ab63fa\", \"#FFA15A\", \"#19d3f3\", \"#FF6692\", \"#B6E880\", \"#FF97FF\", \"#FECB52\"], \"font\": {\"color\": \"#2a3f5f\"}, \"geo\": {\"bgcolor\": \"white\", \"lakecolor\": \"white\", \"landcolor\": \"#E5ECF6\", \"showlakes\": true, \"showland\": true, \"subunitcolor\": \"white\"}, \"hoverlabel\": {\"align\": \"left\"}, \"hovermode\": \"closest\", \"mapbox\": {\"style\": \"light\"}, \"paper_bgcolor\": \"white\", \"plot_bgcolor\": \"#E5ECF6\", \"polar\": {\"angularaxis\": {\"gridcolor\": \"white\", \"linecolor\": \"white\", \"ticks\": \"\"}, \"bgcolor\": \"#E5ECF6\", \"radialaxis\": {\"gridcolor\": \"white\", \"linecolor\": \"white\", \"ticks\": \"\"}}, \"scene\": {\"xaxis\": {\"backgroundcolor\": \"#E5ECF6\", \"gridcolor\": \"white\", \"gridwidth\": 2, \"linecolor\": \"white\", \"showbackground\": true, \"ticks\": \"\", \"zerolinecolor\": \"white\"}, \"yaxis\": {\"backgroundcolor\": \"#E5ECF6\", \"gridcolor\": \"white\", \"gridwidth\": 2, \"linecolor\": \"white\", \"showbackground\": true, \"ticks\": \"\", \"zerolinecolor\": \"white\"}, \"zaxis\": {\"backgroundcolor\": \"#E5ECF6\", \"gridcolor\": \"white\", \"gridwidth\": 2, \"linecolor\": \"white\", \"showbackground\": true, \"ticks\": \"\", \"zerolinecolor\": \"white\"}}, \"shapedefaults\": {\"line\": {\"color\": \"#2a3f5f\"}}, \"ternary\": {\"aaxis\": {\"gridcolor\": \"white\", \"linecolor\": \"white\", \"ticks\": \"\"}, \"baxis\": {\"gridcolor\": \"white\", \"linecolor\": \"white\", \"ticks\": \"\"}, \"bgcolor\": \"#E5ECF6\", \"caxis\": {\"gridcolor\": \"white\", \"linecolor\": \"white\", \"ticks\": \"\"}}, \"title\": {\"x\": 0.05}, \"xaxis\": {\"automargin\": true, \"gridcolor\": \"white\", \"linecolor\": \"white\", \"ticks\": \"\", \"title\": {\"standoff\": 15}, \"zerolinecolor\": \"white\", \"zerolinewidth\": 2}, \"yaxis\": {\"automargin\": true, \"gridcolor\": \"white\", \"linecolor\": \"white\", \"ticks\": \"\", \"title\": {\"standoff\": 15}, \"zerolinecolor\": \"white\", \"zerolinewidth\": 2}}}},\n",
       "                        {\"responsive\": true}\n",
       "                    ).then(function(){\n",
       "                            \n",
       "var gd = document.getElementById('7e3daf11-c7ee-41ac-9c79-63632484b016');\n",
       "var x = new MutationObserver(function (mutations, observer) {{\n",
       "        var display = window.getComputedStyle(gd).display;\n",
       "        if (!display || display === 'none') {{\n",
       "            console.log([gd, 'removed!']);\n",
       "            Plotly.purge(gd);\n",
       "            observer.disconnect();\n",
       "        }}\n",
       "}});\n",
       "\n",
       "// Listen for the removal of the full notebook cells\n",
       "var notebookContainer = gd.closest('#notebook-container');\n",
       "if (notebookContainer) {{\n",
       "    x.observe(notebookContainer, {childList: true});\n",
       "}}\n",
       "\n",
       "// Listen for the clearing of the current output cell\n",
       "var outputEl = gd.closest('.output');\n",
       "if (outputEl) {{\n",
       "    x.observe(outputEl, {childList: true});\n",
       "}}\n",
       "\n",
       "                        })\n",
       "                };\n",
       "                });\n",
       "            </script>\n",
       "        </div>"
      ]
     },
     "metadata": {},
     "output_type": "display_data"
    }
   ],
   "source": [
    "x = data_2016['Personal Freedom Score'].values\n",
    "y = data_2016['hf_score'].values\n",
    "z = data_2016['ef_score'].values\n",
    "\n",
    "\n",
    "trace1 = go.Scatter3d(\n",
    "    x=x,\n",
    "    y=y,\n",
    "    z=z,\n",
    "    mode='markers',\n",
    "    marker=dict(\n",
    "        size=12,\n",
    "        color= 'blue',                # set color to an array/list of desired values\n",
    "        colorscale='Jet',   # choose a colorscale\n",
    "        opacity=0.5\n",
    "    )\n",
    ")\n",
    "\n",
    "data = [trace1]\n",
    "layout = go.Layout(\n",
    "    showlegend=True,\n",
    "    margin=dict(\n",
    "        l=0,\n",
    "        r=0,\n",
    "        b=0,\n",
    "        t=0\n",
    "    )\n",
    ")\n",
    "fig = go.Figure(data=data, layout=layout)\n",
    "iplot(fig)"
   ]
  },
  {
   "cell_type": "markdown",
   "metadata": {},
   "source": [
    "# Personal, Human, and Economic Freedom Rank For Top 10 Global Innovation Index Countries"
   ]
  },
  {
   "cell_type": "code",
   "execution_count": 15,
   "metadata": {},
   "outputs": [
    {
     "data": {
      "text/html": [
       "<div>\n",
       "<style scoped>\n",
       "    .dataframe tbody tr th:only-of-type {\n",
       "        vertical-align: middle;\n",
       "    }\n",
       "\n",
       "    .dataframe tbody tr th {\n",
       "        vertical-align: top;\n",
       "    }\n",
       "\n",
       "    .dataframe thead th {\n",
       "        text-align: right;\n",
       "    }\n",
       "</style>\n",
       "<table border=\"1\" class=\"dataframe\">\n",
       "  <thead>\n",
       "    <tr style=\"text-align: right;\">\n",
       "      <th></th>\n",
       "      <th>Rank</th>\n",
       "      <th>Economy</th>\n",
       "      <th>Income Group(Strength/Weakness)</th>\n",
       "      <th>Strength / Weakness</th>\n",
       "      <th>Value</th>\n",
       "      <th>Score</th>\n",
       "    </tr>\n",
       "  </thead>\n",
       "  <tbody>\n",
       "    <tr>\n",
       "      <th>0</th>\n",
       "      <td>1</td>\n",
       "      <td>Switzerland</td>\n",
       "      <td>Strength</td>\n",
       "      <td>Strength</td>\n",
       "      <td>-</td>\n",
       "      <td>68.4</td>\n",
       "    </tr>\n",
       "    <tr>\n",
       "      <th>1</th>\n",
       "      <td>2</td>\n",
       "      <td>Netherlands</td>\n",
       "      <td>Strength</td>\n",
       "      <td>Strength</td>\n",
       "      <td>-</td>\n",
       "      <td>63.3</td>\n",
       "    </tr>\n",
       "    <tr>\n",
       "      <th>2</th>\n",
       "      <td>3</td>\n",
       "      <td>Sweden</td>\n",
       "      <td>Strength</td>\n",
       "      <td>Strength</td>\n",
       "      <td>-</td>\n",
       "      <td>63.1</td>\n",
       "    </tr>\n",
       "    <tr>\n",
       "      <th>3</th>\n",
       "      <td>4</td>\n",
       "      <td>United Kingdom</td>\n",
       "      <td>NaN</td>\n",
       "      <td>Strength</td>\n",
       "      <td>-</td>\n",
       "      <td>60.1</td>\n",
       "    </tr>\n",
       "    <tr>\n",
       "      <th>4</th>\n",
       "      <td>5</td>\n",
       "      <td>Singapore</td>\n",
       "      <td>NaN</td>\n",
       "      <td>NaN</td>\n",
       "      <td>-</td>\n",
       "      <td>59.8</td>\n",
       "    </tr>\n",
       "    <tr>\n",
       "      <th>5</th>\n",
       "      <td>6</td>\n",
       "      <td>United States of America</td>\n",
       "      <td>NaN</td>\n",
       "      <td>NaN</td>\n",
       "      <td>-</td>\n",
       "      <td>59.8</td>\n",
       "    </tr>\n",
       "    <tr>\n",
       "      <th>6</th>\n",
       "      <td>7</td>\n",
       "      <td>Finland</td>\n",
       "      <td>NaN</td>\n",
       "      <td>NaN</td>\n",
       "      <td>-</td>\n",
       "      <td>59.6</td>\n",
       "    </tr>\n",
       "    <tr>\n",
       "      <th>7</th>\n",
       "      <td>8</td>\n",
       "      <td>Denmark</td>\n",
       "      <td>NaN</td>\n",
       "      <td>NaN</td>\n",
       "      <td>-</td>\n",
       "      <td>58.4</td>\n",
       "    </tr>\n",
       "    <tr>\n",
       "      <th>8</th>\n",
       "      <td>9</td>\n",
       "      <td>Germany</td>\n",
       "      <td>NaN</td>\n",
       "      <td>NaN</td>\n",
       "      <td>-</td>\n",
       "      <td>58.0</td>\n",
       "    </tr>\n",
       "    <tr>\n",
       "      <th>9</th>\n",
       "      <td>10</td>\n",
       "      <td>Ireland</td>\n",
       "      <td>NaN</td>\n",
       "      <td>NaN</td>\n",
       "      <td>-</td>\n",
       "      <td>57.2</td>\n",
       "    </tr>\n",
       "  </tbody>\n",
       "</table>\n",
       "</div>"
      ],
      "text/plain": [
       "   Rank                   Economy Income Group(Strength/Weakness)  \\\n",
       "0     1               Switzerland                        Strength   \n",
       "1     2               Netherlands                        Strength   \n",
       "2     3                    Sweden                        Strength   \n",
       "3     4            United Kingdom                             NaN   \n",
       "4     5                 Singapore                             NaN   \n",
       "5     6  United States of America                             NaN   \n",
       "6     7                   Finland                             NaN   \n",
       "7     8                   Denmark                             NaN   \n",
       "8     9                   Germany                             NaN   \n",
       "9    10                   Ireland                             NaN   \n",
       "\n",
       "  Strength / Weakness Value  Score  \n",
       "0            Strength     -   68.4  \n",
       "1            Strength     -   63.3  \n",
       "2            Strength     -   63.1  \n",
       "3            Strength     -   60.1  \n",
       "4                 NaN     -   59.8  \n",
       "5                 NaN     -   59.8  \n",
       "6                 NaN     -   59.6  \n",
       "7                 NaN     -   58.4  \n",
       "8                 NaN     -   58.0  \n",
       "9                 NaN     -   57.2  "
      ]
     },
     "execution_count": 15,
     "metadata": {},
     "output_type": "execute_result"
    }
   ],
   "source": [
    "df = pd.read_csv(\"INSEADGlobalinnovationIndex2018.csv\")\n",
    "df.head(10)"
   ]
  },
  {
   "cell_type": "markdown",
   "metadata": {},
   "source": [
    "These are the top 10 economies according to the Global Innovation Index"
   ]
  },
  {
   "cell_type": "code",
   "execution_count": 16,
   "metadata": {},
   "outputs": [
    {
     "data": {
      "application/vnd.plotly.v1+json": {
       "config": {
        "linkText": "Export to plot.ly",
        "plotlyServerURL": "https://plot.ly",
        "showLink": false
       },
       "data": [
        {
         "name": "Economic Freedom Score",
         "type": "bar",
         "x": [
          "Switzerland",
          "Netherlands",
          "Sweden",
          "United Kingdom",
          "Singapore",
          "United States of America",
          "Finland",
          "Denmark",
          "Germany",
          "Ireland"
         ],
         "y": [
          16,
          22,
          20,
          5,
          18,
          2,
          43,
          4,
          9,
          16,
          20,
          24,
          5,
          17,
          2,
          25,
          4,
          7,
          13,
          17,
          26,
          6,
          21,
          2,
          28,
          4,
          10,
          18,
          15,
          21,
          6,
          27,
          2,
          36,
          4,
          8,
          24,
          11,
          19,
          7,
          27,
          2,
          31,
          4,
          9,
          14,
          10,
          18,
          11,
          24,
          2,
          25,
          4,
          9,
          13,
          12,
          19,
          16,
          28,
          2,
          22,
          4,
          8,
          15,
          13,
          18,
          12,
          27,
          2,
          33,
          4,
          5,
          10,
          12,
          29,
          11,
          24,
          2,
          36,
          4,
          8
         ]
        },
        {
         "name": "Human Freedom Score",
         "type": "bar",
         "x": [
          "Switzerland",
          "Netherlands",
          "Sweden",
          "United Kingdom",
          "Singapore",
          "United States of America",
          "Finland",
          "Denmark",
          "Germany",
          "Ireland"
         ],
         "y": [
          6,
          10,
          13,
          8,
          6,
          25,
          17,
          2,
          8,
          8,
          6,
          13,
          4,
          7,
          25,
          13,
          3,
          9,
          7,
          6,
          12,
          14,
          13,
          27,
          15,
          3,
          10,
          5,
          6,
          12,
          9,
          13,
          36,
          15,
          3,
          10,
          8,
          4,
          13,
          9,
          15,
          39,
          11,
          3,
          10,
          7,
          4,
          10,
          12,
          14,
          37,
          8,
          3,
          9,
          7,
          4,
          14,
          12,
          15,
          28,
          9,
          3,
          10,
          8,
          6,
          14,
          11,
          17,
          23,
          10,
          3,
          7,
          4,
          6,
          18,
          10,
          13,
          27,
          11,
          3,
          9
         ]
        },
        {
         "name": "Personal Freedom Score",
         "type": "bar",
         "x": [
          "Switzerland",
          "Netherlands",
          "Sweden",
          "United Kingdom",
          "Singapore",
          "United States of America",
          "Finland",
          "Denmark",
          "Germany",
          "Ireland"
         ],
         "y": [
          4,
          5,
          9,
          21,
          1,
          62,
          3,
          10,
          18,
          5,
          1,
          8,
          19,
          4,
          60,
          7,
          10,
          16,
          3,
          2,
          9,
          27,
          13,
          55,
          10,
          8,
          14,
          2,
          3,
          9,
          17,
          12,
          71,
          5,
          10,
          15,
          2,
          4,
          9,
          18,
          11,
          78,
          3,
          5,
          15,
          2,
          1,
          8,
          18,
          9,
          80,
          3,
          5,
          15,
          3,
          2,
          13,
          16,
          10,
          69,
          4,
          6,
          21,
          2,
          1,
          12,
          17,
          10,
          60,
          3,
          6,
          14,
          4,
          3,
          11,
          18,
          9,
          64,
          2,
          6,
          15
         ]
        }
       ],
       "layout": {
        "barmode": "relative",
        "template": {
         "data": {
          "bar": [
           {
            "error_x": {
             "color": "#2a3f5f"
            },
            "error_y": {
             "color": "#2a3f5f"
            },
            "marker": {
             "line": {
              "color": "#E5ECF6",
              "width": 0.5
             }
            },
            "type": "bar"
           }
          ],
          "barpolar": [
           {
            "marker": {
             "line": {
              "color": "#E5ECF6",
              "width": 0.5
             }
            },
            "type": "barpolar"
           }
          ],
          "carpet": [
           {
            "aaxis": {
             "endlinecolor": "#2a3f5f",
             "gridcolor": "white",
             "linecolor": "white",
             "minorgridcolor": "white",
             "startlinecolor": "#2a3f5f"
            },
            "baxis": {
             "endlinecolor": "#2a3f5f",
             "gridcolor": "white",
             "linecolor": "white",
             "minorgridcolor": "white",
             "startlinecolor": "#2a3f5f"
            },
            "type": "carpet"
           }
          ],
          "choropleth": [
           {
            "colorbar": {
             "outlinewidth": 0,
             "ticks": ""
            },
            "type": "choropleth"
           }
          ],
          "contour": [
           {
            "colorbar": {
             "outlinewidth": 0,
             "ticks": ""
            },
            "colorscale": [
             [
              0,
              "#0d0887"
             ],
             [
              0.1111111111111111,
              "#46039f"
             ],
             [
              0.2222222222222222,
              "#7201a8"
             ],
             [
              0.3333333333333333,
              "#9c179e"
             ],
             [
              0.4444444444444444,
              "#bd3786"
             ],
             [
              0.5555555555555556,
              "#d8576b"
             ],
             [
              0.6666666666666666,
              "#ed7953"
             ],
             [
              0.7777777777777778,
              "#fb9f3a"
             ],
             [
              0.8888888888888888,
              "#fdca26"
             ],
             [
              1,
              "#f0f921"
             ]
            ],
            "type": "contour"
           }
          ],
          "contourcarpet": [
           {
            "colorbar": {
             "outlinewidth": 0,
             "ticks": ""
            },
            "type": "contourcarpet"
           }
          ],
          "heatmap": [
           {
            "colorbar": {
             "outlinewidth": 0,
             "ticks": ""
            },
            "colorscale": [
             [
              0,
              "#0d0887"
             ],
             [
              0.1111111111111111,
              "#46039f"
             ],
             [
              0.2222222222222222,
              "#7201a8"
             ],
             [
              0.3333333333333333,
              "#9c179e"
             ],
             [
              0.4444444444444444,
              "#bd3786"
             ],
             [
              0.5555555555555556,
              "#d8576b"
             ],
             [
              0.6666666666666666,
              "#ed7953"
             ],
             [
              0.7777777777777778,
              "#fb9f3a"
             ],
             [
              0.8888888888888888,
              "#fdca26"
             ],
             [
              1,
              "#f0f921"
             ]
            ],
            "type": "heatmap"
           }
          ],
          "heatmapgl": [
           {
            "colorbar": {
             "outlinewidth": 0,
             "ticks": ""
            },
            "colorscale": [
             [
              0,
              "#0d0887"
             ],
             [
              0.1111111111111111,
              "#46039f"
             ],
             [
              0.2222222222222222,
              "#7201a8"
             ],
             [
              0.3333333333333333,
              "#9c179e"
             ],
             [
              0.4444444444444444,
              "#bd3786"
             ],
             [
              0.5555555555555556,
              "#d8576b"
             ],
             [
              0.6666666666666666,
              "#ed7953"
             ],
             [
              0.7777777777777778,
              "#fb9f3a"
             ],
             [
              0.8888888888888888,
              "#fdca26"
             ],
             [
              1,
              "#f0f921"
             ]
            ],
            "type": "heatmapgl"
           }
          ],
          "histogram": [
           {
            "marker": {
             "colorbar": {
              "outlinewidth": 0,
              "ticks": ""
             }
            },
            "type": "histogram"
           }
          ],
          "histogram2d": [
           {
            "colorbar": {
             "outlinewidth": 0,
             "ticks": ""
            },
            "colorscale": [
             [
              0,
              "#0d0887"
             ],
             [
              0.1111111111111111,
              "#46039f"
             ],
             [
              0.2222222222222222,
              "#7201a8"
             ],
             [
              0.3333333333333333,
              "#9c179e"
             ],
             [
              0.4444444444444444,
              "#bd3786"
             ],
             [
              0.5555555555555556,
              "#d8576b"
             ],
             [
              0.6666666666666666,
              "#ed7953"
             ],
             [
              0.7777777777777778,
              "#fb9f3a"
             ],
             [
              0.8888888888888888,
              "#fdca26"
             ],
             [
              1,
              "#f0f921"
             ]
            ],
            "type": "histogram2d"
           }
          ],
          "histogram2dcontour": [
           {
            "colorbar": {
             "outlinewidth": 0,
             "ticks": ""
            },
            "colorscale": [
             [
              0,
              "#0d0887"
             ],
             [
              0.1111111111111111,
              "#46039f"
             ],
             [
              0.2222222222222222,
              "#7201a8"
             ],
             [
              0.3333333333333333,
              "#9c179e"
             ],
             [
              0.4444444444444444,
              "#bd3786"
             ],
             [
              0.5555555555555556,
              "#d8576b"
             ],
             [
              0.6666666666666666,
              "#ed7953"
             ],
             [
              0.7777777777777778,
              "#fb9f3a"
             ],
             [
              0.8888888888888888,
              "#fdca26"
             ],
             [
              1,
              "#f0f921"
             ]
            ],
            "type": "histogram2dcontour"
           }
          ],
          "mesh3d": [
           {
            "colorbar": {
             "outlinewidth": 0,
             "ticks": ""
            },
            "type": "mesh3d"
           }
          ],
          "parcoords": [
           {
            "line": {
             "colorbar": {
              "outlinewidth": 0,
              "ticks": ""
             }
            },
            "type": "parcoords"
           }
          ],
          "pie": [
           {
            "automargin": true,
            "type": "pie"
           }
          ],
          "scatter": [
           {
            "marker": {
             "colorbar": {
              "outlinewidth": 0,
              "ticks": ""
             }
            },
            "type": "scatter"
           }
          ],
          "scatter3d": [
           {
            "line": {
             "colorbar": {
              "outlinewidth": 0,
              "ticks": ""
             }
            },
            "marker": {
             "colorbar": {
              "outlinewidth": 0,
              "ticks": ""
             }
            },
            "type": "scatter3d"
           }
          ],
          "scattercarpet": [
           {
            "marker": {
             "colorbar": {
              "outlinewidth": 0,
              "ticks": ""
             }
            },
            "type": "scattercarpet"
           }
          ],
          "scattergeo": [
           {
            "marker": {
             "colorbar": {
              "outlinewidth": 0,
              "ticks": ""
             }
            },
            "type": "scattergeo"
           }
          ],
          "scattergl": [
           {
            "marker": {
             "colorbar": {
              "outlinewidth": 0,
              "ticks": ""
             }
            },
            "type": "scattergl"
           }
          ],
          "scattermapbox": [
           {
            "marker": {
             "colorbar": {
              "outlinewidth": 0,
              "ticks": ""
             }
            },
            "type": "scattermapbox"
           }
          ],
          "scatterpolar": [
           {
            "marker": {
             "colorbar": {
              "outlinewidth": 0,
              "ticks": ""
             }
            },
            "type": "scatterpolar"
           }
          ],
          "scatterpolargl": [
           {
            "marker": {
             "colorbar": {
              "outlinewidth": 0,
              "ticks": ""
             }
            },
            "type": "scatterpolargl"
           }
          ],
          "scatterternary": [
           {
            "marker": {
             "colorbar": {
              "outlinewidth": 0,
              "ticks": ""
             }
            },
            "type": "scatterternary"
           }
          ],
          "surface": [
           {
            "colorbar": {
             "outlinewidth": 0,
             "ticks": ""
            },
            "colorscale": [
             [
              0,
              "#0d0887"
             ],
             [
              0.1111111111111111,
              "#46039f"
             ],
             [
              0.2222222222222222,
              "#7201a8"
             ],
             [
              0.3333333333333333,
              "#9c179e"
             ],
             [
              0.4444444444444444,
              "#bd3786"
             ],
             [
              0.5555555555555556,
              "#d8576b"
             ],
             [
              0.6666666666666666,
              "#ed7953"
             ],
             [
              0.7777777777777778,
              "#fb9f3a"
             ],
             [
              0.8888888888888888,
              "#fdca26"
             ],
             [
              1,
              "#f0f921"
             ]
            ],
            "type": "surface"
           }
          ],
          "table": [
           {
            "cells": {
             "fill": {
              "color": "#EBF0F8"
             },
             "line": {
              "color": "white"
             }
            },
            "header": {
             "fill": {
              "color": "#C8D4E3"
             },
             "line": {
              "color": "white"
             }
            },
            "type": "table"
           }
          ]
         },
         "layout": {
          "annotationdefaults": {
           "arrowcolor": "#2a3f5f",
           "arrowhead": 0,
           "arrowwidth": 1
          },
          "coloraxis": {
           "colorbar": {
            "outlinewidth": 0,
            "ticks": ""
           }
          },
          "colorscale": {
           "diverging": [
            [
             0,
             "#8e0152"
            ],
            [
             0.1,
             "#c51b7d"
            ],
            [
             0.2,
             "#de77ae"
            ],
            [
             0.3,
             "#f1b6da"
            ],
            [
             0.4,
             "#fde0ef"
            ],
            [
             0.5,
             "#f7f7f7"
            ],
            [
             0.6,
             "#e6f5d0"
            ],
            [
             0.7,
             "#b8e186"
            ],
            [
             0.8,
             "#7fbc41"
            ],
            [
             0.9,
             "#4d9221"
            ],
            [
             1,
             "#276419"
            ]
           ],
           "sequential": [
            [
             0,
             "#0d0887"
            ],
            [
             0.1111111111111111,
             "#46039f"
            ],
            [
             0.2222222222222222,
             "#7201a8"
            ],
            [
             0.3333333333333333,
             "#9c179e"
            ],
            [
             0.4444444444444444,
             "#bd3786"
            ],
            [
             0.5555555555555556,
             "#d8576b"
            ],
            [
             0.6666666666666666,
             "#ed7953"
            ],
            [
             0.7777777777777778,
             "#fb9f3a"
            ],
            [
             0.8888888888888888,
             "#fdca26"
            ],
            [
             1,
             "#f0f921"
            ]
           ],
           "sequentialminus": [
            [
             0,
             "#0d0887"
            ],
            [
             0.1111111111111111,
             "#46039f"
            ],
            [
             0.2222222222222222,
             "#7201a8"
            ],
            [
             0.3333333333333333,
             "#9c179e"
            ],
            [
             0.4444444444444444,
             "#bd3786"
            ],
            [
             0.5555555555555556,
             "#d8576b"
            ],
            [
             0.6666666666666666,
             "#ed7953"
            ],
            [
             0.7777777777777778,
             "#fb9f3a"
            ],
            [
             0.8888888888888888,
             "#fdca26"
            ],
            [
             1,
             "#f0f921"
            ]
           ]
          },
          "colorway": [
           "#636efa",
           "#EF553B",
           "#00cc96",
           "#ab63fa",
           "#FFA15A",
           "#19d3f3",
           "#FF6692",
           "#B6E880",
           "#FF97FF",
           "#FECB52"
          ],
          "font": {
           "color": "#2a3f5f"
          },
          "geo": {
           "bgcolor": "white",
           "lakecolor": "white",
           "landcolor": "#E5ECF6",
           "showlakes": true,
           "showland": true,
           "subunitcolor": "white"
          },
          "hoverlabel": {
           "align": "left"
          },
          "hovermode": "closest",
          "mapbox": {
           "style": "light"
          },
          "paper_bgcolor": "white",
          "plot_bgcolor": "#E5ECF6",
          "polar": {
           "angularaxis": {
            "gridcolor": "white",
            "linecolor": "white",
            "ticks": ""
           },
           "bgcolor": "#E5ECF6",
           "radialaxis": {
            "gridcolor": "white",
            "linecolor": "white",
            "ticks": ""
           }
          },
          "scene": {
           "xaxis": {
            "backgroundcolor": "#E5ECF6",
            "gridcolor": "white",
            "gridwidth": 2,
            "linecolor": "white",
            "showbackground": true,
            "ticks": "",
            "zerolinecolor": "white"
           },
           "yaxis": {
            "backgroundcolor": "#E5ECF6",
            "gridcolor": "white",
            "gridwidth": 2,
            "linecolor": "white",
            "showbackground": true,
            "ticks": "",
            "zerolinecolor": "white"
           },
           "zaxis": {
            "backgroundcolor": "#E5ECF6",
            "gridcolor": "white",
            "gridwidth": 2,
            "linecolor": "white",
            "showbackground": true,
            "ticks": "",
            "zerolinecolor": "white"
           }
          },
          "shapedefaults": {
           "line": {
            "color": "#2a3f5f"
           }
          },
          "ternary": {
           "aaxis": {
            "gridcolor": "white",
            "linecolor": "white",
            "ticks": ""
           },
           "baxis": {
            "gridcolor": "white",
            "linecolor": "white",
            "ticks": ""
           },
           "bgcolor": "#E5ECF6",
           "caxis": {
            "gridcolor": "white",
            "linecolor": "white",
            "ticks": ""
           }
          },
          "title": {
           "x": 0.05
          },
          "xaxis": {
           "automargin": true,
           "gridcolor": "white",
           "linecolor": "white",
           "ticks": "",
           "title": {
            "standoff": 15
           },
           "zerolinecolor": "white",
           "zerolinewidth": 2
          },
          "yaxis": {
           "automargin": true,
           "gridcolor": "white",
           "linecolor": "white",
           "ticks": "",
           "title": {
            "standoff": 15
           },
           "zerolinecolor": "white",
           "zerolinewidth": 2
          }
         }
        },
        "title": {
         "text": "Personal, Human, and Economic Freedom Rank For Top 10 Global Innovation Index Countries"
        },
        "xaxis": {
         "title": {
          "text": " Countries in 2016"
         }
        }
       }
      },
      "text/html": [
       "<div>\n",
       "        \n",
       "        \n",
       "            <div id=\"197a70d4-0b62-4801-a60d-f82f62920b10\" class=\"plotly-graph-div\" style=\"height:525px; width:100%;\"></div>\n",
       "            <script type=\"text/javascript\">\n",
       "                require([\"plotly\"], function(Plotly) {\n",
       "                    window.PLOTLYENV=window.PLOTLYENV || {};\n",
       "                    \n",
       "                if (document.getElementById(\"197a70d4-0b62-4801-a60d-f82f62920b10\")) {\n",
       "                    Plotly.newPlot(\n",
       "                        '197a70d4-0b62-4801-a60d-f82f62920b10',\n",
       "                        [{\"name\": \"Economic Freedom Score\", \"type\": \"bar\", \"x\": [\"Switzerland\", \"Netherlands\", \"Sweden\", \"United Kingdom\", \"Singapore\", \"United States of America\", \"Finland\", \"Denmark\", \"Germany\", \"Ireland\"], \"y\": [16.0, 22.0, 20.0, 5.0, 18.0, 2.0, 43.0, 4.0, 9.0, 16.0, 20.0, 24.0, 5.0, 17.0, 2.0, 25.0, 4.0, 7.0, 13.0, 17.0, 26.0, 6.0, 21.0, 2.0, 28.0, 4.0, 10.0, 18.0, 15.0, 21.0, 6.0, 27.0, 2.0, 36.0, 4.0, 8.0, 24.0, 11.0, 19.0, 7.0, 27.0, 2.0, 31.0, 4.0, 9.0, 14.0, 10.0, 18.0, 11.0, 24.0, 2.0, 25.0, 4.0, 9.0, 13.0, 12.0, 19.0, 16.0, 28.0, 2.0, 22.0, 4.0, 8.0, 15.0, 13.0, 18.0, 12.0, 27.0, 2.0, 33.0, 4.0, 5.0, 10.0, 12.0, 29.0, 11.0, 24.0, 2.0, 36.0, 4.0, 8.0]}, {\"name\": \"Human Freedom Score\", \"type\": \"bar\", \"x\": [\"Switzerland\", \"Netherlands\", \"Sweden\", \"United Kingdom\", \"Singapore\", \"United States of America\", \"Finland\", \"Denmark\", \"Germany\", \"Ireland\"], \"y\": [6.0, 10.0, 13.0, 8.0, 6.0, 25.0, 17.0, 2.0, 8.0, 8.0, 6.0, 13.0, 4.0, 7.0, 25.0, 13.0, 3.0, 9.0, 7.0, 6.0, 12.0, 14.0, 13.0, 27.0, 15.0, 3.0, 10.0, 5.0, 6.0, 12.0, 9.0, 13.0, 36.0, 15.0, 3.0, 10.0, 8.0, 4.0, 13.0, 9.0, 15.0, 39.0, 11.0, 3.0, 10.0, 7.0, 4.0, 10.0, 12.0, 14.0, 37.0, 8.0, 3.0, 9.0, 7.0, 4.0, 14.0, 12.0, 15.0, 28.0, 9.0, 3.0, 10.0, 8.0, 6.0, 14.0, 11.0, 17.0, 23.0, 10.0, 3.0, 7.0, 4.0, 6.0, 18.0, 10.0, 13.0, 27.0, 11.0, 3.0, 9.0]}, {\"name\": \"Personal Freedom Score\", \"type\": \"bar\", \"x\": [\"Switzerland\", \"Netherlands\", \"Sweden\", \"United Kingdom\", \"Singapore\", \"United States of America\", \"Finland\", \"Denmark\", \"Germany\", \"Ireland\"], \"y\": [4.0, 5.0, 9.0, 21.0, 1.0, 62.0, 3.0, 10.0, 18.0, 5.0, 1.0, 8.0, 19.0, 4.0, 60.0, 7.0, 10.0, 16.0, 3.0, 2.0, 9.0, 27.0, 13.0, 55.0, 10.0, 8.0, 14.0, 2.0, 3.0, 9.0, 17.0, 12.0, 71.0, 5.0, 10.0, 15.0, 2.0, 4.0, 9.0, 18.0, 11.0, 78.0, 3.0, 5.0, 15.0, 2.0, 1.0, 8.0, 18.0, 9.0, 80.0, 3.0, 5.0, 15.0, 3.0, 2.0, 13.0, 16.0, 10.0, 69.0, 4.0, 6.0, 21.0, 2.0, 1.0, 12.0, 17.0, 10.0, 60.0, 3.0, 6.0, 14.0, 4.0, 3.0, 11.0, 18.0, 9.0, 64.0, 2.0, 6.0, 15.0]}],\n",
       "                        {\"barmode\": \"relative\", \"template\": {\"data\": {\"bar\": [{\"error_x\": {\"color\": \"#2a3f5f\"}, \"error_y\": {\"color\": \"#2a3f5f\"}, \"marker\": {\"line\": {\"color\": \"#E5ECF6\", \"width\": 0.5}}, \"type\": \"bar\"}], \"barpolar\": [{\"marker\": {\"line\": {\"color\": \"#E5ECF6\", \"width\": 0.5}}, \"type\": \"barpolar\"}], \"carpet\": [{\"aaxis\": {\"endlinecolor\": \"#2a3f5f\", \"gridcolor\": \"white\", \"linecolor\": \"white\", \"minorgridcolor\": \"white\", \"startlinecolor\": \"#2a3f5f\"}, \"baxis\": {\"endlinecolor\": \"#2a3f5f\", \"gridcolor\": \"white\", \"linecolor\": \"white\", \"minorgridcolor\": \"white\", \"startlinecolor\": \"#2a3f5f\"}, \"type\": \"carpet\"}], \"choropleth\": [{\"colorbar\": {\"outlinewidth\": 0, \"ticks\": \"\"}, \"type\": \"choropleth\"}], \"contour\": [{\"colorbar\": {\"outlinewidth\": 0, \"ticks\": \"\"}, \"colorscale\": [[0.0, \"#0d0887\"], [0.1111111111111111, \"#46039f\"], [0.2222222222222222, \"#7201a8\"], [0.3333333333333333, \"#9c179e\"], [0.4444444444444444, \"#bd3786\"], [0.5555555555555556, \"#d8576b\"], [0.6666666666666666, \"#ed7953\"], [0.7777777777777778, \"#fb9f3a\"], [0.8888888888888888, \"#fdca26\"], [1.0, \"#f0f921\"]], \"type\": \"contour\"}], \"contourcarpet\": [{\"colorbar\": {\"outlinewidth\": 0, \"ticks\": \"\"}, \"type\": \"contourcarpet\"}], \"heatmap\": [{\"colorbar\": {\"outlinewidth\": 0, \"ticks\": \"\"}, \"colorscale\": [[0.0, \"#0d0887\"], [0.1111111111111111, \"#46039f\"], [0.2222222222222222, \"#7201a8\"], [0.3333333333333333, \"#9c179e\"], [0.4444444444444444, \"#bd3786\"], [0.5555555555555556, \"#d8576b\"], [0.6666666666666666, \"#ed7953\"], [0.7777777777777778, \"#fb9f3a\"], [0.8888888888888888, \"#fdca26\"], [1.0, \"#f0f921\"]], \"type\": \"heatmap\"}], \"heatmapgl\": [{\"colorbar\": {\"outlinewidth\": 0, \"ticks\": \"\"}, \"colorscale\": [[0.0, \"#0d0887\"], [0.1111111111111111, \"#46039f\"], [0.2222222222222222, \"#7201a8\"], [0.3333333333333333, \"#9c179e\"], [0.4444444444444444, \"#bd3786\"], [0.5555555555555556, \"#d8576b\"], [0.6666666666666666, \"#ed7953\"], [0.7777777777777778, \"#fb9f3a\"], [0.8888888888888888, \"#fdca26\"], [1.0, \"#f0f921\"]], \"type\": \"heatmapgl\"}], \"histogram\": [{\"marker\": {\"colorbar\": {\"outlinewidth\": 0, \"ticks\": \"\"}}, \"type\": \"histogram\"}], \"histogram2d\": [{\"colorbar\": {\"outlinewidth\": 0, \"ticks\": \"\"}, \"colorscale\": [[0.0, \"#0d0887\"], [0.1111111111111111, \"#46039f\"], [0.2222222222222222, \"#7201a8\"], [0.3333333333333333, \"#9c179e\"], [0.4444444444444444, \"#bd3786\"], [0.5555555555555556, \"#d8576b\"], [0.6666666666666666, \"#ed7953\"], [0.7777777777777778, \"#fb9f3a\"], [0.8888888888888888, \"#fdca26\"], [1.0, \"#f0f921\"]], \"type\": \"histogram2d\"}], \"histogram2dcontour\": [{\"colorbar\": {\"outlinewidth\": 0, \"ticks\": \"\"}, \"colorscale\": [[0.0, \"#0d0887\"], [0.1111111111111111, \"#46039f\"], [0.2222222222222222, \"#7201a8\"], [0.3333333333333333, \"#9c179e\"], [0.4444444444444444, \"#bd3786\"], [0.5555555555555556, \"#d8576b\"], [0.6666666666666666, \"#ed7953\"], [0.7777777777777778, \"#fb9f3a\"], [0.8888888888888888, \"#fdca26\"], [1.0, \"#f0f921\"]], \"type\": \"histogram2dcontour\"}], \"mesh3d\": [{\"colorbar\": {\"outlinewidth\": 0, \"ticks\": \"\"}, \"type\": \"mesh3d\"}], \"parcoords\": [{\"line\": {\"colorbar\": {\"outlinewidth\": 0, \"ticks\": \"\"}}, \"type\": \"parcoords\"}], \"pie\": [{\"automargin\": true, \"type\": \"pie\"}], \"scatter\": [{\"marker\": {\"colorbar\": {\"outlinewidth\": 0, \"ticks\": \"\"}}, \"type\": \"scatter\"}], \"scatter3d\": [{\"line\": {\"colorbar\": {\"outlinewidth\": 0, \"ticks\": \"\"}}, \"marker\": {\"colorbar\": {\"outlinewidth\": 0, \"ticks\": \"\"}}, \"type\": \"scatter3d\"}], \"scattercarpet\": [{\"marker\": {\"colorbar\": {\"outlinewidth\": 0, \"ticks\": \"\"}}, \"type\": \"scattercarpet\"}], \"scattergeo\": [{\"marker\": {\"colorbar\": {\"outlinewidth\": 0, \"ticks\": \"\"}}, \"type\": \"scattergeo\"}], \"scattergl\": [{\"marker\": {\"colorbar\": {\"outlinewidth\": 0, \"ticks\": \"\"}}, \"type\": \"scattergl\"}], \"scattermapbox\": [{\"marker\": {\"colorbar\": {\"outlinewidth\": 0, \"ticks\": \"\"}}, \"type\": \"scattermapbox\"}], \"scatterpolar\": [{\"marker\": {\"colorbar\": {\"outlinewidth\": 0, \"ticks\": \"\"}}, \"type\": \"scatterpolar\"}], \"scatterpolargl\": [{\"marker\": {\"colorbar\": {\"outlinewidth\": 0, \"ticks\": \"\"}}, \"type\": \"scatterpolargl\"}], \"scatterternary\": [{\"marker\": {\"colorbar\": {\"outlinewidth\": 0, \"ticks\": \"\"}}, \"type\": \"scatterternary\"}], \"surface\": [{\"colorbar\": {\"outlinewidth\": 0, \"ticks\": \"\"}, \"colorscale\": [[0.0, \"#0d0887\"], [0.1111111111111111, \"#46039f\"], [0.2222222222222222, \"#7201a8\"], [0.3333333333333333, \"#9c179e\"], [0.4444444444444444, \"#bd3786\"], [0.5555555555555556, \"#d8576b\"], [0.6666666666666666, \"#ed7953\"], [0.7777777777777778, \"#fb9f3a\"], [0.8888888888888888, \"#fdca26\"], [1.0, \"#f0f921\"]], \"type\": \"surface\"}], \"table\": [{\"cells\": {\"fill\": {\"color\": \"#EBF0F8\"}, \"line\": {\"color\": \"white\"}}, \"header\": {\"fill\": {\"color\": \"#C8D4E3\"}, \"line\": {\"color\": \"white\"}}, \"type\": \"table\"}]}, \"layout\": {\"annotationdefaults\": {\"arrowcolor\": \"#2a3f5f\", \"arrowhead\": 0, \"arrowwidth\": 1}, \"coloraxis\": {\"colorbar\": {\"outlinewidth\": 0, \"ticks\": \"\"}}, \"colorscale\": {\"diverging\": [[0, \"#8e0152\"], [0.1, \"#c51b7d\"], [0.2, \"#de77ae\"], [0.3, \"#f1b6da\"], [0.4, \"#fde0ef\"], [0.5, \"#f7f7f7\"], [0.6, \"#e6f5d0\"], [0.7, \"#b8e186\"], [0.8, \"#7fbc41\"], [0.9, \"#4d9221\"], [1, \"#276419\"]], \"sequential\": [[0.0, \"#0d0887\"], [0.1111111111111111, \"#46039f\"], [0.2222222222222222, \"#7201a8\"], [0.3333333333333333, \"#9c179e\"], [0.4444444444444444, \"#bd3786\"], [0.5555555555555556, \"#d8576b\"], [0.6666666666666666, \"#ed7953\"], [0.7777777777777778, \"#fb9f3a\"], [0.8888888888888888, \"#fdca26\"], [1.0, \"#f0f921\"]], \"sequentialminus\": [[0.0, \"#0d0887\"], [0.1111111111111111, \"#46039f\"], [0.2222222222222222, \"#7201a8\"], [0.3333333333333333, \"#9c179e\"], [0.4444444444444444, \"#bd3786\"], [0.5555555555555556, \"#d8576b\"], [0.6666666666666666, \"#ed7953\"], [0.7777777777777778, \"#fb9f3a\"], [0.8888888888888888, \"#fdca26\"], [1.0, \"#f0f921\"]]}, \"colorway\": [\"#636efa\", \"#EF553B\", \"#00cc96\", \"#ab63fa\", \"#FFA15A\", \"#19d3f3\", \"#FF6692\", \"#B6E880\", \"#FF97FF\", \"#FECB52\"], \"font\": {\"color\": \"#2a3f5f\"}, \"geo\": {\"bgcolor\": \"white\", \"lakecolor\": \"white\", \"landcolor\": \"#E5ECF6\", \"showlakes\": true, \"showland\": true, \"subunitcolor\": \"white\"}, \"hoverlabel\": {\"align\": \"left\"}, \"hovermode\": \"closest\", \"mapbox\": {\"style\": \"light\"}, \"paper_bgcolor\": \"white\", \"plot_bgcolor\": \"#E5ECF6\", \"polar\": {\"angularaxis\": {\"gridcolor\": \"white\", \"linecolor\": \"white\", \"ticks\": \"\"}, \"bgcolor\": \"#E5ECF6\", \"radialaxis\": {\"gridcolor\": \"white\", \"linecolor\": \"white\", \"ticks\": \"\"}}, \"scene\": {\"xaxis\": {\"backgroundcolor\": \"#E5ECF6\", \"gridcolor\": \"white\", \"gridwidth\": 2, \"linecolor\": \"white\", \"showbackground\": true, \"ticks\": \"\", \"zerolinecolor\": \"white\"}, \"yaxis\": {\"backgroundcolor\": \"#E5ECF6\", \"gridcolor\": \"white\", \"gridwidth\": 2, \"linecolor\": \"white\", \"showbackground\": true, \"ticks\": \"\", \"zerolinecolor\": \"white\"}, \"zaxis\": {\"backgroundcolor\": \"#E5ECF6\", \"gridcolor\": \"white\", \"gridwidth\": 2, \"linecolor\": \"white\", \"showbackground\": true, \"ticks\": \"\", \"zerolinecolor\": \"white\"}}, \"shapedefaults\": {\"line\": {\"color\": \"#2a3f5f\"}}, \"ternary\": {\"aaxis\": {\"gridcolor\": \"white\", \"linecolor\": \"white\", \"ticks\": \"\"}, \"baxis\": {\"gridcolor\": \"white\", \"linecolor\": \"white\", \"ticks\": \"\"}, \"bgcolor\": \"#E5ECF6\", \"caxis\": {\"gridcolor\": \"white\", \"linecolor\": \"white\", \"ticks\": \"\"}}, \"title\": {\"x\": 0.05}, \"xaxis\": {\"automargin\": true, \"gridcolor\": \"white\", \"linecolor\": \"white\", \"ticks\": \"\", \"title\": {\"standoff\": 15}, \"zerolinecolor\": \"white\", \"zerolinewidth\": 2}, \"yaxis\": {\"automargin\": true, \"gridcolor\": \"white\", \"linecolor\": \"white\", \"ticks\": \"\", \"title\": {\"standoff\": 15}, \"zerolinecolor\": \"white\", \"zerolinewidth\": 2}}}, \"title\": {\"text\": \"Personal, Human, and Economic Freedom Rank For Top 10 Global Innovation Index Countries\"}, \"xaxis\": {\"title\": {\"text\": \" Countries in 2016\"}}},\n",
       "                        {\"responsive\": true}\n",
       "                    ).then(function(){\n",
       "                            \n",
       "var gd = document.getElementById('197a70d4-0b62-4801-a60d-f82f62920b10');\n",
       "var x = new MutationObserver(function (mutations, observer) {{\n",
       "        var display = window.getComputedStyle(gd).display;\n",
       "        if (!display || display === 'none') {{\n",
       "            console.log([gd, 'removed!']);\n",
       "            Plotly.purge(gd);\n",
       "            observer.disconnect();\n",
       "        }}\n",
       "}});\n",
       "\n",
       "// Listen for the removal of the full notebook cells\n",
       "var notebookContainer = gd.closest('#notebook-container');\n",
       "if (notebookContainer) {{\n",
       "    x.observe(notebookContainer, {childList: true});\n",
       "}}\n",
       "\n",
       "// Listen for the clearing of the current output cell\n",
       "var outputEl = gd.closest('.output');\n",
       "if (outputEl) {{\n",
       "    x.observe(outputEl, {childList: true});\n",
       "}}\n",
       "\n",
       "                        })\n",
       "                };\n",
       "                });\n",
       "            </script>\n",
       "        </div>"
      ]
     },
     "metadata": {},
     "output_type": "display_data"
    }
   ],
   "source": [
    "data=pd.read_csv(\"hfi_cc_2018.csv\")\n",
    "hdi = ['Switzerland', 'Netherlands', 'Sweden', 'United Kingdom', 'Ireland', 'Singapore', 'United States of America', 'Finland', 'Denmark','Germany']\n",
    "df_innovation = df[df.Economy.isin(hdi)]\n",
    "data_innovation = data[data.countries.isin(hdi)]\n",
    "# import graph objects as \"go\"\n",
    "import plotly.graph_objs as go\n",
    "\n",
    "x = df_innovation.Economy\n",
    "\n",
    "trace1 = {\n",
    "  'x': x,\n",
    "  'y': data_innovation.ef_rank,\n",
    "  'name': 'Economic Freedom Score',\n",
    "  'type': 'bar'\n",
    "};\n",
    "trace2 = {\n",
    "  'x': x,\n",
    "  'y': data_innovation.hf_rank,\n",
    "  'name': 'Human Freedom Score',\n",
    "  'type': 'bar'\n",
    "};\n",
    "trace3 = {\n",
    "  'x': x,\n",
    "  'y': data_innovation['pf_rank'],\n",
    "  'name': 'Personal Freedom Score',\n",
    "  'type': 'bar'\n",
    "};\n",
    "data = [trace1, trace2, trace3];\n",
    "layout = {\n",
    "  'xaxis': {'title': ' Countries in 2016'},\n",
    "  'barmode': 'relative',\n",
    "  'title': 'Personal, Human, and Economic Freedom Rank For Top 10 Global Innovation Index Countries'\n",
    "};\n",
    "fig = go.Figure(data = data, layout = layout)\n",
    "iplot(fig)"
   ]
  },
  {
   "cell_type": "markdown",
   "metadata": {},
   "source": [
    "The data above shows that 8 out of the top 10 GII countries are ranked top 10 in Human Freedom,\n",
    "7 are ranked top 10 in Personal Freedom Score and 4 are ranked top 10 in Economic Freedom."
   ]
  },
  {
   "cell_type": "markdown",
   "metadata": {},
   "source": [
    "# Climate Change and Innovation"
   ]
  },
  {
   "cell_type": "markdown",
   "metadata": {},
   "source": [
    "One potential antidote for climate change is innovation. \n",
    "Lets see the Global Innovation Index Rankings of the top 5 GHG emitting countries."
   ]
  },
  {
   "cell_type": "code",
   "execution_count": 17,
   "metadata": {},
   "outputs": [
    {
     "data": {
      "text/html": [
       "<div>\n",
       "<style scoped>\n",
       "    .dataframe tbody tr th:only-of-type {\n",
       "        vertical-align: middle;\n",
       "    }\n",
       "\n",
       "    .dataframe tbody tr th {\n",
       "        vertical-align: top;\n",
       "    }\n",
       "\n",
       "    .dataframe thead th {\n",
       "        text-align: right;\n",
       "    }\n",
       "</style>\n",
       "<table border=\"1\" class=\"dataframe\">\n",
       "  <thead>\n",
       "    <tr style=\"text-align: right;\">\n",
       "      <th></th>\n",
       "      <th>Rank</th>\n",
       "      <th>Score</th>\n",
       "    </tr>\n",
       "  </thead>\n",
       "  <tbody>\n",
       "    <tr>\n",
       "      <th>count</th>\n",
       "      <td>5.000000</td>\n",
       "      <td>5.00000</td>\n",
       "    </tr>\n",
       "    <tr>\n",
       "      <th>mean</th>\n",
       "      <td>27.800000</td>\n",
       "      <td>48.20000</td>\n",
       "    </tr>\n",
       "    <tr>\n",
       "      <th>std</th>\n",
       "      <td>22.331592</td>\n",
       "      <td>10.95331</td>\n",
       "    </tr>\n",
       "    <tr>\n",
       "      <th>min</th>\n",
       "      <td>6.000000</td>\n",
       "      <td>35.20000</td>\n",
       "    </tr>\n",
       "    <tr>\n",
       "      <th>25%</th>\n",
       "      <td>13.000000</td>\n",
       "      <td>37.90000</td>\n",
       "    </tr>\n",
       "    <tr>\n",
       "      <th>50%</th>\n",
       "      <td>17.000000</td>\n",
       "      <td>53.10000</td>\n",
       "    </tr>\n",
       "    <tr>\n",
       "      <th>75%</th>\n",
       "      <td>46.000000</td>\n",
       "      <td>55.00000</td>\n",
       "    </tr>\n",
       "    <tr>\n",
       "      <th>max</th>\n",
       "      <td>57.000000</td>\n",
       "      <td>59.80000</td>\n",
       "    </tr>\n",
       "  </tbody>\n",
       "</table>\n",
       "</div>"
      ],
      "text/plain": [
       "            Rank     Score\n",
       "count   5.000000   5.00000\n",
       "mean   27.800000  48.20000\n",
       "std    22.331592  10.95331\n",
       "min     6.000000  35.20000\n",
       "25%    13.000000  37.90000\n",
       "50%    17.000000  53.10000\n",
       "75%    46.000000  55.00000\n",
       "max    57.000000  59.80000"
      ]
     },
     "execution_count": 17,
     "metadata": {},
     "output_type": "execute_result"
    }
   ],
   "source": [
    "top = ['United States of America', 'China', 'India', 'Russian Federation', 'Japan']\n",
    "df_power = df[df.Economy.isin(top)]\n",
    "df_power.describe()"
   ]
  },
  {
   "cell_type": "markdown",
   "metadata": {},
   "source": [
    "The top 5 cleanest countries according to www.conserve-energy-future.com are: Iceland, Switzerland, Costa Rica, Sweden, and Norway. \n",
    "    Lets take a look at their Global Innovation Index rankings."
   ]
  },
  {
   "cell_type": "code",
   "execution_count": 18,
   "metadata": {},
   "outputs": [
    {
     "data": {
      "text/html": [
       "<div>\n",
       "<style scoped>\n",
       "    .dataframe tbody tr th:only-of-type {\n",
       "        vertical-align: middle;\n",
       "    }\n",
       "\n",
       "    .dataframe tbody tr th {\n",
       "        vertical-align: top;\n",
       "    }\n",
       "\n",
       "    .dataframe thead th {\n",
       "        text-align: right;\n",
       "    }\n",
       "</style>\n",
       "<table border=\"1\" class=\"dataframe\">\n",
       "  <thead>\n",
       "    <tr style=\"text-align: right;\">\n",
       "      <th></th>\n",
       "      <th>Rank</th>\n",
       "      <th>Score</th>\n",
       "    </tr>\n",
       "  </thead>\n",
       "  <tbody>\n",
       "    <tr>\n",
       "      <th>count</th>\n",
       "      <td>5.000000</td>\n",
       "      <td>5.00000</td>\n",
       "    </tr>\n",
       "    <tr>\n",
       "      <th>mean</th>\n",
       "      <td>20.000000</td>\n",
       "      <td>54.20000</td>\n",
       "    </tr>\n",
       "    <tr>\n",
       "      <th>std</th>\n",
       "      <td>21.307276</td>\n",
       "      <td>12.59623</td>\n",
       "    </tr>\n",
       "    <tr>\n",
       "      <th>min</th>\n",
       "      <td>1.000000</td>\n",
       "      <td>35.70000</td>\n",
       "    </tr>\n",
       "    <tr>\n",
       "      <th>25%</th>\n",
       "      <td>3.000000</td>\n",
       "      <td>51.20000</td>\n",
       "    </tr>\n",
       "    <tr>\n",
       "      <th>50%</th>\n",
       "      <td>19.000000</td>\n",
       "      <td>52.60000</td>\n",
       "    </tr>\n",
       "    <tr>\n",
       "      <th>75%</th>\n",
       "      <td>23.000000</td>\n",
       "      <td>63.10000</td>\n",
       "    </tr>\n",
       "    <tr>\n",
       "      <th>max</th>\n",
       "      <td>54.000000</td>\n",
       "      <td>68.40000</td>\n",
       "    </tr>\n",
       "  </tbody>\n",
       "</table>\n",
       "</div>"
      ],
      "text/plain": [
       "            Rank     Score\n",
       "count   5.000000   5.00000\n",
       "mean   20.000000  54.20000\n",
       "std    21.307276  12.59623\n",
       "min     1.000000  35.70000\n",
       "25%     3.000000  51.20000\n",
       "50%    19.000000  52.60000\n",
       "75%    23.000000  63.10000\n",
       "max    54.000000  68.40000"
      ]
     },
     "execution_count": 18,
     "metadata": {},
     "output_type": "execute_result"
    }
   ],
   "source": [
    "clean = [\"Iceland\", \"Switzerland\", \"Costa Rica\", \"Sweden\", \"Norway\"]\n",
    "df_clean = df[df.Economy.isin(clean)]\n",
    "df_clean.describe()"
   ]
  },
  {
   "cell_type": "markdown",
   "metadata": {},
   "source": [
    "We can clearly see that the top 5 climate friendly countries are on average ranked higher in innovation than the top 5 GHG emitting countries."
   ]
  },
  {
   "cell_type": "markdown",
   "metadata": {},
   "source": [
    "# Human, Economic, and Personal Freedom Score For Top 10 Green House Gas Emitting Countries"
   ]
  },
  {
   "cell_type": "code",
   "execution_count": 19,
   "metadata": {},
   "outputs": [],
   "source": [
    "human = pd.read_csv('hfi_cc_2018.csv')\n",
    "power = ['United States', 'China', 'India', 'Russia', 'Japan', 'Germany', 'South Korea', 'Iran', 'Canada', 'Saudi Arabia']\n",
    "data_power = data_2016[data_2016.countries.isin(power)]"
   ]
  },
  {
   "cell_type": "markdown",
   "metadata": {},
   "source": [
    "Climate change is a surmounting problem plaguing society today. The biggest factor contributing to climate change is the increase in green house gas emissions. According to \"ucsusa.org\", the top 10 green house gas emitting countries for 2015 are: United States, China, India, Russia, Japan, Germany, South Korea, Iran, Canada, and Saudi Arabia. Lets take a look at the freedom ranks for these countries."
   ]
  },
  {
   "cell_type": "code",
   "execution_count": 20,
   "metadata": {},
   "outputs": [
    {
     "data": {
      "application/vnd.plotly.v1+json": {
       "config": {
        "linkText": "Export to plot.ly",
        "plotlyServerURL": "https://plot.ly",
        "showLink": false
       },
       "data": [
        {
         "name": "Economic Freedom Score",
         "type": "bar",
         "x": [
          "Canada",
          "China",
          "Germany",
          "India",
          "Iran",
          "Japan",
          "Russia",
          "Saudi Arabia",
          "United States"
         ],
         "y": [
          10,
          108,
          20,
          96,
          130,
          41,
          87,
          103,
          6
         ]
        },
        {
         "name": "Human Freedom Score",
         "type": "bar",
         "x": [
          "Canada",
          "China",
          "Germany",
          "India",
          "Iran",
          "Japan",
          "Russia",
          "Saudi Arabia",
          "United States"
         ],
         "y": [
          5,
          135,
          13,
          110,
          153,
          31,
          119,
          146,
          17
         ]
        },
        {
         "name": "Personal Freedom Score",
         "type": "bar",
         "x": [
          "Canada",
          "China",
          "Germany",
          "India",
          "Iran",
          "Japan",
          "Russia",
          "Saudi Arabia",
          "United States"
         ],
         "y": [
          12,
          141,
          9,
          112,
          154,
          29,
          130,
          155,
          28
         ]
        }
       ],
       "layout": {
        "barmode": "relative",
        "template": {
         "data": {
          "bar": [
           {
            "error_x": {
             "color": "#2a3f5f"
            },
            "error_y": {
             "color": "#2a3f5f"
            },
            "marker": {
             "line": {
              "color": "#E5ECF6",
              "width": 0.5
             }
            },
            "type": "bar"
           }
          ],
          "barpolar": [
           {
            "marker": {
             "line": {
              "color": "#E5ECF6",
              "width": 0.5
             }
            },
            "type": "barpolar"
           }
          ],
          "carpet": [
           {
            "aaxis": {
             "endlinecolor": "#2a3f5f",
             "gridcolor": "white",
             "linecolor": "white",
             "minorgridcolor": "white",
             "startlinecolor": "#2a3f5f"
            },
            "baxis": {
             "endlinecolor": "#2a3f5f",
             "gridcolor": "white",
             "linecolor": "white",
             "minorgridcolor": "white",
             "startlinecolor": "#2a3f5f"
            },
            "type": "carpet"
           }
          ],
          "choropleth": [
           {
            "colorbar": {
             "outlinewidth": 0,
             "ticks": ""
            },
            "type": "choropleth"
           }
          ],
          "contour": [
           {
            "colorbar": {
             "outlinewidth": 0,
             "ticks": ""
            },
            "colorscale": [
             [
              0,
              "#0d0887"
             ],
             [
              0.1111111111111111,
              "#46039f"
             ],
             [
              0.2222222222222222,
              "#7201a8"
             ],
             [
              0.3333333333333333,
              "#9c179e"
             ],
             [
              0.4444444444444444,
              "#bd3786"
             ],
             [
              0.5555555555555556,
              "#d8576b"
             ],
             [
              0.6666666666666666,
              "#ed7953"
             ],
             [
              0.7777777777777778,
              "#fb9f3a"
             ],
             [
              0.8888888888888888,
              "#fdca26"
             ],
             [
              1,
              "#f0f921"
             ]
            ],
            "type": "contour"
           }
          ],
          "contourcarpet": [
           {
            "colorbar": {
             "outlinewidth": 0,
             "ticks": ""
            },
            "type": "contourcarpet"
           }
          ],
          "heatmap": [
           {
            "colorbar": {
             "outlinewidth": 0,
             "ticks": ""
            },
            "colorscale": [
             [
              0,
              "#0d0887"
             ],
             [
              0.1111111111111111,
              "#46039f"
             ],
             [
              0.2222222222222222,
              "#7201a8"
             ],
             [
              0.3333333333333333,
              "#9c179e"
             ],
             [
              0.4444444444444444,
              "#bd3786"
             ],
             [
              0.5555555555555556,
              "#d8576b"
             ],
             [
              0.6666666666666666,
              "#ed7953"
             ],
             [
              0.7777777777777778,
              "#fb9f3a"
             ],
             [
              0.8888888888888888,
              "#fdca26"
             ],
             [
              1,
              "#f0f921"
             ]
            ],
            "type": "heatmap"
           }
          ],
          "heatmapgl": [
           {
            "colorbar": {
             "outlinewidth": 0,
             "ticks": ""
            },
            "colorscale": [
             [
              0,
              "#0d0887"
             ],
             [
              0.1111111111111111,
              "#46039f"
             ],
             [
              0.2222222222222222,
              "#7201a8"
             ],
             [
              0.3333333333333333,
              "#9c179e"
             ],
             [
              0.4444444444444444,
              "#bd3786"
             ],
             [
              0.5555555555555556,
              "#d8576b"
             ],
             [
              0.6666666666666666,
              "#ed7953"
             ],
             [
              0.7777777777777778,
              "#fb9f3a"
             ],
             [
              0.8888888888888888,
              "#fdca26"
             ],
             [
              1,
              "#f0f921"
             ]
            ],
            "type": "heatmapgl"
           }
          ],
          "histogram": [
           {
            "marker": {
             "colorbar": {
              "outlinewidth": 0,
              "ticks": ""
             }
            },
            "type": "histogram"
           }
          ],
          "histogram2d": [
           {
            "colorbar": {
             "outlinewidth": 0,
             "ticks": ""
            },
            "colorscale": [
             [
              0,
              "#0d0887"
             ],
             [
              0.1111111111111111,
              "#46039f"
             ],
             [
              0.2222222222222222,
              "#7201a8"
             ],
             [
              0.3333333333333333,
              "#9c179e"
             ],
             [
              0.4444444444444444,
              "#bd3786"
             ],
             [
              0.5555555555555556,
              "#d8576b"
             ],
             [
              0.6666666666666666,
              "#ed7953"
             ],
             [
              0.7777777777777778,
              "#fb9f3a"
             ],
             [
              0.8888888888888888,
              "#fdca26"
             ],
             [
              1,
              "#f0f921"
             ]
            ],
            "type": "histogram2d"
           }
          ],
          "histogram2dcontour": [
           {
            "colorbar": {
             "outlinewidth": 0,
             "ticks": ""
            },
            "colorscale": [
             [
              0,
              "#0d0887"
             ],
             [
              0.1111111111111111,
              "#46039f"
             ],
             [
              0.2222222222222222,
              "#7201a8"
             ],
             [
              0.3333333333333333,
              "#9c179e"
             ],
             [
              0.4444444444444444,
              "#bd3786"
             ],
             [
              0.5555555555555556,
              "#d8576b"
             ],
             [
              0.6666666666666666,
              "#ed7953"
             ],
             [
              0.7777777777777778,
              "#fb9f3a"
             ],
             [
              0.8888888888888888,
              "#fdca26"
             ],
             [
              1,
              "#f0f921"
             ]
            ],
            "type": "histogram2dcontour"
           }
          ],
          "mesh3d": [
           {
            "colorbar": {
             "outlinewidth": 0,
             "ticks": ""
            },
            "type": "mesh3d"
           }
          ],
          "parcoords": [
           {
            "line": {
             "colorbar": {
              "outlinewidth": 0,
              "ticks": ""
             }
            },
            "type": "parcoords"
           }
          ],
          "pie": [
           {
            "automargin": true,
            "type": "pie"
           }
          ],
          "scatter": [
           {
            "marker": {
             "colorbar": {
              "outlinewidth": 0,
              "ticks": ""
             }
            },
            "type": "scatter"
           }
          ],
          "scatter3d": [
           {
            "line": {
             "colorbar": {
              "outlinewidth": 0,
              "ticks": ""
             }
            },
            "marker": {
             "colorbar": {
              "outlinewidth": 0,
              "ticks": ""
             }
            },
            "type": "scatter3d"
           }
          ],
          "scattercarpet": [
           {
            "marker": {
             "colorbar": {
              "outlinewidth": 0,
              "ticks": ""
             }
            },
            "type": "scattercarpet"
           }
          ],
          "scattergeo": [
           {
            "marker": {
             "colorbar": {
              "outlinewidth": 0,
              "ticks": ""
             }
            },
            "type": "scattergeo"
           }
          ],
          "scattergl": [
           {
            "marker": {
             "colorbar": {
              "outlinewidth": 0,
              "ticks": ""
             }
            },
            "type": "scattergl"
           }
          ],
          "scattermapbox": [
           {
            "marker": {
             "colorbar": {
              "outlinewidth": 0,
              "ticks": ""
             }
            },
            "type": "scattermapbox"
           }
          ],
          "scatterpolar": [
           {
            "marker": {
             "colorbar": {
              "outlinewidth": 0,
              "ticks": ""
             }
            },
            "type": "scatterpolar"
           }
          ],
          "scatterpolargl": [
           {
            "marker": {
             "colorbar": {
              "outlinewidth": 0,
              "ticks": ""
             }
            },
            "type": "scatterpolargl"
           }
          ],
          "scatterternary": [
           {
            "marker": {
             "colorbar": {
              "outlinewidth": 0,
              "ticks": ""
             }
            },
            "type": "scatterternary"
           }
          ],
          "surface": [
           {
            "colorbar": {
             "outlinewidth": 0,
             "ticks": ""
            },
            "colorscale": [
             [
              0,
              "#0d0887"
             ],
             [
              0.1111111111111111,
              "#46039f"
             ],
             [
              0.2222222222222222,
              "#7201a8"
             ],
             [
              0.3333333333333333,
              "#9c179e"
             ],
             [
              0.4444444444444444,
              "#bd3786"
             ],
             [
              0.5555555555555556,
              "#d8576b"
             ],
             [
              0.6666666666666666,
              "#ed7953"
             ],
             [
              0.7777777777777778,
              "#fb9f3a"
             ],
             [
              0.8888888888888888,
              "#fdca26"
             ],
             [
              1,
              "#f0f921"
             ]
            ],
            "type": "surface"
           }
          ],
          "table": [
           {
            "cells": {
             "fill": {
              "color": "#EBF0F8"
             },
             "line": {
              "color": "white"
             }
            },
            "header": {
             "fill": {
              "color": "#C8D4E3"
             },
             "line": {
              "color": "white"
             }
            },
            "type": "table"
           }
          ]
         },
         "layout": {
          "annotationdefaults": {
           "arrowcolor": "#2a3f5f",
           "arrowhead": 0,
           "arrowwidth": 1
          },
          "coloraxis": {
           "colorbar": {
            "outlinewidth": 0,
            "ticks": ""
           }
          },
          "colorscale": {
           "diverging": [
            [
             0,
             "#8e0152"
            ],
            [
             0.1,
             "#c51b7d"
            ],
            [
             0.2,
             "#de77ae"
            ],
            [
             0.3,
             "#f1b6da"
            ],
            [
             0.4,
             "#fde0ef"
            ],
            [
             0.5,
             "#f7f7f7"
            ],
            [
             0.6,
             "#e6f5d0"
            ],
            [
             0.7,
             "#b8e186"
            ],
            [
             0.8,
             "#7fbc41"
            ],
            [
             0.9,
             "#4d9221"
            ],
            [
             1,
             "#276419"
            ]
           ],
           "sequential": [
            [
             0,
             "#0d0887"
            ],
            [
             0.1111111111111111,
             "#46039f"
            ],
            [
             0.2222222222222222,
             "#7201a8"
            ],
            [
             0.3333333333333333,
             "#9c179e"
            ],
            [
             0.4444444444444444,
             "#bd3786"
            ],
            [
             0.5555555555555556,
             "#d8576b"
            ],
            [
             0.6666666666666666,
             "#ed7953"
            ],
            [
             0.7777777777777778,
             "#fb9f3a"
            ],
            [
             0.8888888888888888,
             "#fdca26"
            ],
            [
             1,
             "#f0f921"
            ]
           ],
           "sequentialminus": [
            [
             0,
             "#0d0887"
            ],
            [
             0.1111111111111111,
             "#46039f"
            ],
            [
             0.2222222222222222,
             "#7201a8"
            ],
            [
             0.3333333333333333,
             "#9c179e"
            ],
            [
             0.4444444444444444,
             "#bd3786"
            ],
            [
             0.5555555555555556,
             "#d8576b"
            ],
            [
             0.6666666666666666,
             "#ed7953"
            ],
            [
             0.7777777777777778,
             "#fb9f3a"
            ],
            [
             0.8888888888888888,
             "#fdca26"
            ],
            [
             1,
             "#f0f921"
            ]
           ]
          },
          "colorway": [
           "#636efa",
           "#EF553B",
           "#00cc96",
           "#ab63fa",
           "#FFA15A",
           "#19d3f3",
           "#FF6692",
           "#B6E880",
           "#FF97FF",
           "#FECB52"
          ],
          "font": {
           "color": "#2a3f5f"
          },
          "geo": {
           "bgcolor": "white",
           "lakecolor": "white",
           "landcolor": "#E5ECF6",
           "showlakes": true,
           "showland": true,
           "subunitcolor": "white"
          },
          "hoverlabel": {
           "align": "left"
          },
          "hovermode": "closest",
          "mapbox": {
           "style": "light"
          },
          "paper_bgcolor": "white",
          "plot_bgcolor": "#E5ECF6",
          "polar": {
           "angularaxis": {
            "gridcolor": "white",
            "linecolor": "white",
            "ticks": ""
           },
           "bgcolor": "#E5ECF6",
           "radialaxis": {
            "gridcolor": "white",
            "linecolor": "white",
            "ticks": ""
           }
          },
          "scene": {
           "xaxis": {
            "backgroundcolor": "#E5ECF6",
            "gridcolor": "white",
            "gridwidth": 2,
            "linecolor": "white",
            "showbackground": true,
            "ticks": "",
            "zerolinecolor": "white"
           },
           "yaxis": {
            "backgroundcolor": "#E5ECF6",
            "gridcolor": "white",
            "gridwidth": 2,
            "linecolor": "white",
            "showbackground": true,
            "ticks": "",
            "zerolinecolor": "white"
           },
           "zaxis": {
            "backgroundcolor": "#E5ECF6",
            "gridcolor": "white",
            "gridwidth": 2,
            "linecolor": "white",
            "showbackground": true,
            "ticks": "",
            "zerolinecolor": "white"
           }
          },
          "shapedefaults": {
           "line": {
            "color": "#2a3f5f"
           }
          },
          "ternary": {
           "aaxis": {
            "gridcolor": "white",
            "linecolor": "white",
            "ticks": ""
           },
           "baxis": {
            "gridcolor": "white",
            "linecolor": "white",
            "ticks": ""
           },
           "bgcolor": "#E5ECF6",
           "caxis": {
            "gridcolor": "white",
            "linecolor": "white",
            "ticks": ""
           }
          },
          "title": {
           "x": 0.05
          },
          "xaxis": {
           "automargin": true,
           "gridcolor": "white",
           "linecolor": "white",
           "ticks": "",
           "title": {
            "standoff": 15
           },
           "zerolinecolor": "white",
           "zerolinewidth": 2
          },
          "yaxis": {
           "automargin": true,
           "gridcolor": "white",
           "linecolor": "white",
           "ticks": "",
           "title": {
            "standoff": 15
           },
           "zerolinecolor": "white",
           "zerolinewidth": 2
          }
         }
        },
        "title": {
         "text": "Personal, Human, and Economic Freedom Rank For Top 10 Green House Gas Emitting Countries"
        },
        "xaxis": {
         "title": {
          "text": " Countries in 2016"
         }
        }
       }
      },
      "text/html": [
       "<div>\n",
       "        \n",
       "        \n",
       "            <div id=\"78d5ffc7-6d36-4bf3-9430-987f8bc09b0a\" class=\"plotly-graph-div\" style=\"height:525px; width:100%;\"></div>\n",
       "            <script type=\"text/javascript\">\n",
       "                require([\"plotly\"], function(Plotly) {\n",
       "                    window.PLOTLYENV=window.PLOTLYENV || {};\n",
       "                    \n",
       "                if (document.getElementById(\"78d5ffc7-6d36-4bf3-9430-987f8bc09b0a\")) {\n",
       "                    Plotly.newPlot(\n",
       "                        '78d5ffc7-6d36-4bf3-9430-987f8bc09b0a',\n",
       "                        [{\"name\": \"Economic Freedom Score\", \"type\": \"bar\", \"x\": [\"Canada\", \"China\", \"Germany\", \"India\", \"Iran\", \"Japan\", \"Russia\", \"Saudi Arabia\", \"United States\"], \"y\": [10.0, 108.0, 20.0, 96.0, 130.0, 41.0, 87.0, 103.0, 6.0]}, {\"name\": \"Human Freedom Score\", \"type\": \"bar\", \"x\": [\"Canada\", \"China\", \"Germany\", \"India\", \"Iran\", \"Japan\", \"Russia\", \"Saudi Arabia\", \"United States\"], \"y\": [5.0, 135.0, 13.0, 110.0, 153.0, 31.0, 119.0, 146.0, 17.0]}, {\"name\": \"Personal Freedom Score\", \"type\": \"bar\", \"x\": [\"Canada\", \"China\", \"Germany\", \"India\", \"Iran\", \"Japan\", \"Russia\", \"Saudi Arabia\", \"United States\"], \"y\": [12.0, 141.0, 9.0, 112.0, 154.0, 29.0, 130.0, 155.0, 28.0]}],\n",
       "                        {\"barmode\": \"relative\", \"template\": {\"data\": {\"bar\": [{\"error_x\": {\"color\": \"#2a3f5f\"}, \"error_y\": {\"color\": \"#2a3f5f\"}, \"marker\": {\"line\": {\"color\": \"#E5ECF6\", \"width\": 0.5}}, \"type\": \"bar\"}], \"barpolar\": [{\"marker\": {\"line\": {\"color\": \"#E5ECF6\", \"width\": 0.5}}, \"type\": \"barpolar\"}], \"carpet\": [{\"aaxis\": {\"endlinecolor\": \"#2a3f5f\", \"gridcolor\": \"white\", \"linecolor\": \"white\", \"minorgridcolor\": \"white\", \"startlinecolor\": \"#2a3f5f\"}, \"baxis\": {\"endlinecolor\": \"#2a3f5f\", \"gridcolor\": \"white\", \"linecolor\": \"white\", \"minorgridcolor\": \"white\", \"startlinecolor\": \"#2a3f5f\"}, \"type\": \"carpet\"}], \"choropleth\": [{\"colorbar\": {\"outlinewidth\": 0, \"ticks\": \"\"}, \"type\": \"choropleth\"}], \"contour\": [{\"colorbar\": {\"outlinewidth\": 0, \"ticks\": \"\"}, \"colorscale\": [[0.0, \"#0d0887\"], [0.1111111111111111, \"#46039f\"], [0.2222222222222222, \"#7201a8\"], [0.3333333333333333, \"#9c179e\"], [0.4444444444444444, \"#bd3786\"], [0.5555555555555556, \"#d8576b\"], [0.6666666666666666, \"#ed7953\"], [0.7777777777777778, \"#fb9f3a\"], [0.8888888888888888, \"#fdca26\"], [1.0, \"#f0f921\"]], \"type\": \"contour\"}], \"contourcarpet\": [{\"colorbar\": {\"outlinewidth\": 0, \"ticks\": \"\"}, \"type\": \"contourcarpet\"}], \"heatmap\": [{\"colorbar\": {\"outlinewidth\": 0, \"ticks\": \"\"}, \"colorscale\": [[0.0, \"#0d0887\"], [0.1111111111111111, \"#46039f\"], [0.2222222222222222, \"#7201a8\"], [0.3333333333333333, \"#9c179e\"], [0.4444444444444444, \"#bd3786\"], [0.5555555555555556, \"#d8576b\"], [0.6666666666666666, \"#ed7953\"], [0.7777777777777778, \"#fb9f3a\"], [0.8888888888888888, \"#fdca26\"], [1.0, \"#f0f921\"]], \"type\": \"heatmap\"}], \"heatmapgl\": [{\"colorbar\": {\"outlinewidth\": 0, \"ticks\": \"\"}, \"colorscale\": [[0.0, \"#0d0887\"], [0.1111111111111111, \"#46039f\"], [0.2222222222222222, \"#7201a8\"], [0.3333333333333333, \"#9c179e\"], [0.4444444444444444, \"#bd3786\"], [0.5555555555555556, \"#d8576b\"], [0.6666666666666666, \"#ed7953\"], [0.7777777777777778, \"#fb9f3a\"], [0.8888888888888888, \"#fdca26\"], [1.0, \"#f0f921\"]], \"type\": \"heatmapgl\"}], \"histogram\": [{\"marker\": {\"colorbar\": {\"outlinewidth\": 0, \"ticks\": \"\"}}, \"type\": \"histogram\"}], \"histogram2d\": [{\"colorbar\": {\"outlinewidth\": 0, \"ticks\": \"\"}, \"colorscale\": [[0.0, \"#0d0887\"], [0.1111111111111111, \"#46039f\"], [0.2222222222222222, \"#7201a8\"], [0.3333333333333333, \"#9c179e\"], [0.4444444444444444, \"#bd3786\"], [0.5555555555555556, \"#d8576b\"], [0.6666666666666666, \"#ed7953\"], [0.7777777777777778, \"#fb9f3a\"], [0.8888888888888888, \"#fdca26\"], [1.0, \"#f0f921\"]], \"type\": \"histogram2d\"}], \"histogram2dcontour\": [{\"colorbar\": {\"outlinewidth\": 0, \"ticks\": \"\"}, \"colorscale\": [[0.0, \"#0d0887\"], [0.1111111111111111, \"#46039f\"], [0.2222222222222222, \"#7201a8\"], [0.3333333333333333, \"#9c179e\"], [0.4444444444444444, \"#bd3786\"], [0.5555555555555556, \"#d8576b\"], [0.6666666666666666, \"#ed7953\"], [0.7777777777777778, \"#fb9f3a\"], [0.8888888888888888, \"#fdca26\"], [1.0, \"#f0f921\"]], \"type\": \"histogram2dcontour\"}], \"mesh3d\": [{\"colorbar\": {\"outlinewidth\": 0, \"ticks\": \"\"}, \"type\": \"mesh3d\"}], \"parcoords\": [{\"line\": {\"colorbar\": {\"outlinewidth\": 0, \"ticks\": \"\"}}, \"type\": \"parcoords\"}], \"pie\": [{\"automargin\": true, \"type\": \"pie\"}], \"scatter\": [{\"marker\": {\"colorbar\": {\"outlinewidth\": 0, \"ticks\": \"\"}}, \"type\": \"scatter\"}], \"scatter3d\": [{\"line\": {\"colorbar\": {\"outlinewidth\": 0, \"ticks\": \"\"}}, \"marker\": {\"colorbar\": {\"outlinewidth\": 0, \"ticks\": \"\"}}, \"type\": \"scatter3d\"}], \"scattercarpet\": [{\"marker\": {\"colorbar\": {\"outlinewidth\": 0, \"ticks\": \"\"}}, \"type\": \"scattercarpet\"}], \"scattergeo\": [{\"marker\": {\"colorbar\": {\"outlinewidth\": 0, \"ticks\": \"\"}}, \"type\": \"scattergeo\"}], \"scattergl\": [{\"marker\": {\"colorbar\": {\"outlinewidth\": 0, \"ticks\": \"\"}}, \"type\": \"scattergl\"}], \"scattermapbox\": [{\"marker\": {\"colorbar\": {\"outlinewidth\": 0, \"ticks\": \"\"}}, \"type\": \"scattermapbox\"}], \"scatterpolar\": [{\"marker\": {\"colorbar\": {\"outlinewidth\": 0, \"ticks\": \"\"}}, \"type\": \"scatterpolar\"}], \"scatterpolargl\": [{\"marker\": {\"colorbar\": {\"outlinewidth\": 0, \"ticks\": \"\"}}, \"type\": \"scatterpolargl\"}], \"scatterternary\": [{\"marker\": {\"colorbar\": {\"outlinewidth\": 0, \"ticks\": \"\"}}, \"type\": \"scatterternary\"}], \"surface\": [{\"colorbar\": {\"outlinewidth\": 0, \"ticks\": \"\"}, \"colorscale\": [[0.0, \"#0d0887\"], [0.1111111111111111, \"#46039f\"], [0.2222222222222222, \"#7201a8\"], [0.3333333333333333, \"#9c179e\"], [0.4444444444444444, \"#bd3786\"], [0.5555555555555556, \"#d8576b\"], [0.6666666666666666, \"#ed7953\"], [0.7777777777777778, \"#fb9f3a\"], [0.8888888888888888, \"#fdca26\"], [1.0, \"#f0f921\"]], \"type\": \"surface\"}], \"table\": [{\"cells\": {\"fill\": {\"color\": \"#EBF0F8\"}, \"line\": {\"color\": \"white\"}}, \"header\": {\"fill\": {\"color\": \"#C8D4E3\"}, \"line\": {\"color\": \"white\"}}, \"type\": \"table\"}]}, \"layout\": {\"annotationdefaults\": {\"arrowcolor\": \"#2a3f5f\", \"arrowhead\": 0, \"arrowwidth\": 1}, \"coloraxis\": {\"colorbar\": {\"outlinewidth\": 0, \"ticks\": \"\"}}, \"colorscale\": {\"diverging\": [[0, \"#8e0152\"], [0.1, \"#c51b7d\"], [0.2, \"#de77ae\"], [0.3, \"#f1b6da\"], [0.4, \"#fde0ef\"], [0.5, \"#f7f7f7\"], [0.6, \"#e6f5d0\"], [0.7, \"#b8e186\"], [0.8, \"#7fbc41\"], [0.9, \"#4d9221\"], [1, \"#276419\"]], \"sequential\": [[0.0, \"#0d0887\"], [0.1111111111111111, \"#46039f\"], [0.2222222222222222, \"#7201a8\"], [0.3333333333333333, \"#9c179e\"], [0.4444444444444444, \"#bd3786\"], [0.5555555555555556, \"#d8576b\"], [0.6666666666666666, \"#ed7953\"], [0.7777777777777778, \"#fb9f3a\"], [0.8888888888888888, \"#fdca26\"], [1.0, \"#f0f921\"]], \"sequentialminus\": [[0.0, \"#0d0887\"], [0.1111111111111111, \"#46039f\"], [0.2222222222222222, \"#7201a8\"], [0.3333333333333333, \"#9c179e\"], [0.4444444444444444, \"#bd3786\"], [0.5555555555555556, \"#d8576b\"], [0.6666666666666666, \"#ed7953\"], [0.7777777777777778, \"#fb9f3a\"], [0.8888888888888888, \"#fdca26\"], [1.0, \"#f0f921\"]]}, \"colorway\": [\"#636efa\", \"#EF553B\", \"#00cc96\", \"#ab63fa\", \"#FFA15A\", \"#19d3f3\", \"#FF6692\", \"#B6E880\", \"#FF97FF\", \"#FECB52\"], \"font\": {\"color\": \"#2a3f5f\"}, \"geo\": {\"bgcolor\": \"white\", \"lakecolor\": \"white\", \"landcolor\": \"#E5ECF6\", \"showlakes\": true, \"showland\": true, \"subunitcolor\": \"white\"}, \"hoverlabel\": {\"align\": \"left\"}, \"hovermode\": \"closest\", \"mapbox\": {\"style\": \"light\"}, \"paper_bgcolor\": \"white\", \"plot_bgcolor\": \"#E5ECF6\", \"polar\": {\"angularaxis\": {\"gridcolor\": \"white\", \"linecolor\": \"white\", \"ticks\": \"\"}, \"bgcolor\": \"#E5ECF6\", \"radialaxis\": {\"gridcolor\": \"white\", \"linecolor\": \"white\", \"ticks\": \"\"}}, \"scene\": {\"xaxis\": {\"backgroundcolor\": \"#E5ECF6\", \"gridcolor\": \"white\", \"gridwidth\": 2, \"linecolor\": \"white\", \"showbackground\": true, \"ticks\": \"\", \"zerolinecolor\": \"white\"}, \"yaxis\": {\"backgroundcolor\": \"#E5ECF6\", \"gridcolor\": \"white\", \"gridwidth\": 2, \"linecolor\": \"white\", \"showbackground\": true, \"ticks\": \"\", \"zerolinecolor\": \"white\"}, \"zaxis\": {\"backgroundcolor\": \"#E5ECF6\", \"gridcolor\": \"white\", \"gridwidth\": 2, \"linecolor\": \"white\", \"showbackground\": true, \"ticks\": \"\", \"zerolinecolor\": \"white\"}}, \"shapedefaults\": {\"line\": {\"color\": \"#2a3f5f\"}}, \"ternary\": {\"aaxis\": {\"gridcolor\": \"white\", \"linecolor\": \"white\", \"ticks\": \"\"}, \"baxis\": {\"gridcolor\": \"white\", \"linecolor\": \"white\", \"ticks\": \"\"}, \"bgcolor\": \"#E5ECF6\", \"caxis\": {\"gridcolor\": \"white\", \"linecolor\": \"white\", \"ticks\": \"\"}}, \"title\": {\"x\": 0.05}, \"xaxis\": {\"automargin\": true, \"gridcolor\": \"white\", \"linecolor\": \"white\", \"ticks\": \"\", \"title\": {\"standoff\": 15}, \"zerolinecolor\": \"white\", \"zerolinewidth\": 2}, \"yaxis\": {\"automargin\": true, \"gridcolor\": \"white\", \"linecolor\": \"white\", \"ticks\": \"\", \"title\": {\"standoff\": 15}, \"zerolinecolor\": \"white\", \"zerolinewidth\": 2}}}, \"title\": {\"text\": \"Personal, Human, and Economic Freedom Rank For Top 10 Green House Gas Emitting Countries\"}, \"xaxis\": {\"title\": {\"text\": \" Countries in 2016\"}}},\n",
       "                        {\"responsive\": true}\n",
       "                    ).then(function(){\n",
       "                            \n",
       "var gd = document.getElementById('78d5ffc7-6d36-4bf3-9430-987f8bc09b0a');\n",
       "var x = new MutationObserver(function (mutations, observer) {{\n",
       "        var display = window.getComputedStyle(gd).display;\n",
       "        if (!display || display === 'none') {{\n",
       "            console.log([gd, 'removed!']);\n",
       "            Plotly.purge(gd);\n",
       "            observer.disconnect();\n",
       "        }}\n",
       "}});\n",
       "\n",
       "// Listen for the removal of the full notebook cells\n",
       "var notebookContainer = gd.closest('#notebook-container');\n",
       "if (notebookContainer) {{\n",
       "    x.observe(notebookContainer, {childList: true});\n",
       "}}\n",
       "\n",
       "// Listen for the clearing of the current output cell\n",
       "var outputEl = gd.closest('.output');\n",
       "if (outputEl) {{\n",
       "    x.observe(outputEl, {childList: true});\n",
       "}}\n",
       "\n",
       "                        })\n",
       "                };\n",
       "                });\n",
       "            </script>\n",
       "        </div>"
      ]
     },
     "metadata": {},
     "output_type": "display_data"
    }
   ],
   "source": [
    "# import graph objects as \"go\"\n",
    "import plotly.graph_objs as go\n",
    "\n",
    "x = data_power.countries\n",
    "\n",
    "trace1 = {\n",
    "  'x': x,\n",
    "  'y': data_power.ef_rank,\n",
    "  'name': 'Economic Freedom Score',\n",
    "  'type': 'bar'\n",
    "};\n",
    "trace2 = {\n",
    "  'x': x,\n",
    "  'y': data_power.hf_rank,\n",
    "  'name': 'Human Freedom Score',\n",
    "  'type': 'bar'\n",
    "};\n",
    "trace3 = {\n",
    "  'x': x,\n",
    "  'y': data_power['pf_rank'],\n",
    "  'name': 'Personal Freedom Score',\n",
    "  'type': 'bar'\n",
    "};\n",
    "data = [trace1, trace2, trace3];\n",
    "layout = {\n",
    "  'xaxis': {'title': ' Countries in 2016'},\n",
    "  'barmode': 'relative',\n",
    "  'title': 'Personal, Human, and Economic Freedom Rank For Top 10 Green House Gas Emitting Countries'\n",
    "};\n",
    "fig = go.Figure(data = data, layout = layout)\n",
    "iplot(fig)"
   ]
  },
  {
   "cell_type": "markdown",
   "metadata": {},
   "source": [
    "2016 Human Freedom Rank\n",
    "\n",
    "Canada: 5\n",
    "China: 135\n",
    "Germany: 13\n",
    "India: 110\n",
    "Iran: 153\n",
    "Japan: 31\n",
    "Russia: 119\n",
    "Saudi Arabia: 146\n",
    "United States: 17\n",
    "\n",
    "2016 Economic Freedom Rank\n",
    "\n",
    "Canada: 10\n",
    "China: 108\n",
    "Germany: 20\n",
    "India: 96\n",
    "Iran: 130\n",
    "Japan: 41\n",
    "Russia: 87\n",
    "Saudi Arabia: 103\n",
    "United States: 6\n",
    "\n",
    "2016 Personal Freedom Rank\n",
    "\n",
    "Canada: 12\n",
    "China: 141\n",
    "Germany: 9\n",
    "India: 112\n",
    "Iran: 154\n",
    "Japan: 29\n",
    "Russia: 130\n",
    "Saudi Arabia: 155\n",
    "United States: 28"
   ]
  },
  {
   "cell_type": "markdown",
   "metadata": {},
   "source": [
    "# Global Perspective of Regulation and Innovation"
   ]
  },
  {
   "cell_type": "code",
   "execution_count": 21,
   "metadata": {},
   "outputs": [],
   "source": [
    "import os\n",
    "os.environ[\"PROJ_LIB\"] = os.path.join(os.environ[\"CONDA_PREFIX\"])"
   ]
  },
  {
   "cell_type": "code",
   "execution_count": 22,
   "metadata": {},
   "outputs": [
    {
     "ename": "FileNotFoundError",
     "evalue": "[Errno 2] No such file or directory: 'C:\\\\Users\\\\JAHNAVI DEVI\\\\anaconda3\\\\epsg'",
     "output_type": "error",
     "traceback": [
      "\u001b[1;31m---------------------------------------------------------------------------\u001b[0m",
      "\u001b[1;31mFileNotFoundError\u001b[0m                         Traceback (most recent call last)",
      "\u001b[1;32m<ipython-input-22-1a19c4ce4b12>\u001b[0m in \u001b[0;36m<module>\u001b[1;34m\u001b[0m\n\u001b[1;32m----> 1\u001b[1;33m \u001b[1;32mfrom\u001b[0m \u001b[0mmpl_toolkits\u001b[0m\u001b[1;33m.\u001b[0m\u001b[0mbasemap\u001b[0m \u001b[1;32mimport\u001b[0m \u001b[0mBasemap\u001b[0m\u001b[1;33m\u001b[0m\u001b[1;33m\u001b[0m\u001b[0m\n\u001b[0m\u001b[0;32m      2\u001b[0m \u001b[0mconcap\u001b[0m \u001b[1;33m=\u001b[0m \u001b[0mpd\u001b[0m\u001b[1;33m.\u001b[0m\u001b[0mread_csv\u001b[0m\u001b[1;33m(\u001b[0m\u001b[1;34m'concap.csv'\u001b[0m\u001b[1;33m)\u001b[0m\u001b[1;33m\u001b[0m\u001b[1;33m\u001b[0m\u001b[0m\n\u001b[0;32m      3\u001b[0m \u001b[0mdata18\u001b[0m \u001b[1;33m=\u001b[0m \u001b[0mpd\u001b[0m\u001b[1;33m.\u001b[0m\u001b[0mread_csv\u001b[0m\u001b[1;33m(\u001b[0m\u001b[1;34m'hfi_cc_2018.csv'\u001b[0m\u001b[1;33m)\u001b[0m\u001b[1;33m\u001b[0m\u001b[1;33m\u001b[0m\u001b[0m\n\u001b[0;32m      4\u001b[0m data_full = pd.merge(concap[['CountryName', 'CapitalName', 'CapitalLatitude', 'CapitalLongitude']],\\\n\u001b[0;32m      5\u001b[0m          data18,left_on='CountryName',right_on='countries')\n",
      "\u001b[1;32m~\\anaconda3\\lib\\site-packages\\mpl_toolkits\\basemap\\__init__.py\u001b[0m in \u001b[0;36m<module>\u001b[1;34m\u001b[0m\n\u001b[0;32m    154\u001b[0m \u001b[1;31m# create dictionary that maps epsg codes to Basemap kwargs.\u001b[0m\u001b[1;33m\u001b[0m\u001b[1;33m\u001b[0m\u001b[1;33m\u001b[0m\u001b[0m\n\u001b[0;32m    155\u001b[0m \u001b[0mpyproj_datadir\u001b[0m \u001b[1;33m=\u001b[0m \u001b[0mos\u001b[0m\u001b[1;33m.\u001b[0m\u001b[0menviron\u001b[0m\u001b[1;33m[\u001b[0m\u001b[1;34m'PROJ_LIB'\u001b[0m\u001b[1;33m]\u001b[0m\u001b[1;33m\u001b[0m\u001b[1;33m\u001b[0m\u001b[0m\n\u001b[1;32m--> 156\u001b[1;33m \u001b[0mepsgf\u001b[0m \u001b[1;33m=\u001b[0m \u001b[0mopen\u001b[0m\u001b[1;33m(\u001b[0m\u001b[0mos\u001b[0m\u001b[1;33m.\u001b[0m\u001b[0mpath\u001b[0m\u001b[1;33m.\u001b[0m\u001b[0mjoin\u001b[0m\u001b[1;33m(\u001b[0m\u001b[0mpyproj_datadir\u001b[0m\u001b[1;33m,\u001b[0m\u001b[1;34m'epsg'\u001b[0m\u001b[1;33m)\u001b[0m\u001b[1;33m)\u001b[0m\u001b[1;33m\u001b[0m\u001b[1;33m\u001b[0m\u001b[0m\n\u001b[0m\u001b[0;32m    157\u001b[0m \u001b[0mepsg_dict\u001b[0m\u001b[1;33m=\u001b[0m\u001b[1;33m{\u001b[0m\u001b[1;33m}\u001b[0m\u001b[1;33m\u001b[0m\u001b[1;33m\u001b[0m\u001b[0m\n\u001b[0;32m    158\u001b[0m \u001b[1;32mfor\u001b[0m \u001b[0mline\u001b[0m \u001b[1;32min\u001b[0m \u001b[0mepsgf\u001b[0m\u001b[1;33m:\u001b[0m\u001b[1;33m\u001b[0m\u001b[1;33m\u001b[0m\u001b[0m\n",
      "\u001b[1;31mFileNotFoundError\u001b[0m: [Errno 2] No such file or directory: 'C:\\\\Users\\\\JAHNAVI DEVI\\\\anaconda3\\\\epsg'"
     ]
    }
   ],
   "source": [
    "from mpl_toolkits.basemap import Basemap\n",
    "concap = pd.read_csv('concap.csv')\n",
    "data18 = pd.read_csv('hfi_cc_2018.csv')\n",
    "data_full = pd.merge(concap[['CountryName', 'CapitalName', 'CapitalLatitude', 'CapitalLongitude']],\\\n",
    "         data18,left_on='CountryName',right_on='countries')\n",
    "def mapWorld():\n",
    "    m = Basemap(projection='mill',llcrnrlat=-60,urcrnrlat=70,\\\n",
    "            llcrnrlon=-110,urcrnrlon=180,resolution='c')\n",
    "    m.drawcoastlines()\n",
    "    m.drawcountries()\n",
    "    m.drawparallels(np.arange(-90,91.,30.))\n",
    "    m.drawmeridians(np.arange(-90,90.,60.))\n",
    "    lat = data_full['CapitalLatitude'].values\n",
    "    lon = data_full['CapitalLongitude'].values\n",
    "    a_1 = data_full['ef_regulation_business'].values\n",
    "    #a_2 = data_full['Economy (GDP per Capita)'].values\n",
    "    #300*a_2\n",
    "    m.scatter(lon, lat, latlon=True,c=a_1,s=500,linewidth=1,edgecolors='black',cmap='Blues', alpha=1)\n",
    "    \n",
    "    #m.fillcontinents(color='#FFFFFF',lake_color='#FFFFFF',alpha=0.3)\n",
    "    cbar = m.colorbar()\n",
    "    cbar.set_label('Business Regulation',fontsize=30)\n",
    "    #plt.clim(20000, 100000)\n",
    "    plt.title(\"Business Regulation (score)\", fontsize=30)\n",
    "    plt.show()\n",
    "plt.figure(figsize=(30,30))\n",
    "mapWorld()"
   ]
  },
  {
   "cell_type": "code",
   "execution_count": 23,
   "metadata": {},
   "outputs": [
    {
     "ename": "FileNotFoundError",
     "evalue": "[Errno 2] No such file or directory: 'C:\\\\Users\\\\JAHNAVI DEVI\\\\anaconda3\\\\epsg'",
     "output_type": "error",
     "traceback": [
      "\u001b[1;31m---------------------------------------------------------------------------\u001b[0m",
      "\u001b[1;31mFileNotFoundError\u001b[0m                         Traceback (most recent call last)",
      "\u001b[1;32m<ipython-input-23-74eeb68447b9>\u001b[0m in \u001b[0;36m<module>\u001b[1;34m\u001b[0m\n\u001b[1;32m----> 1\u001b[1;33m \u001b[1;32mfrom\u001b[0m \u001b[0mmpl_toolkits\u001b[0m\u001b[1;33m.\u001b[0m\u001b[0mbasemap\u001b[0m \u001b[1;32mimport\u001b[0m \u001b[0mBasemap\u001b[0m\u001b[1;33m\u001b[0m\u001b[1;33m\u001b[0m\u001b[0m\n\u001b[0m\u001b[0;32m      2\u001b[0m \u001b[0mconcap\u001b[0m \u001b[1;33m=\u001b[0m \u001b[0mpd\u001b[0m\u001b[1;33m.\u001b[0m\u001b[0mread_csv\u001b[0m\u001b[1;33m(\u001b[0m\u001b[1;34m'concap.csv'\u001b[0m\u001b[1;33m)\u001b[0m\u001b[1;33m\u001b[0m\u001b[1;33m\u001b[0m\u001b[0m\n\u001b[0;32m      3\u001b[0m \u001b[0mdata18\u001b[0m \u001b[1;33m=\u001b[0m \u001b[0mpd\u001b[0m\u001b[1;33m.\u001b[0m\u001b[0mread_csv\u001b[0m\u001b[1;33m(\u001b[0m\u001b[1;34m\"INSEADGlobalinnovationIndex2018.csv\"\u001b[0m\u001b[1;33m)\u001b[0m\u001b[1;33m\u001b[0m\u001b[1;33m\u001b[0m\u001b[0m\n\u001b[0;32m      4\u001b[0m data_full = pd.merge(concap[['CountryName', 'CapitalName', 'CapitalLatitude', 'CapitalLongitude']],\\\n\u001b[0;32m      5\u001b[0m          data18,left_on='CountryName',right_on='Economy')\n",
      "\u001b[1;32m~\\anaconda3\\lib\\site-packages\\mpl_toolkits\\basemap\\__init__.py\u001b[0m in \u001b[0;36m<module>\u001b[1;34m\u001b[0m\n\u001b[0;32m    154\u001b[0m \u001b[1;31m# create dictionary that maps epsg codes to Basemap kwargs.\u001b[0m\u001b[1;33m\u001b[0m\u001b[1;33m\u001b[0m\u001b[1;33m\u001b[0m\u001b[0m\n\u001b[0;32m    155\u001b[0m \u001b[0mpyproj_datadir\u001b[0m \u001b[1;33m=\u001b[0m \u001b[0mos\u001b[0m\u001b[1;33m.\u001b[0m\u001b[0menviron\u001b[0m\u001b[1;33m[\u001b[0m\u001b[1;34m'PROJ_LIB'\u001b[0m\u001b[1;33m]\u001b[0m\u001b[1;33m\u001b[0m\u001b[1;33m\u001b[0m\u001b[0m\n\u001b[1;32m--> 156\u001b[1;33m \u001b[0mepsgf\u001b[0m \u001b[1;33m=\u001b[0m \u001b[0mopen\u001b[0m\u001b[1;33m(\u001b[0m\u001b[0mos\u001b[0m\u001b[1;33m.\u001b[0m\u001b[0mpath\u001b[0m\u001b[1;33m.\u001b[0m\u001b[0mjoin\u001b[0m\u001b[1;33m(\u001b[0m\u001b[0mpyproj_datadir\u001b[0m\u001b[1;33m,\u001b[0m\u001b[1;34m'epsg'\u001b[0m\u001b[1;33m)\u001b[0m\u001b[1;33m)\u001b[0m\u001b[1;33m\u001b[0m\u001b[1;33m\u001b[0m\u001b[0m\n\u001b[0m\u001b[0;32m    157\u001b[0m \u001b[0mepsg_dict\u001b[0m\u001b[1;33m=\u001b[0m\u001b[1;33m{\u001b[0m\u001b[1;33m}\u001b[0m\u001b[1;33m\u001b[0m\u001b[1;33m\u001b[0m\u001b[0m\n\u001b[0;32m    158\u001b[0m \u001b[1;32mfor\u001b[0m \u001b[0mline\u001b[0m \u001b[1;32min\u001b[0m \u001b[0mepsgf\u001b[0m\u001b[1;33m:\u001b[0m\u001b[1;33m\u001b[0m\u001b[1;33m\u001b[0m\u001b[0m\n",
      "\u001b[1;31mFileNotFoundError\u001b[0m: [Errno 2] No such file or directory: 'C:\\\\Users\\\\JAHNAVI DEVI\\\\anaconda3\\\\epsg'"
     ]
    }
   ],
   "source": [
    "from mpl_toolkits.basemap import Basemap\n",
    "concap = pd.read_csv('concap.csv')\n",
    "data18 = pd.read_csv(\"INSEADGlobalinnovationIndex2018.csv\")\n",
    "data_full = pd.merge(concap[['CountryName', 'CapitalName', 'CapitalLatitude', 'CapitalLongitude']],\\\n",
    "         data18,left_on='CountryName',right_on='Economy')\n",
    "def mapWorld():\n",
    "    m = Basemap(projection='mill',llcrnrlat=-60,urcrnrlat=70,\\\n",
    "            llcrnrlon=-110,urcrnrlon=180,resolution='c')\n",
    "    m.drawcoastlines()\n",
    "    m.drawcountries()\n",
    "    m.drawparallels(np.arange(-90,91.,30.))\n",
    "    m.drawmeridians(np.arange(-90,90.,60.))\n",
    "    lat = data_full['CapitalLatitude'].values\n",
    "    lon = data_full['CapitalLongitude'].values\n",
    "    a_1 = data_full['Score'].values\n",
    "    #a_2 = data_full['Economy (GDP per Capita)'].values\n",
    "    #300*a_2\n",
    "    m.scatter(lon, lat, latlon=True,c=a_1,s=500,linewidth=1,edgecolors='black',cmap='Reds', alpha=1)\n",
    "    \n",
    "    #m.fillcontinents(color='#FFFFFF',lake_color='#FFFFFF',alpha=0.3)\n",
    "    cbar = m.colorbar()\n",
    "    cbar.set_label('Global Innovation Score',fontsize=30)\n",
    "    #plt.clim(20000, 100000)\n",
    "    plt.title(\"Global Innovation Index (score)\", fontsize=30)\n",
    "    plt.show()\n",
    "plt.figure(figsize=(30,30))\n",
    "mapWorld()"
   ]
  },
  {
   "cell_type": "code",
   "execution_count": 24,
   "metadata": {},
   "outputs": [
    {
     "data": {
      "text/plain": [
       "Index(['year', 'ISO_code', 'countries', 'region', 'pf_rol_procedural',\n",
       "       'pf_rol_civil', 'pf_rol_criminal', 'pf_rol', 'pf_ss_homicide',\n",
       "       'pf_ss_disappearances_disap',\n",
       "       ...\n",
       "       'ef_regulation_business_bribes', 'ef_regulation_business_licensing',\n",
       "       'ef_regulation_business_compliance', 'ef_regulation_business',\n",
       "       'ef_regulation', 'ef_score', 'ef_rank', 'hf_score', 'hf_rank',\n",
       "       'hf_quartile'],\n",
       "      dtype='object', length=123)"
      ]
     },
     "execution_count": 24,
     "metadata": {},
     "output_type": "execute_result"
    }
   ],
   "source": [
    "data=pd.read_csv(\"hfi_cc_2018.csv\")\n",
    "data2=pd.read_csv(\"INSEADGlobalinnovationIndex2018.csv\")\n",
    "data.columns"
   ]
  },
  {
   "cell_type": "code",
   "execution_count": 25,
   "metadata": {},
   "outputs": [],
   "source": [
    "data=data.drop(data.iloc[:, 4:61].columns, axis = 1)"
   ]
  },
  {
   "cell_type": "code",
   "execution_count": 26,
   "metadata": {},
   "outputs": [
    {
     "data": {
      "text/plain": [
       "Index(['year', 'ISO_code', 'countries', 'region', 'pf_score', 'pf_rank',\n",
       "       'ef_government_consumption', 'ef_government_transfers',\n",
       "       'ef_government_enterprises', 'ef_government_tax_income',\n",
       "       'ef_government_tax_payroll', 'ef_government_tax', 'ef_government',\n",
       "       'ef_legal_judicial', 'ef_legal_courts', 'ef_legal_protection',\n",
       "       'ef_legal_military', 'ef_legal_integrity', 'ef_legal_enforcement',\n",
       "       'ef_legal_restrictions', 'ef_legal_police', 'ef_legal_crime',\n",
       "       'ef_legal_gender', 'ef_legal', 'ef_money_growth', 'ef_money_sd',\n",
       "       'ef_money_inflation', 'ef_money_currency', 'ef_money',\n",
       "       'ef_trade_tariffs_revenue', 'ef_trade_tariffs_mean',\n",
       "       'ef_trade_tariffs_sd', 'ef_trade_tariffs',\n",
       "       'ef_trade_regulatory_nontariff', 'ef_trade_regulatory_compliance',\n",
       "       'ef_trade_regulatory', 'ef_trade_black', 'ef_trade_movement_foreign',\n",
       "       'ef_trade_movement_capital', 'ef_trade_movement_visit',\n",
       "       'ef_trade_movement', 'ef_trade', 'ef_regulation_credit_ownership',\n",
       "       'ef_regulation_credit_private', 'ef_regulation_credit_interest',\n",
       "       'ef_regulation_credit', 'ef_regulation_labor_minwage',\n",
       "       'ef_regulation_labor_firing', 'ef_regulation_labor_bargain',\n",
       "       'ef_regulation_labor_hours', 'ef_regulation_labor_dismissal',\n",
       "       'ef_regulation_labor_conscription', 'ef_regulation_labor',\n",
       "       'ef_regulation_business_adm', 'ef_regulation_business_bureaucracy',\n",
       "       'ef_regulation_business_start', 'ef_regulation_business_bribes',\n",
       "       'ef_regulation_business_licensing', 'ef_regulation_business_compliance',\n",
       "       'ef_regulation_business', 'ef_regulation', 'ef_score', 'ef_rank',\n",
       "       'hf_score', 'hf_rank', 'hf_quartile'],\n",
       "      dtype='object')"
      ]
     },
     "execution_count": 26,
     "metadata": {},
     "output_type": "execute_result"
    }
   ],
   "source": [
    "data.columns"
   ]
  },
  {
   "cell_type": "code",
   "execution_count": 27,
   "metadata": {},
   "outputs": [],
   "source": [
    "data=data.drop(data.iloc[:, 6:61].columns, axis = 1)"
   ]
  },
  {
   "cell_type": "code",
   "execution_count": 28,
   "metadata": {},
   "outputs": [
    {
     "data": {
      "text/plain": [
       "Index(['year', 'ISO_code', 'countries', 'region', 'pf_score', 'pf_rank',\n",
       "       'ef_score', 'ef_rank', 'hf_score', 'hf_rank', 'hf_quartile'],\n",
       "      dtype='object')"
      ]
     },
     "execution_count": 28,
     "metadata": {},
     "output_type": "execute_result"
    }
   ],
   "source": [
    "data.columns"
   ]
  },
  {
   "cell_type": "code",
   "execution_count": 29,
   "metadata": {},
   "outputs": [
    {
     "data": {
      "text/plain": [
       "Index(['Rank', 'Economy', 'Income Group(Strength/Weakness)',\n",
       "       'Strength / Weakness', 'Value', 'Score'],\n",
       "      dtype='object')"
      ]
     },
     "execution_count": 29,
     "metadata": {},
     "output_type": "execute_result"
    }
   ],
   "source": [
    "data2.columns"
   ]
  },
  {
   "cell_type": "code",
   "execution_count": 30,
   "metadata": {},
   "outputs": [
    {
     "data": {
      "text/html": [
       "<div>\n",
       "<style scoped>\n",
       "    .dataframe tbody tr th:only-of-type {\n",
       "        vertical-align: middle;\n",
       "    }\n",
       "\n",
       "    .dataframe tbody tr th {\n",
       "        vertical-align: top;\n",
       "    }\n",
       "\n",
       "    .dataframe thead th {\n",
       "        text-align: right;\n",
       "    }\n",
       "</style>\n",
       "<table border=\"1\" class=\"dataframe\">\n",
       "  <thead>\n",
       "    <tr style=\"text-align: right;\">\n",
       "      <th></th>\n",
       "      <th>year</th>\n",
       "      <th>pf_score</th>\n",
       "      <th>pf_rank</th>\n",
       "      <th>ef_score</th>\n",
       "      <th>ef_rank</th>\n",
       "      <th>hf_score</th>\n",
       "      <th>hf_rank</th>\n",
       "      <th>hf_quartile</th>\n",
       "    </tr>\n",
       "  </thead>\n",
       "  <tbody>\n",
       "    <tr>\n",
       "      <th>count</th>\n",
       "      <td>1458.000000</td>\n",
       "      <td>1378.000000</td>\n",
       "      <td>1378.000000</td>\n",
       "      <td>1378.000000</td>\n",
       "      <td>1378.000000</td>\n",
       "      <td>1378.000000</td>\n",
       "      <td>1378.000000</td>\n",
       "      <td>1378.000000</td>\n",
       "    </tr>\n",
       "    <tr>\n",
       "      <th>mean</th>\n",
       "      <td>2012.000000</td>\n",
       "      <td>7.201278</td>\n",
       "      <td>77.221335</td>\n",
       "      <td>6.785610</td>\n",
       "      <td>76.973149</td>\n",
       "      <td>6.993444</td>\n",
       "      <td>77.007983</td>\n",
       "      <td>2.490566</td>\n",
       "    </tr>\n",
       "    <tr>\n",
       "      <th>std</th>\n",
       "      <td>2.582875</td>\n",
       "      <td>1.374947</td>\n",
       "      <td>44.494004</td>\n",
       "      <td>0.883601</td>\n",
       "      <td>44.540142</td>\n",
       "      <td>1.025811</td>\n",
       "      <td>44.506549</td>\n",
       "      <td>1.119698</td>\n",
       "    </tr>\n",
       "    <tr>\n",
       "      <th>min</th>\n",
       "      <td>2008.000000</td>\n",
       "      <td>2.166555</td>\n",
       "      <td>1.000000</td>\n",
       "      <td>2.880000</td>\n",
       "      <td>1.000000</td>\n",
       "      <td>3.765827</td>\n",
       "      <td>1.000000</td>\n",
       "      <td>1.000000</td>\n",
       "    </tr>\n",
       "    <tr>\n",
       "      <th>25%</th>\n",
       "      <td>2010.000000</td>\n",
       "      <td>6.197388</td>\n",
       "      <td>39.000000</td>\n",
       "      <td>6.250000</td>\n",
       "      <td>38.000000</td>\n",
       "      <td>6.336685</td>\n",
       "      <td>39.000000</td>\n",
       "      <td>1.000000</td>\n",
       "    </tr>\n",
       "    <tr>\n",
       "      <th>50%</th>\n",
       "      <td>2012.000000</td>\n",
       "      <td>7.189009</td>\n",
       "      <td>77.000000</td>\n",
       "      <td>6.900000</td>\n",
       "      <td>77.000000</td>\n",
       "      <td>6.923840</td>\n",
       "      <td>76.000000</td>\n",
       "      <td>2.000000</td>\n",
       "    </tr>\n",
       "    <tr>\n",
       "      <th>75%</th>\n",
       "      <td>2014.000000</td>\n",
       "      <td>8.449475</td>\n",
       "      <td>115.000000</td>\n",
       "      <td>7.410000</td>\n",
       "      <td>115.000000</td>\n",
       "      <td>7.894660</td>\n",
       "      <td>115.000000</td>\n",
       "      <td>3.000000</td>\n",
       "    </tr>\n",
       "    <tr>\n",
       "      <th>max</th>\n",
       "      <td>2016.000000</td>\n",
       "      <td>9.568154</td>\n",
       "      <td>162.000000</td>\n",
       "      <td>9.190000</td>\n",
       "      <td>162.000000</td>\n",
       "      <td>9.126313</td>\n",
       "      <td>162.000000</td>\n",
       "      <td>4.000000</td>\n",
       "    </tr>\n",
       "  </tbody>\n",
       "</table>\n",
       "</div>"
      ],
      "text/plain": [
       "              year     pf_score      pf_rank     ef_score      ef_rank  \\\n",
       "count  1458.000000  1378.000000  1378.000000  1378.000000  1378.000000   \n",
       "mean   2012.000000     7.201278    77.221335     6.785610    76.973149   \n",
       "std       2.582875     1.374947    44.494004     0.883601    44.540142   \n",
       "min    2008.000000     2.166555     1.000000     2.880000     1.000000   \n",
       "25%    2010.000000     6.197388    39.000000     6.250000    38.000000   \n",
       "50%    2012.000000     7.189009    77.000000     6.900000    77.000000   \n",
       "75%    2014.000000     8.449475   115.000000     7.410000   115.000000   \n",
       "max    2016.000000     9.568154   162.000000     9.190000   162.000000   \n",
       "\n",
       "          hf_score      hf_rank  hf_quartile  \n",
       "count  1378.000000  1378.000000  1378.000000  \n",
       "mean      6.993444    77.007983     2.490566  \n",
       "std       1.025811    44.506549     1.119698  \n",
       "min       3.765827     1.000000     1.000000  \n",
       "25%       6.336685    39.000000     1.000000  \n",
       "50%       6.923840    76.000000     2.000000  \n",
       "75%       7.894660   115.000000     3.000000  \n",
       "max       9.126313   162.000000     4.000000  "
      ]
     },
     "execution_count": 30,
     "metadata": {},
     "output_type": "execute_result"
    }
   ],
   "source": [
    "data.describe()"
   ]
  },
  {
   "cell_type": "code",
   "execution_count": 31,
   "metadata": {},
   "outputs": [
    {
     "data": {
      "text/html": [
       "<div>\n",
       "<style scoped>\n",
       "    .dataframe tbody tr th:only-of-type {\n",
       "        vertical-align: middle;\n",
       "    }\n",
       "\n",
       "    .dataframe tbody tr th {\n",
       "        vertical-align: top;\n",
       "    }\n",
       "\n",
       "    .dataframe thead th {\n",
       "        text-align: right;\n",
       "    }\n",
       "</style>\n",
       "<table border=\"1\" class=\"dataframe\">\n",
       "  <thead>\n",
       "    <tr style=\"text-align: right;\">\n",
       "      <th></th>\n",
       "      <th>Rank</th>\n",
       "      <th>Score</th>\n",
       "    </tr>\n",
       "  </thead>\n",
       "  <tbody>\n",
       "    <tr>\n",
       "      <th>count</th>\n",
       "      <td>126.000000</td>\n",
       "      <td>126.000000</td>\n",
       "    </tr>\n",
       "    <tr>\n",
       "      <th>mean</th>\n",
       "      <td>63.500000</td>\n",
       "      <td>36.672222</td>\n",
       "    </tr>\n",
       "    <tr>\n",
       "      <th>std</th>\n",
       "      <td>36.517119</td>\n",
       "      <td>12.126959</td>\n",
       "    </tr>\n",
       "    <tr>\n",
       "      <th>min</th>\n",
       "      <td>1.000000</td>\n",
       "      <td>15.000000</td>\n",
       "    </tr>\n",
       "    <tr>\n",
       "      <th>25%</th>\n",
       "      <td>32.250000</td>\n",
       "      <td>27.300000</td>\n",
       "    </tr>\n",
       "    <tr>\n",
       "      <th>50%</th>\n",
       "      <td>63.500000</td>\n",
       "      <td>33.600000</td>\n",
       "    </tr>\n",
       "    <tr>\n",
       "      <th>75%</th>\n",
       "      <td>94.750000</td>\n",
       "      <td>45.500000</td>\n",
       "    </tr>\n",
       "    <tr>\n",
       "      <th>max</th>\n",
       "      <td>126.000000</td>\n",
       "      <td>68.400000</td>\n",
       "    </tr>\n",
       "  </tbody>\n",
       "</table>\n",
       "</div>"
      ],
      "text/plain": [
       "             Rank       Score\n",
       "count  126.000000  126.000000\n",
       "mean    63.500000   36.672222\n",
       "std     36.517119   12.126959\n",
       "min      1.000000   15.000000\n",
       "25%     32.250000   27.300000\n",
       "50%     63.500000   33.600000\n",
       "75%     94.750000   45.500000\n",
       "max    126.000000   68.400000"
      ]
     },
     "execution_count": 31,
     "metadata": {},
     "output_type": "execute_result"
    }
   ],
   "source": [
    "data2.describe()"
   ]
  },
  {
   "cell_type": "code",
   "execution_count": 32,
   "metadata": {},
   "outputs": [
    {
     "data": {
      "text/plain": [
       "Rank                                 int64\n",
       "Economy                             object\n",
       "Income Group(Strength/Weakness)     object\n",
       "Strength / Weakness                 object\n",
       "Value                               object\n",
       "Score                              float64\n",
       "dtype: object"
      ]
     },
     "execution_count": 32,
     "metadata": {},
     "output_type": "execute_result"
    }
   ],
   "source": [
    "data2.dtypes"
   ]
  },
  {
   "cell_type": "code",
   "execution_count": 33,
   "metadata": {},
   "outputs": [
    {
     "data": {
      "text/plain": [
       "Rank                                 0\n",
       "Economy                              0\n",
       "Income Group(Strength/Weakness)     88\n",
       "Strength / Weakness                116\n",
       "Value                                0\n",
       "Score                                0\n",
       "dtype: int64"
      ]
     },
     "execution_count": 33,
     "metadata": {},
     "output_type": "execute_result"
    }
   ],
   "source": [
    "data2.apply(lambda x: sum(x.isnull()),axis=0)"
   ]
  },
  {
   "cell_type": "code",
   "execution_count": 34,
   "metadata": {},
   "outputs": [],
   "source": [
    "data2.fillna(\"Weakness\",inplace=True)"
   ]
  },
  {
   "cell_type": "code",
   "execution_count": 35,
   "metadata": {},
   "outputs": [
    {
     "data": {
      "text/html": [
       "<div>\n",
       "<style scoped>\n",
       "    .dataframe tbody tr th:only-of-type {\n",
       "        vertical-align: middle;\n",
       "    }\n",
       "\n",
       "    .dataframe tbody tr th {\n",
       "        vertical-align: top;\n",
       "    }\n",
       "\n",
       "    .dataframe thead th {\n",
       "        text-align: right;\n",
       "    }\n",
       "</style>\n",
       "<table border=\"1\" class=\"dataframe\">\n",
       "  <thead>\n",
       "    <tr style=\"text-align: right;\">\n",
       "      <th></th>\n",
       "      <th>Rank</th>\n",
       "      <th>Economy</th>\n",
       "      <th>Income Group(Strength/Weakness)</th>\n",
       "      <th>Strength / Weakness</th>\n",
       "      <th>Value</th>\n",
       "      <th>Score</th>\n",
       "    </tr>\n",
       "  </thead>\n",
       "  <tbody>\n",
       "    <tr>\n",
       "      <th>0</th>\n",
       "      <td>1</td>\n",
       "      <td>Switzerland</td>\n",
       "      <td>Strength</td>\n",
       "      <td>Strength</td>\n",
       "      <td>-</td>\n",
       "      <td>68.4</td>\n",
       "    </tr>\n",
       "    <tr>\n",
       "      <th>1</th>\n",
       "      <td>2</td>\n",
       "      <td>Netherlands</td>\n",
       "      <td>Strength</td>\n",
       "      <td>Strength</td>\n",
       "      <td>-</td>\n",
       "      <td>63.3</td>\n",
       "    </tr>\n",
       "    <tr>\n",
       "      <th>2</th>\n",
       "      <td>3</td>\n",
       "      <td>Sweden</td>\n",
       "      <td>Strength</td>\n",
       "      <td>Strength</td>\n",
       "      <td>-</td>\n",
       "      <td>63.1</td>\n",
       "    </tr>\n",
       "    <tr>\n",
       "      <th>3</th>\n",
       "      <td>4</td>\n",
       "      <td>United Kingdom</td>\n",
       "      <td>Weakness</td>\n",
       "      <td>Strength</td>\n",
       "      <td>-</td>\n",
       "      <td>60.1</td>\n",
       "    </tr>\n",
       "    <tr>\n",
       "      <th>4</th>\n",
       "      <td>5</td>\n",
       "      <td>Singapore</td>\n",
       "      <td>Weakness</td>\n",
       "      <td>Weakness</td>\n",
       "      <td>-</td>\n",
       "      <td>59.8</td>\n",
       "    </tr>\n",
       "    <tr>\n",
       "      <th>...</th>\n",
       "      <td>...</td>\n",
       "      <td>...</td>\n",
       "      <td>...</td>\n",
       "      <td>...</td>\n",
       "      <td>...</td>\n",
       "      <td>...</td>\n",
       "    </tr>\n",
       "    <tr>\n",
       "      <th>121</th>\n",
       "      <td>122</td>\n",
       "      <td>Niger</td>\n",
       "      <td>Weakness</td>\n",
       "      <td>Weakness</td>\n",
       "      <td>-</td>\n",
       "      <td>20.6</td>\n",
       "    </tr>\n",
       "    <tr>\n",
       "      <th>122</th>\n",
       "      <td>123</td>\n",
       "      <td>Côte d'Ivoire</td>\n",
       "      <td>Weakness</td>\n",
       "      <td>Weakness</td>\n",
       "      <td>-</td>\n",
       "      <td>20.0</td>\n",
       "    </tr>\n",
       "    <tr>\n",
       "      <th>123</th>\n",
       "      <td>124</td>\n",
       "      <td>Burkina Faso</td>\n",
       "      <td>Weakness</td>\n",
       "      <td>Weakness</td>\n",
       "      <td>-</td>\n",
       "      <td>18.9</td>\n",
       "    </tr>\n",
       "    <tr>\n",
       "      <th>124</th>\n",
       "      <td>125</td>\n",
       "      <td>Togo</td>\n",
       "      <td>Weakness</td>\n",
       "      <td>Weakness</td>\n",
       "      <td>-</td>\n",
       "      <td>18.9</td>\n",
       "    </tr>\n",
       "    <tr>\n",
       "      <th>125</th>\n",
       "      <td>126</td>\n",
       "      <td>Yemen</td>\n",
       "      <td>Weakness</td>\n",
       "      <td>Weakness</td>\n",
       "      <td>-</td>\n",
       "      <td>15.0</td>\n",
       "    </tr>\n",
       "  </tbody>\n",
       "</table>\n",
       "<p>126 rows × 6 columns</p>\n",
       "</div>"
      ],
      "text/plain": [
       "     Rank         Economy Income Group(Strength/Weakness) Strength / Weakness  \\\n",
       "0       1     Switzerland                        Strength            Strength   \n",
       "1       2     Netherlands                        Strength            Strength   \n",
       "2       3          Sweden                        Strength            Strength   \n",
       "3       4  United Kingdom                        Weakness            Strength   \n",
       "4       5       Singapore                        Weakness            Weakness   \n",
       "..    ...             ...                             ...                 ...   \n",
       "121   122           Niger                        Weakness            Weakness   \n",
       "122   123   Côte d'Ivoire                        Weakness            Weakness   \n",
       "123   124    Burkina Faso                        Weakness            Weakness   \n",
       "124   125            Togo                        Weakness            Weakness   \n",
       "125   126           Yemen                        Weakness            Weakness   \n",
       "\n",
       "    Value  Score  \n",
       "0       -   68.4  \n",
       "1       -   63.3  \n",
       "2       -   63.1  \n",
       "3       -   60.1  \n",
       "4       -   59.8  \n",
       "..    ...    ...  \n",
       "121     -   20.6  \n",
       "122     -   20.0  \n",
       "123     -   18.9  \n",
       "124     -   18.9  \n",
       "125     -   15.0  \n",
       "\n",
       "[126 rows x 6 columns]"
      ]
     },
     "execution_count": 35,
     "metadata": {},
     "output_type": "execute_result"
    }
   ],
   "source": [
    "data2"
   ]
  },
  {
   "cell_type": "code",
   "execution_count": 36,
   "metadata": {},
   "outputs": [
    {
     "data": {
      "text/plain": [
       "Rank                               0\n",
       "Economy                            0\n",
       "Income Group(Strength/Weakness)    0\n",
       "Strength / Weakness                0\n",
       "Value                              0\n",
       "Score                              0\n",
       "dtype: int64"
      ]
     },
     "execution_count": 36,
     "metadata": {},
     "output_type": "execute_result"
    }
   ],
   "source": [
    "data2.apply(lambda x: sum(x.isnull()),axis=0)"
   ]
  },
  {
   "cell_type": "markdown",
   "metadata": {},
   "source": [
    "# Label Encoding"
   ]
  },
  {
   "cell_type": "code",
   "execution_count": 37,
   "metadata": {},
   "outputs": [],
   "source": [
    "from sklearn.preprocessing import LabelEncoder\n",
    "labelencoder_y=LabelEncoder()\n",
    "data2['Income Group(Strength/Weakness)']=labelencoder_y.fit_transform(data2['Income Group(Strength/Weakness)'])"
   ]
  },
  {
   "cell_type": "code",
   "execution_count": 38,
   "metadata": {},
   "outputs": [],
   "source": [
    "from sklearn.preprocessing import LabelEncoder\n",
    "labelencoder_y=LabelEncoder()\n",
    "data2['Strength / Weakness']=labelencoder_y.fit_transform(data2['Strength / Weakness'])"
   ]
  },
  {
   "cell_type": "code",
   "execution_count": 39,
   "metadata": {},
   "outputs": [],
   "source": [
    "from sklearn.preprocessing import LabelEncoder\n",
    "labelencoder_y=LabelEncoder()\n",
    "data2['Economy']=labelencoder_y.fit_transform(data2['Economy'])"
   ]
  },
  {
   "cell_type": "code",
   "execution_count": 40,
   "metadata": {},
   "outputs": [
    {
     "data": {
      "text/html": [
       "<div>\n",
       "<style scoped>\n",
       "    .dataframe tbody tr th:only-of-type {\n",
       "        vertical-align: middle;\n",
       "    }\n",
       "\n",
       "    .dataframe tbody tr th {\n",
       "        vertical-align: top;\n",
       "    }\n",
       "\n",
       "    .dataframe thead th {\n",
       "        text-align: right;\n",
       "    }\n",
       "</style>\n",
       "<table border=\"1\" class=\"dataframe\">\n",
       "  <thead>\n",
       "    <tr style=\"text-align: right;\">\n",
       "      <th></th>\n",
       "      <th>Rank</th>\n",
       "      <th>Economy</th>\n",
       "      <th>Income Group(Strength/Weakness)</th>\n",
       "      <th>Strength / Weakness</th>\n",
       "      <th>Value</th>\n",
       "      <th>Score</th>\n",
       "    </tr>\n",
       "  </thead>\n",
       "  <tbody>\n",
       "    <tr>\n",
       "      <th>0</th>\n",
       "      <td>1</td>\n",
       "      <td>107</td>\n",
       "      <td>0</td>\n",
       "      <td>0</td>\n",
       "      <td>-</td>\n",
       "      <td>68.4</td>\n",
       "    </tr>\n",
       "    <tr>\n",
       "      <th>1</th>\n",
       "      <td>2</td>\n",
       "      <td>80</td>\n",
       "      <td>0</td>\n",
       "      <td>0</td>\n",
       "      <td>-</td>\n",
       "      <td>63.3</td>\n",
       "    </tr>\n",
       "    <tr>\n",
       "      <th>2</th>\n",
       "      <td>3</td>\n",
       "      <td>106</td>\n",
       "      <td>0</td>\n",
       "      <td>0</td>\n",
       "      <td>-</td>\n",
       "      <td>63.1</td>\n",
       "    </tr>\n",
       "    <tr>\n",
       "      <th>3</th>\n",
       "      <td>4</td>\n",
       "      <td>119</td>\n",
       "      <td>1</td>\n",
       "      <td>0</td>\n",
       "      <td>-</td>\n",
       "      <td>60.1</td>\n",
       "    </tr>\n",
       "    <tr>\n",
       "      <th>4</th>\n",
       "      <td>5</td>\n",
       "      <td>100</td>\n",
       "      <td>1</td>\n",
       "      <td>1</td>\n",
       "      <td>-</td>\n",
       "      <td>59.8</td>\n",
       "    </tr>\n",
       "    <tr>\n",
       "      <th>5</th>\n",
       "      <td>6</td>\n",
       "      <td>120</td>\n",
       "      <td>1</td>\n",
       "      <td>1</td>\n",
       "      <td>-</td>\n",
       "      <td>59.8</td>\n",
       "    </tr>\n",
       "    <tr>\n",
       "      <th>6</th>\n",
       "      <td>7</td>\n",
       "      <td>36</td>\n",
       "      <td>1</td>\n",
       "      <td>1</td>\n",
       "      <td>-</td>\n",
       "      <td>59.6</td>\n",
       "    </tr>\n",
       "    <tr>\n",
       "      <th>7</th>\n",
       "      <td>8</td>\n",
       "      <td>30</td>\n",
       "      <td>1</td>\n",
       "      <td>1</td>\n",
       "      <td>-</td>\n",
       "      <td>58.4</td>\n",
       "    </tr>\n",
       "    <tr>\n",
       "      <th>8</th>\n",
       "      <td>9</td>\n",
       "      <td>39</td>\n",
       "      <td>1</td>\n",
       "      <td>1</td>\n",
       "      <td>-</td>\n",
       "      <td>58.0</td>\n",
       "    </tr>\n",
       "    <tr>\n",
       "      <th>9</th>\n",
       "      <td>10</td>\n",
       "      <td>51</td>\n",
       "      <td>1</td>\n",
       "      <td>1</td>\n",
       "      <td>-</td>\n",
       "      <td>57.2</td>\n",
       "    </tr>\n",
       "  </tbody>\n",
       "</table>\n",
       "</div>"
      ],
      "text/plain": [
       "   Rank  Economy  Income Group(Strength/Weakness)  Strength / Weakness Value  \\\n",
       "0     1      107                                0                    0     -   \n",
       "1     2       80                                0                    0     -   \n",
       "2     3      106                                0                    0     -   \n",
       "3     4      119                                1                    0     -   \n",
       "4     5      100                                1                    1     -   \n",
       "5     6      120                                1                    1     -   \n",
       "6     7       36                                1                    1     -   \n",
       "7     8       30                                1                    1     -   \n",
       "8     9       39                                1                    1     -   \n",
       "9    10       51                                1                    1     -   \n",
       "\n",
       "   Score  \n",
       "0   68.4  \n",
       "1   63.3  \n",
       "2   63.1  \n",
       "3   60.1  \n",
       "4   59.8  \n",
       "5   59.8  \n",
       "6   59.6  \n",
       "7   58.4  \n",
       "8   58.0  \n",
       "9   57.2  "
      ]
     },
     "execution_count": 40,
     "metadata": {},
     "output_type": "execute_result"
    }
   ],
   "source": [
    "data2.head(10)"
   ]
  },
  {
   "cell_type": "code",
   "execution_count": 41,
   "metadata": {},
   "outputs": [
    {
     "data": {
      "text/html": [
       "<div>\n",
       "<style scoped>\n",
       "    .dataframe tbody tr th:only-of-type {\n",
       "        vertical-align: middle;\n",
       "    }\n",
       "\n",
       "    .dataframe tbody tr th {\n",
       "        vertical-align: top;\n",
       "    }\n",
       "\n",
       "    .dataframe thead th {\n",
       "        text-align: right;\n",
       "    }\n",
       "</style>\n",
       "<table border=\"1\" class=\"dataframe\">\n",
       "  <thead>\n",
       "    <tr style=\"text-align: right;\">\n",
       "      <th></th>\n",
       "      <th>Rank</th>\n",
       "      <th>Economy</th>\n",
       "      <th>Income Group(Strength/Weakness)</th>\n",
       "      <th>Strength / Weakness</th>\n",
       "      <th>Score</th>\n",
       "    </tr>\n",
       "  </thead>\n",
       "  <tbody>\n",
       "    <tr>\n",
       "      <th>0</th>\n",
       "      <td>1</td>\n",
       "      <td>107</td>\n",
       "      <td>0</td>\n",
       "      <td>0</td>\n",
       "      <td>68.4</td>\n",
       "    </tr>\n",
       "    <tr>\n",
       "      <th>1</th>\n",
       "      <td>2</td>\n",
       "      <td>80</td>\n",
       "      <td>0</td>\n",
       "      <td>0</td>\n",
       "      <td>63.3</td>\n",
       "    </tr>\n",
       "    <tr>\n",
       "      <th>2</th>\n",
       "      <td>3</td>\n",
       "      <td>106</td>\n",
       "      <td>0</td>\n",
       "      <td>0</td>\n",
       "      <td>63.1</td>\n",
       "    </tr>\n",
       "    <tr>\n",
       "      <th>3</th>\n",
       "      <td>4</td>\n",
       "      <td>119</td>\n",
       "      <td>1</td>\n",
       "      <td>0</td>\n",
       "      <td>60.1</td>\n",
       "    </tr>\n",
       "    <tr>\n",
       "      <th>4</th>\n",
       "      <td>5</td>\n",
       "      <td>100</td>\n",
       "      <td>1</td>\n",
       "      <td>1</td>\n",
       "      <td>59.8</td>\n",
       "    </tr>\n",
       "    <tr>\n",
       "      <th>...</th>\n",
       "      <td>...</td>\n",
       "      <td>...</td>\n",
       "      <td>...</td>\n",
       "      <td>...</td>\n",
       "      <td>...</td>\n",
       "    </tr>\n",
       "    <tr>\n",
       "      <th>121</th>\n",
       "      <td>122</td>\n",
       "      <td>82</td>\n",
       "      <td>1</td>\n",
       "      <td>1</td>\n",
       "      <td>20.6</td>\n",
       "    </tr>\n",
       "    <tr>\n",
       "      <th>122</th>\n",
       "      <td>123</td>\n",
       "      <td>29</td>\n",
       "      <td>1</td>\n",
       "      <td>1</td>\n",
       "      <td>20.0</td>\n",
       "    </tr>\n",
       "    <tr>\n",
       "      <th>123</th>\n",
       "      <td>124</td>\n",
       "      <td>18</td>\n",
       "      <td>1</td>\n",
       "      <td>1</td>\n",
       "      <td>18.9</td>\n",
       "    </tr>\n",
       "    <tr>\n",
       "      <th>124</th>\n",
       "      <td>125</td>\n",
       "      <td>112</td>\n",
       "      <td>1</td>\n",
       "      <td>1</td>\n",
       "      <td>18.9</td>\n",
       "    </tr>\n",
       "    <tr>\n",
       "      <th>125</th>\n",
       "      <td>126</td>\n",
       "      <td>123</td>\n",
       "      <td>1</td>\n",
       "      <td>1</td>\n",
       "      <td>15.0</td>\n",
       "    </tr>\n",
       "  </tbody>\n",
       "</table>\n",
       "<p>126 rows × 5 columns</p>\n",
       "</div>"
      ],
      "text/plain": [
       "     Rank  Economy  Income Group(Strength/Weakness)  Strength / Weakness  \\\n",
       "0       1      107                                0                    0   \n",
       "1       2       80                                0                    0   \n",
       "2       3      106                                0                    0   \n",
       "3       4      119                                1                    0   \n",
       "4       5      100                                1                    1   \n",
       "..    ...      ...                              ...                  ...   \n",
       "121   122       82                                1                    1   \n",
       "122   123       29                                1                    1   \n",
       "123   124       18                                1                    1   \n",
       "124   125      112                                1                    1   \n",
       "125   126      123                                1                    1   \n",
       "\n",
       "     Score  \n",
       "0     68.4  \n",
       "1     63.3  \n",
       "2     63.1  \n",
       "3     60.1  \n",
       "4     59.8  \n",
       "..     ...  \n",
       "121   20.6  \n",
       "122   20.0  \n",
       "123   18.9  \n",
       "124   18.9  \n",
       "125   15.0  \n",
       "\n",
       "[126 rows x 5 columns]"
      ]
     },
     "execution_count": 41,
     "metadata": {},
     "output_type": "execute_result"
    }
   ],
   "source": [
    "data2=data2.drop(['Value'], axis = 1)\n",
    "data2"
   ]
  },
  {
   "cell_type": "code",
   "execution_count": 42,
   "metadata": {},
   "outputs": [],
   "source": [
    "x1 = data2.drop(['Score'],axis=1)\n",
    "y1 = data2['Score']"
   ]
  },
  {
   "cell_type": "code",
   "execution_count": 43,
   "metadata": {},
   "outputs": [
    {
     "data": {
      "text/html": [
       "<table class=\"simpletable\">\n",
       "<caption>OLS Regression Results</caption>\n",
       "<tr>\n",
       "  <th>Dep. Variable:</th>          <td>Score</td>      <th>  R-squared (uncentered):</th>      <td>   0.927</td>\n",
       "</tr>\n",
       "<tr>\n",
       "  <th>Model:</th>                   <td>OLS</td>       <th>  Adj. R-squared (uncentered):</th> <td>   0.924</td>\n",
       "</tr>\n",
       "<tr>\n",
       "  <th>Method:</th>             <td>Least Squares</td>  <th>  F-statistic:       </th>          <td>   386.6</td>\n",
       "</tr>\n",
       "<tr>\n",
       "  <th>Date:</th>             <td>Tue, 19 May 2020</td> <th>  Prob (F-statistic):</th>          <td>2.94e-68</td>\n",
       "</tr>\n",
       "<tr>\n",
       "  <th>Time:</th>                 <td>15:51:02</td>     <th>  Log-Likelihood:    </th>          <td> -474.35</td>\n",
       "</tr>\n",
       "<tr>\n",
       "  <th>No. Observations:</th>      <td>   126</td>      <th>  AIC:               </th>          <td>   956.7</td>\n",
       "</tr>\n",
       "<tr>\n",
       "  <th>Df Residuals:</th>          <td>   122</td>      <th>  BIC:               </th>          <td>   968.0</td>\n",
       "</tr>\n",
       "<tr>\n",
       "  <th>Df Model:</th>              <td>     4</td>      <th>                     </th>              <td> </td>   \n",
       "</tr>\n",
       "<tr>\n",
       "  <th>Covariance Type:</th>      <td>nonrobust</td>    <th>                     </th>              <td> </td>   \n",
       "</tr>\n",
       "</table>\n",
       "<table class=\"simpletable\">\n",
       "<tr>\n",
       "                 <td></td>                    <th>coef</th>     <th>std err</th>      <th>t</th>      <th>P>|t|</th>  <th>[0.025</th>    <th>0.975]</th>  \n",
       "</tr>\n",
       "<tr>\n",
       "  <th>Rank</th>                            <td>   -0.3145</td> <td>    0.027</td> <td>  -11.504</td> <td> 0.000</td> <td>   -0.369</td> <td>   -0.260</td>\n",
       "</tr>\n",
       "<tr>\n",
       "  <th>Economy</th>                         <td>    0.1230</td> <td>    0.024</td> <td>    5.210</td> <td> 0.000</td> <td>    0.076</td> <td>    0.170</td>\n",
       "</tr>\n",
       "<tr>\n",
       "  <th>Income Group(Strength/Weakness)</th> <td>    7.7559</td> <td>    3.093</td> <td>    2.508</td> <td> 0.013</td> <td>    1.633</td> <td>   13.879</td>\n",
       "</tr>\n",
       "<tr>\n",
       "  <th>Strength / Weakness</th>             <td>   41.8691</td> <td>    3.661</td> <td>   11.435</td> <td> 0.000</td> <td>   34.621</td> <td>   49.117</td>\n",
       "</tr>\n",
       "</table>\n",
       "<table class=\"simpletable\">\n",
       "<tr>\n",
       "  <th>Omnibus:</th>       <td>115.844</td> <th>  Durbin-Watson:     </th> <td>   0.571</td> \n",
       "</tr>\n",
       "<tr>\n",
       "  <th>Prob(Omnibus):</th> <td> 0.000</td>  <th>  Jarque-Bera (JB):  </th> <td>1254.088</td> \n",
       "</tr>\n",
       "<tr>\n",
       "  <th>Skew:</th>          <td> 3.269</td>  <th>  Prob(JB):          </th> <td>4.77e-273</td>\n",
       "</tr>\n",
       "<tr>\n",
       "  <th>Kurtosis:</th>      <td>17.004</td>  <th>  Cond. No.          </th> <td>    455.</td> \n",
       "</tr>\n",
       "</table><br/><br/>Warnings:<br/>[1] Standard Errors assume that the covariance matrix of the errors is correctly specified."
      ],
      "text/plain": [
       "<class 'statsmodels.iolib.summary.Summary'>\n",
       "\"\"\"\n",
       "                                 OLS Regression Results                                \n",
       "=======================================================================================\n",
       "Dep. Variable:                  Score   R-squared (uncentered):                   0.927\n",
       "Model:                            OLS   Adj. R-squared (uncentered):              0.924\n",
       "Method:                 Least Squares   F-statistic:                              386.6\n",
       "Date:                Tue, 19 May 2020   Prob (F-statistic):                    2.94e-68\n",
       "Time:                        15:51:02   Log-Likelihood:                         -474.35\n",
       "No. Observations:                 126   AIC:                                      956.7\n",
       "Df Residuals:                     122   BIC:                                      968.0\n",
       "Df Model:                           4                                                  \n",
       "Covariance Type:            nonrobust                                                  \n",
       "===================================================================================================\n",
       "                                      coef    std err          t      P>|t|      [0.025      0.975]\n",
       "---------------------------------------------------------------------------------------------------\n",
       "Rank                               -0.3145      0.027    -11.504      0.000      -0.369      -0.260\n",
       "Economy                             0.1230      0.024      5.210      0.000       0.076       0.170\n",
       "Income Group(Strength/Weakness)     7.7559      3.093      2.508      0.013       1.633      13.879\n",
       "Strength / Weakness                41.8691      3.661     11.435      0.000      34.621      49.117\n",
       "==============================================================================\n",
       "Omnibus:                      115.844   Durbin-Watson:                   0.571\n",
       "Prob(Omnibus):                  0.000   Jarque-Bera (JB):             1254.088\n",
       "Skew:                           3.269   Prob(JB):                    4.77e-273\n",
       "Kurtosis:                      17.004   Cond. No.                         455.\n",
       "==============================================================================\n",
       "\n",
       "Warnings:\n",
       "[1] Standard Errors assume that the covariance matrix of the errors is correctly specified.\n",
       "\"\"\""
      ]
     },
     "execution_count": 43,
     "metadata": {},
     "output_type": "execute_result"
    }
   ],
   "source": [
    "import statsmodels.api as sm\n",
    "model1 = sm.OLS(y1,x1).fit()\n",
    "predictions = model1.predict(x1)\n",
    "model1.summary()"
   ]
  },
  {
   "cell_type": "markdown",
   "metadata": {},
   "source": [
    "# Splitting the dataset into Train set and Testing set"
   ]
  },
  {
   "cell_type": "code",
   "execution_count": 44,
   "metadata": {},
   "outputs": [],
   "source": [
    "from sklearn.model_selection import train_test_split\n",
    "x_train,x_test,y_train,y_test=train_test_split(x1,y1,test_size=0.2,random_state=0)"
   ]
  },
  {
   "cell_type": "code",
   "execution_count": 45,
   "metadata": {},
   "outputs": [
    {
     "data": {
      "text/html": [
       "<div>\n",
       "<style scoped>\n",
       "    .dataframe tbody tr th:only-of-type {\n",
       "        vertical-align: middle;\n",
       "    }\n",
       "\n",
       "    .dataframe tbody tr th {\n",
       "        vertical-align: top;\n",
       "    }\n",
       "\n",
       "    .dataframe thead th {\n",
       "        text-align: right;\n",
       "    }\n",
       "</style>\n",
       "<table border=\"1\" class=\"dataframe\">\n",
       "  <thead>\n",
       "    <tr style=\"text-align: right;\">\n",
       "      <th></th>\n",
       "      <th>Rank</th>\n",
       "      <th>Economy</th>\n",
       "      <th>Income Group(Strength/Weakness)</th>\n",
       "      <th>Strength / Weakness</th>\n",
       "    </tr>\n",
       "  </thead>\n",
       "  <tbody>\n",
       "    <tr>\n",
       "      <th>116</th>\n",
       "      <td>117</td>\n",
       "      <td>12</td>\n",
       "      <td>1</td>\n",
       "      <td>1</td>\n",
       "    </tr>\n",
       "    <tr>\n",
       "      <th>13</th>\n",
       "      <td>14</td>\n",
       "      <td>45</td>\n",
       "      <td>1</td>\n",
       "      <td>1</td>\n",
       "    </tr>\n",
       "    <tr>\n",
       "      <th>33</th>\n",
       "      <td>34</td>\n",
       "      <td>62</td>\n",
       "      <td>1</td>\n",
       "      <td>1</td>\n",
       "    </tr>\n",
       "    <tr>\n",
       "      <th>75</th>\n",
       "      <td>76</td>\n",
       "      <td>76</td>\n",
       "      <td>1</td>\n",
       "      <td>1</td>\n",
       "    </tr>\n",
       "    <tr>\n",
       "      <th>26</th>\n",
       "      <td>27</td>\n",
       "      <td>28</td>\n",
       "      <td>1</td>\n",
       "      <td>1</td>\n",
       "    </tr>\n",
       "    <tr>\n",
       "      <th>...</th>\n",
       "      <td>...</td>\n",
       "      <td>...</td>\n",
       "      <td>...</td>\n",
       "      <td>...</td>\n",
       "    </tr>\n",
       "    <tr>\n",
       "      <th>67</th>\n",
       "      <td>68</td>\n",
       "      <td>3</td>\n",
       "      <td>1</td>\n",
       "      <td>1</td>\n",
       "    </tr>\n",
       "    <tr>\n",
       "      <th>64</th>\n",
       "      <td>65</td>\n",
       "      <td>50</td>\n",
       "      <td>1</td>\n",
       "      <td>1</td>\n",
       "    </tr>\n",
       "    <tr>\n",
       "      <th>117</th>\n",
       "      <td>118</td>\n",
       "      <td>83</td>\n",
       "      <td>1</td>\n",
       "      <td>1</td>\n",
       "    </tr>\n",
       "    <tr>\n",
       "      <th>47</th>\n",
       "      <td>48</td>\n",
       "      <td>73</td>\n",
       "      <td>0</td>\n",
       "      <td>1</td>\n",
       "    </tr>\n",
       "    <tr>\n",
       "      <th>44</th>\n",
       "      <td>45</td>\n",
       "      <td>122</td>\n",
       "      <td>0</td>\n",
       "      <td>1</td>\n",
       "    </tr>\n",
       "  </tbody>\n",
       "</table>\n",
       "<p>100 rows × 4 columns</p>\n",
       "</div>"
      ],
      "text/plain": [
       "     Rank  Economy  Income Group(Strength/Weakness)  Strength / Weakness\n",
       "116   117       12                                1                    1\n",
       "13     14       45                                1                    1\n",
       "33     34       62                                1                    1\n",
       "75     76       76                                1                    1\n",
       "26     27       28                                1                    1\n",
       "..    ...      ...                              ...                  ...\n",
       "67     68        3                                1                    1\n",
       "64     65       50                                1                    1\n",
       "117   118       83                                1                    1\n",
       "47     48       73                                0                    1\n",
       "44     45      122                                0                    1\n",
       "\n",
       "[100 rows x 4 columns]"
      ]
     },
     "execution_count": 45,
     "metadata": {},
     "output_type": "execute_result"
    }
   ],
   "source": [
    "x_train"
   ]
  },
  {
   "cell_type": "code",
   "execution_count": 46,
   "metadata": {},
   "outputs": [
    {
     "data": {
      "text/plain": [
       "116    22.9\n",
       "13     54.6\n",
       "33     43.2\n",
       "75     31.1\n",
       "26     48.7\n",
       "       ... \n",
       "67     32.8\n",
       "64     33.4\n",
       "117    22.4\n",
       "47     37.6\n",
       "44     37.9\n",
       "Name: Score, Length: 100, dtype: float64"
      ]
     },
     "execution_count": 46,
     "metadata": {},
     "output_type": "execute_result"
    }
   ],
   "source": [
    "y_train"
   ]
  },
  {
   "cell_type": "markdown",
   "metadata": {},
   "source": [
    "# Feature scaling"
   ]
  },
  {
   "cell_type": "code",
   "execution_count": 47,
   "metadata": {},
   "outputs": [],
   "source": [
    "x = x_train.iloc[:,:].values"
   ]
  },
  {
   "cell_type": "code",
   "execution_count": 48,
   "metadata": {},
   "outputs": [
    {
     "data": {
      "text/plain": [
       "array([[117,  12,   1,   1],\n",
       "       [ 14,  45,   1,   1],\n",
       "       [ 34,  62,   1,   1],\n",
       "       [ 76,  76,   1,   1],\n",
       "       [ 27,  28,   1,   1],\n",
       "       [121,  11,   1,   1],\n",
       "       [ 63,  24,   1,   1],\n",
       "       [ 61,  97,   1,   1],\n",
       "       [126, 123,   1,   1],\n",
       "       [ 79,  56,   1,   1],\n",
       "       [  4, 119,   1,   0],\n",
       "       [ 67,  16,   1,   1],\n",
       "       [  7,  36,   1,   1],\n",
       "       [ 60,  60,   1,   1],\n",
       "       [105,  44,   1,   1],\n",
       "       [ 96, 113,   1,   1],\n",
       "       [110,   1,   1,   1],\n",
       "       [ 52,  75,   1,   1],\n",
       "       [124,  18,   1,   1],\n",
       "       [ 69,  85,   1,   1],\n",
       "       [ 28, 104,   1,   1],\n",
       "       [ 19,  84,   1,   1],\n",
       "       [120, 124,   1,   1],\n",
       "       [ 12,  59,   1,   1],\n",
       "       [ 91,  14,   1,   1],\n",
       "       [ 74,  57,   1,   1],\n",
       "       [109,  86,   1,   1],\n",
       "       [ 90,  63,   1,   1],\n",
       "       [ 98,  19,   1,   1],\n",
       "       [  2,  80,   0,   0],\n",
       "       [ 77,  13,   1,   1],\n",
       "       [ 43, 117,   0,   1],\n",
       "       [ 42,  41,   1,   1],\n",
       "       [  5, 100,   1,   1],\n",
       "       [ 16,  37,   1,   1],\n",
       "       [ 18,  21,   1,   1],\n",
       "       [ 53,  74,   0,   1],\n",
       "       [ 41,  26,   0,   1],\n",
       "       [ 39,  91,   1,   1],\n",
       "       [  6, 120,   1,   1],\n",
       "       [ 54,  25,   1,   1],\n",
       "       [116,   8,   1,   1],\n",
       "       [ 94,  61,   1,   1],\n",
       "       [  1, 107,   0,   0],\n",
       "       [ 35,  68,   0,   1],\n",
       "       [ 29,  27,   1,   1],\n",
       "       [ 56,  72,   1,   1],\n",
       "       [ 36, 101,   1,   1],\n",
       "       [ 24,  35,   1,   1],\n",
       "       [ 75,  71,   1,   1],\n",
       "       [ 32,  92,   1,   1],\n",
       "       [102,  42,   1,   1],\n",
       "       [ 58, 103,   1,   1],\n",
       "       [ 97,  32,   1,   1],\n",
       "       [108,  79,   1,   1],\n",
       "       [ 33,  46,   1,   1],\n",
       "       [106,  66,   1,   1],\n",
       "       [ 15,  65,   1,   1],\n",
       "       [ 86,   9,   1,   1],\n",
       "       [ 20,   4,   1,   1],\n",
       "       [ 30, 102,   1,   1],\n",
       "       [ 50, 115,   1,   1],\n",
       "       [107,  40,   1,   1],\n",
       "       [ 83,   0,   1,   1],\n",
       "       [123,  29,   1,   1],\n",
       "       [125, 112,   1,   1],\n",
       "       [ 80,   2,   1,   1],\n",
       "       [ 70,  87,   1,   1],\n",
       "       [ 81,  54,   1,   1],\n",
       "       [ 21,   5,   1,   1],\n",
       "       [119,  43,   1,   1],\n",
       "       [ 73,  90,   1,   1],\n",
       "       [ 78,  58,   1,   1],\n",
       "       [ 26,  70,   1,   1],\n",
       "       [ 38, 118,   1,   1],\n",
       "       [ 82,   6,   1,   1],\n",
       "       [111,  20,   1,   1],\n",
       "       [ 47,  22,   1,   1],\n",
       "       [114,  67,   1,   1],\n",
       "       [ 40,  64,   1,   1],\n",
       "       [103, 116,   1,   1],\n",
       "       [ 66, 114,   1,   1],\n",
       "       [ 59,  38,   0,   1],\n",
       "       [ 13,  55,   1,   1],\n",
       "       [112,  69,   1,   1],\n",
       "       [ 89,  88,   1,   1],\n",
       "       [ 71,  89,   1,   1],\n",
       "       [ 88, 105,   1,   1],\n",
       "       [ 37,  17,   0,   1],\n",
       "       [115,  77,   1,   1],\n",
       "       [ 22,  81,   1,   1],\n",
       "       [ 84, 108,   1,   1],\n",
       "       [ 10,  51,   1,   1],\n",
       "       [104,  34,   1,   1],\n",
       "       [122,  82,   1,   1],\n",
       "       [ 68,   3,   1,   1],\n",
       "       [ 65,  50,   1,   1],\n",
       "       [118,  83,   1,   1],\n",
       "       [ 48,  73,   0,   1],\n",
       "       [ 45, 122,   0,   1]], dtype=int64)"
      ]
     },
     "execution_count": 48,
     "metadata": {},
     "output_type": "execute_result"
    }
   ],
   "source": [
    "x"
   ]
  },
  {
   "cell_type": "code",
   "execution_count": 49,
   "metadata": {},
   "outputs": [],
   "source": [
    "y = y_train.iloc[:].values"
   ]
  },
  {
   "cell_type": "code",
   "execution_count": 50,
   "metadata": {},
   "outputs": [
    {
     "data": {
      "text/plain": [
       "array([22.9, 54.6, 43.2, 31.1, 48.7, 20.6, 33.8, 34.3, 15. , 30.8, 60.1,\n",
       "       32.8, 59.6, 34.4, 24.9, 27. , 23.9, 36.5, 18.9, 32.8, 48.7, 52.6,\n",
       "       20.7, 56.6, 28.2, 31.4, 24.1, 28.2, 26.7, 63.3, 31.1, 38.5, 38.9,\n",
       "       59.8, 54.4, 53. , 35.9, 40.7, 41.7, 59.8, 35.7, 23.1, 27.6, 68.4,\n",
       "       43. , 47.8, 35.3, 42.9, 50.5, 31.3, 45.7, 25.5, 35.1, 26.8, 24.2,\n",
       "       44.9, 24.8, 54.5, 29.4, 52. , 46.9, 37.4, 24.5, 30. , 20. , 18.9,\n",
       "       30.7, 32.4, 30.4, 51.3, 20.7, 31.6, 31.1, 50.3, 42.6, 30.2, 23.8,\n",
       "       37.8, 23.1, 41.2, 25.3, 32.9, 35. , 55. , 23.3, 28.7, 31.8, 28.7,\n",
       "       42.6, 23.1, 51.3, 29.9, 57.2, 25.1, 20.6, 32.8, 33.4, 22.4, 37.6,\n",
       "       37.9])"
      ]
     },
     "execution_count": 50,
     "metadata": {},
     "output_type": "execute_result"
    }
   ],
   "source": [
    "y"
   ]
  },
  {
   "cell_type": "markdown",
   "metadata": {},
   "source": [
    "# Model Building "
   ]
  },
  {
   "cell_type": "code",
   "execution_count": 51,
   "metadata": {},
   "outputs": [],
   "source": [
    "# Instantiate Multiple linear regrssion model\n",
    "from sklearn import linear_model as lm\n",
    "model=lm.LinearRegression()\n",
    "results=model.fit(x,y)"
   ]
  },
  {
   "cell_type": "code",
   "execution_count": 52,
   "metadata": {},
   "outputs": [],
   "source": [
    "predictions = model.predict(x)"
   ]
  },
  {
   "cell_type": "code",
   "execution_count": 53,
   "metadata": {},
   "outputs": [
    {
     "name": "stdout",
     "output_type": "stream",
     "text": [
      "Accuracy of the model: 0.9638933998073489\n"
     ]
    }
   ],
   "source": [
    "#Check model accuracy\n",
    "accuracy=model.score(x,y)\n",
    "print('Accuracy of the model:', accuracy)"
   ]
  },
  {
   "cell_type": "code",
   "execution_count": 54,
   "metadata": {},
   "outputs": [
    {
     "data": {
      "text/plain": [
       "<matplotlib.collections.PathCollection at 0x1df1f63f0c8>"
      ]
     },
     "execution_count": 54,
     "metadata": {},
     "output_type": "execute_result"
    },
    {
     "data": {
      "image/png": "[encoded data removed]",
      "text/plain": [
       "<Figure size 432x288 with 1 Axes>"
      ]
     },
     "metadata": {
      "needs_background": "light"
     },
     "output_type": "display_data"
    }
   ],
   "source": [
    "#Visualize the predictions\n",
    "plt.scatter(y, predictions)"
   ]
  },
  {
   "cell_type": "code",
   "execution_count": 55,
   "metadata": {},
   "outputs": [
    {
     "name": "stdout",
     "output_type": "stream",
     "text": [
      "New Quantities of features=[[61, 97, 1, 1]], Score=[37.10843769]\n"
     ]
    }
   ],
   "source": [
    "#Define new data instance\n",
    "xnew = [[61,  97,   1,   1]]\n",
    "\n",
    "#Make a Prediction\n",
    "ynew = model.predict(xnew)\n",
    "\n",
    "#Show the inputs and predicted outputs\n",
    "print(\"New Quantities of features=%s, Score=%s\" % (xnew,ynew))"
   ]
  },
  {
   "cell_type": "code",
   "execution_count": 56,
   "metadata": {},
   "outputs": [],
   "source": [
    "#Evaluating the model \n",
    "from sklearn.metrics import mean_squared_error, r2_score\n",
    "y_train_prediction = model.predict(x_train)\n",
    "y_test_prediction = model.predict(x_test)"
   ]
  },
  {
   "cell_type": "code",
   "execution_count": 57,
   "metadata": {},
   "outputs": [
    {
     "name": "stdout",
     "output_type": "stream",
     "text": [
      "The model performance for training set\n",
      "--------------------------------------\n",
      "RMSE is 2.3022443158670507\n",
      "R2 score is 0.9638933998073489\n",
      "\n",
      "\n",
      "The model performance for testing set\n",
      "--------------------------------------\n",
      "Root mean squared error:  2.8493024946475902\n",
      "R2 score:  0.9411498291929207\n"
     ]
    }
   ],
   "source": [
    "# model evaluation for training set\n",
    "import numpy as np\n",
    "rmse_training = (np.sqrt(mean_squared_error(y_train, y_train_prediction)))\n",
    "r2_training = r2_score(y_train, y_train_prediction)\n",
    "\n",
    "print(\"The model performance for training set\")\n",
    "print(\"--------------------------------------\")\n",
    "print('RMSE is {}'.format(rmse_training))\n",
    "print('R2 score is {}'.format(r2_training))\n",
    "print(\"\\n\")\n",
    "\n",
    "# model evaluation for testing set\n",
    "rmse_testing = (np.sqrt(mean_squared_error(y_test, y_test_prediction)))\n",
    "r2_testing = r2_score(y_test, y_test_prediction)\n",
    "\n",
    "print(\"The model performance for testing set\")\n",
    "print(\"--------------------------------------\")\n",
    "print('Root mean squared error: ', rmse_testing)\n",
    "print('R2 score: ', r2_testing)"
   ]
  },
  {
   "cell_type": "code",
   "execution_count": 58,
   "metadata": {},
   "outputs": [
    {
     "data": {
      "text/plain": [
       "RandomForestRegressor(bootstrap=True, ccp_alpha=0.0, criterion='mse',\n",
       "                      max_depth=None, max_features='auto', max_leaf_nodes=None,\n",
       "                      max_samples=None, min_impurity_decrease=0.0,\n",
       "                      min_impurity_split=None, min_samples_leaf=1,\n",
       "                      min_samples_split=2, min_weight_fraction_leaf=0.0,\n",
       "                      n_estimators=10, n_jobs=None, oob_score=False,\n",
       "                      random_state=0, verbose=0, warm_start=False)"
      ]
     },
     "execution_count": 58,
     "metadata": {},
     "output_type": "execute_result"
    }
   ],
   "source": [
    "#Random forest regression\n",
    "from sklearn.ensemble import RandomForestRegressor\n",
    "import math\n",
    "import sklearn.metrics as metrics\n",
    "regressor = RandomForestRegressor(n_estimators = 10, random_state = 0)\n",
    "regressor.fit(x, y) "
   ]
  },
  {
   "cell_type": "code",
   "execution_count": 59,
   "metadata": {},
   "outputs": [
    {
     "name": "stdout",
     "output_type": "stream",
     "text": [
      "Accuracy of the model: 0.999332001223243\n"
     ]
    }
   ],
   "source": [
    "accuracy=regressor.score(x,y)\n",
    "print('Accuracy of the model:', accuracy)"
   ]
  },
  {
   "cell_type": "code",
   "execution_count": 60,
   "metadata": {},
   "outputs": [],
   "source": [
    "y_pred = regressor.predict([[61, 97, 1, 1]])"
   ]
  },
  {
   "cell_type": "code",
   "execution_count": 61,
   "metadata": {},
   "outputs": [
    {
     "data": {
      "text/plain": [
       "array([34.37])"
      ]
     },
     "execution_count": 61,
     "metadata": {},
     "output_type": "execute_result"
    }
   ],
   "source": [
    "y_pred"
   ]
  },
  {
   "cell_type": "code",
   "execution_count": 62,
   "metadata": {},
   "outputs": [
    {
     "name": "stdout",
     "output_type": "stream",
     "text": [
      "TRAINING SET\n",
      "============\n",
      "RMSE:                0.31314533367112474\n",
      "r2:                  0.999332001223243\n",
      "TESTING SET\n",
      "============\n",
      "RMSE:                0.3786463745014283\n",
      "r2:                  0.9989607064865098\n"
     ]
    }
   ],
   "source": [
    "# Show model results of training set\n",
    "y_hat = regressor.predict(x_train)\n",
    "mse = metrics.mean_squared_error(y_train,y_hat)\n",
    "print (\"TRAINING SET\")\n",
    "print (\"============\")\n",
    "print (\"RMSE:               \", math.sqrt(mse))\n",
    "print (\"r2:                 \", regressor.score(x_train,y_train))\n",
    "# Show model results of testing set\n",
    "y_hat = regressor.predict(x_test)\n",
    "mse = metrics.mean_squared_error(y_test,y_hat)\n",
    "print (\"TESTING SET\")\n",
    "print (\"============\")\n",
    "print (\"RMSE:               \", math.sqrt(mse))\n",
    "print (\"r2:                 \", regressor.score(x_test,y_test))"
   ]
  },
  {
   "cell_type": "markdown",
   "metadata": {},
   "source": [
    "Observation 1.This Random Forest Regressor has a higher R-squared compared to Multiple linear regression model and the best RMSE Score"
   ]
  },
  {
   "cell_type": "code",
   "execution_count": 63,
   "metadata": {},
   "outputs": [],
   "source": [
    "#Fit Decision Tree Regression Model to the dataset\n",
    "from sklearn.tree import DecisionTreeRegressor\n",
    "#Create the Decision Tree regressor object \n",
    "dtr = DecisionTreeRegressor(random_state=0)"
   ]
  },
  {
   "cell_type": "code",
   "execution_count": 64,
   "metadata": {},
   "outputs": [
    {
     "data": {
      "text/plain": [
       "DecisionTreeRegressor(ccp_alpha=0.0, criterion='mse', max_depth=None,\n",
       "                      max_features=None, max_leaf_nodes=None,\n",
       "                      min_impurity_decrease=0.0, min_impurity_split=None,\n",
       "                      min_samples_leaf=1, min_samples_split=2,\n",
       "                      min_weight_fraction_leaf=0.0, presort='deprecated',\n",
       "                      random_state=0, splitter='best')"
      ]
     },
     "execution_count": 64,
     "metadata": {},
     "output_type": "execute_result"
    }
   ],
   "source": [
    "#Fit the regressor object to the dataset.\n",
    "dtr.fit(x,y)"
   ]
  },
  {
   "cell_type": "code",
   "execution_count": 65,
   "metadata": {},
   "outputs": [],
   "source": [
    "#Predict a new result\n",
    "y_pred1 = dtr.predict([[61, 97, 1, 1]])"
   ]
  },
  {
   "cell_type": "code",
   "execution_count": 66,
   "metadata": {},
   "outputs": [
    {
     "data": {
      "text/plain": [
       "array([34.3])"
      ]
     },
     "execution_count": 66,
     "metadata": {},
     "output_type": "execute_result"
    }
   ],
   "source": [
    "y_pred1"
   ]
  },
  {
   "cell_type": "code",
   "execution_count": 67,
   "metadata": {},
   "outputs": [
    {
     "name": "stdout",
     "output_type": "stream",
     "text": [
      "Accuracy of the model: 1.0\n"
     ]
    }
   ],
   "source": [
    "accuracy=dtr.score(x,y)\n",
    "print('Accuracy of the model:', accuracy)"
   ]
  },
  {
   "cell_type": "code",
   "execution_count": 68,
   "metadata": {},
   "outputs": [
    {
     "name": "stdout",
     "output_type": "stream",
     "text": [
      "TRAINING SET\n",
      "============\n",
      "RMSE:                8.702335715267317e-16\n",
      "r2:                  1.0\n",
      "TESTING SET\n",
      "============\n",
      "RMSE:                0.5650051054908873\n",
      "r2:                  0.9976859360565584\n"
     ]
    }
   ],
   "source": [
    "# Show model results of training set\n",
    "y_hat = dtr.predict(x_train)\n",
    "mse = metrics.mean_squared_error(y_train,y_hat)\n",
    "print (\"TRAINING SET\")\n",
    "print (\"============\")\n",
    "print (\"RMSE:               \", math.sqrt(mse))\n",
    "print (\"r2:                 \", dtr.score(x_train,y_train))\n",
    "# Show model results of testing set\n",
    "y_hat = dtr.predict(x_test)\n",
    "mse = metrics.mean_squared_error(y_test,y_hat)\n",
    "print (\"TESTING SET\")\n",
    "print (\"============\")\n",
    "print (\"RMSE:               \", math.sqrt(mse))\n",
    "print (\"r2:                 \", dtr.score(x_test,y_test))"
   ]
  },
  {
   "cell_type": "code",
   "execution_count": 69,
   "metadata": {},
   "outputs": [
    {
     "data": {
      "text/plain": [
       "<matplotlib.collections.PathCollection at 0x1df1f635d08>"
      ]
     },
     "execution_count": 69,
     "metadata": {},
     "output_type": "execute_result"
    },
    {
     "data": {
      "image/png": "[encoded data removed]",
      "text/plain": [
       "<Figure size 432x288 with 1 Axes>"
      ]
     },
     "metadata": {
      "needs_background": "light"
     },
     "output_type": "display_data"
    }
   ],
   "source": [
    "#Visualize the predictions\n",
    "predictions = dtr.predict(x_train)\n",
    "plt.scatter(y_train, predictions)"
   ]
  }
 ],
 "metadata": {
  "kernelspec": {
   "display_name": "Python 3",
   "language": "python",
   "name": "python3"
  },
  "language_info": {
   "codemirror_mode": {
    "name": "ipython",
    "version": 3
   },
   "file_extension": ".py",
   "mimetype": "text/x-python",
   "name": "python",
   "nbconvert_exporter": "python",
   "pygments_lexer": "ipython3",
   "version": "3.7.6"
  }
 },
 "nbformat": 4,
 "nbformat_minor": 4
}
